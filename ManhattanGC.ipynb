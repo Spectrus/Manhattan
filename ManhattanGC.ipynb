{
 "cells": [
  {
   "cell_type": "code",
   "execution_count": 23,
   "metadata": {},
   "outputs": [
    {
     "data": {
      "application/vnd.plotly.v1+json": {
       "config": {
        "plotlyServerURL": "https://plot.ly"
       },
       "data": [
        {
         "hovertemplate": "pred=False<br>dtr=%{x}<br>qtd=%{y}<extra></extra>",
         "legendgroup": "False",
         "line": {
          "color": "#636efa",
          "dash": "solid"
         },
         "marker": {
          "symbol": "circle"
         },
         "mode": "markers+lines",
         "name": "False",
         "orientation": "v",
         "showlegend": true,
         "type": "scatter",
         "x": [
          "Janeiro/22/01",
          "Janeiro/22/02",
          "Janeiro/22/03",
          "Janeiro/22/04",
          "Janeiro/22/05",
          "Janeiro/22/06",
          "Janeiro/22/07",
          "Janeiro/22/08",
          "Janeiro/22/09",
          "Janeiro/22/10",
          "Janeiro/22/11",
          "Janeiro/22/12",
          "Janeiro/22/13",
          "Janeiro/22/14",
          "Janeiro/22/15",
          "Janeiro/22/16",
          "Janeiro/22/17",
          "Janeiro/22/18",
          "Janeiro/22/19",
          "Janeiro/22/20",
          "Janeiro/22/21",
          "Janeiro/22/22",
          "Janeiro/22/23",
          "Janeiro/22/24",
          "Janeiro/22/25",
          "Janeiro/22/26",
          "Janeiro/22/27",
          "Janeiro/22/28",
          "Janeiro/22/29",
          "Janeiro/22/30",
          "Janeiro/22/31",
          "Fevereiro/22/01",
          "Fevereiro/22/02",
          "Fevereiro/22/03",
          "Fevereiro/22/04",
          "Fevereiro/22/05",
          "Fevereiro/22/06",
          "Fevereiro/22/07",
          "Fevereiro/22/08",
          "Fevereiro/22/09",
          "Fevereiro/22/10",
          "Fevereiro/22/11",
          "Fevereiro/22/12",
          "Fevereiro/22/13",
          "Fevereiro/22/14",
          "Fevereiro/22/15",
          "Fevereiro/22/16",
          "Fevereiro/22/17",
          "Fevereiro/22/18",
          "Fevereiro/22/19",
          "Fevereiro/22/20",
          "Fevereiro/22/21",
          "Fevereiro/22/22",
          "Fevereiro/22/23",
          "Fevereiro/22/24",
          "Fevereiro/22/25",
          "Fevereiro/22/26",
          "Fevereiro/22/27",
          "Fevereiro/22/28",
          "Março/22/01",
          "Março/22/02",
          "Março/22/03",
          "Março/22/04",
          "Março/22/05",
          "Março/22/06",
          "Março/22/07",
          "Março/22/08",
          "Março/22/09",
          "Março/22/10",
          "Março/22/11",
          "Março/22/12",
          "Março/22/13",
          "Março/22/14",
          "Março/22/15",
          "Março/22/16",
          "Março/22/17",
          "Março/22/18",
          "Março/22/19",
          "Março/22/20",
          "Março/22/21",
          "Março/22/22",
          "Março/22/23",
          "Março/22/24",
          "Março/22/25",
          "Março/22/26",
          "Março/22/27",
          "Março/22/28",
          "Março/22/29",
          "Março/22/30",
          "Março/22/31",
          "Abril/22/01",
          "Abril/22/02",
          "Abril/22/03",
          "Abril/22/04",
          "Abril/22/05",
          "Abril/22/06",
          "Abril/22/07",
          "Abril/22/08",
          "Abril/22/09",
          "Abril/22/10",
          "Abril/22/11",
          "Abril/22/12",
          "Abril/22/13",
          "Abril/22/14",
          "Abril/22/15",
          "Abril/22/16",
          "Abril/22/17",
          "Abril/22/18",
          "Abril/22/19",
          "Abril/22/20",
          "Abril/22/21"
         ],
         "xaxis": "x",
         "y": [
          1779,
          2953,
          3588,
          3407,
          3330,
          3320,
          4518,
          3056,
          2889,
          3285,
          3366,
          3333,
          3174,
          3979,
          2509,
          2384,
          3166,
          3839,
          3717,
          4676,
          4478,
          3836,
          2529,
          4604,
          3752,
          4027,
          4393,
          4548,
          3466,
          2955,
          4944,
          4201,
          4343,
          4135,
          5498,
          4009,
          3110,
          4918,
          4733,
          4361,
          5105,
          5555,
          4356,
          3604,
          5052,
          4849,
          4976,
          5155,
          5751,
          4336,
          3732,
          5537,
          5404,
          4391,
          5094,
          7670,
          5891,
          2964,
          3128,
          3027,
          4069,
          5616,
          6096,
          4664,
          3377,
          5344,
          5381,
          5876,
          12618,
          5052,
          3023,
          2287,
          3385,
          3103,
          3160,
          2665,
          5392,
          3846,
          3099,
          4428,
          4538,
          4453,
          4684,
          6003,
          4254,
          3032,
          4692,
          4373,
          4759,
          5991,
          5556,
          3700,
          3293,
          4367,
          4542,
          3533,
          3698,
          4796,
          3129,
          3187,
          3902,
          3601,
          5043,
          7195,
          3863,
          2697,
          2847,
          4269,
          3554,
          4760,
          4387
         ],
         "yaxis": "y"
        },
        {
         "hovertemplate": "pred=True<br>dtr=%{x}<br>qtd=%{y}<extra></extra>",
         "legendgroup": "True",
         "line": {
          "color": "#EF553B",
          "dash": "solid"
         },
         "marker": {
          "symbol": "circle"
         },
         "mode": "markers+lines",
         "name": "True",
         "orientation": "v",
         "showlegend": true,
         "type": "scatter",
         "x": [
          "Abril/22/22",
          "Abril/22/23",
          "Abril/22/24",
          "Abril/22/25",
          "Abril/22/26",
          "Abril/22/27",
          "Abril/22/28",
          "Abril/22/29",
          "Abril/22/30",
          "Maio/22/01",
          "Maio/22/02",
          "Maio/22/03",
          "Maio/22/04",
          "Maio/22/05",
          "Maio/22/06",
          "Maio/22/07",
          "Maio/22/08",
          "Maio/22/09",
          "Maio/22/10",
          "Maio/22/11",
          "Maio/22/12",
          "Maio/22/13",
          "Maio/22/14"
         ],
         "xaxis": "x",
         "y": [
          3123.83,
          3348.14,
          5376.3,
          3540.33,
          3711.75,
          5028.85,
          4720.5,
          2971.6,
          3123.8,
          5966.5,
          5966.5,
          2623.6,
          3540.3,
          5601.3,
          5966.5,
          5028.8,
          4018,
          3123.8,
          3348.1,
          4018,
          3540.33,
          2971.5,
          4388.45
         ],
         "yaxis": "y"
        },
        {
         "mode": "lines+markers",
         "name": "eTo",
         "type": "scatter",
         "x": [
          "Janeiro/22/01",
          "Janeiro/22/02",
          "Janeiro/22/03",
          "Janeiro/22/04",
          "Janeiro/22/05",
          "Janeiro/22/06",
          "Janeiro/22/07",
          "Janeiro/22/08",
          "Janeiro/22/09",
          "Janeiro/22/10",
          "Janeiro/22/11",
          "Janeiro/22/12",
          "Janeiro/22/13",
          "Janeiro/22/14",
          "Janeiro/22/15",
          "Janeiro/22/16",
          "Janeiro/22/17",
          "Janeiro/22/18",
          "Janeiro/22/19",
          "Janeiro/22/20",
          "Janeiro/22/21",
          "Janeiro/22/22",
          "Janeiro/22/23",
          "Janeiro/22/24",
          "Janeiro/22/25",
          "Janeiro/22/26",
          "Janeiro/22/27",
          "Janeiro/22/28",
          "Janeiro/22/29",
          "Janeiro/22/30",
          "Janeiro/22/31",
          "Fevereiro/22/01",
          "Fevereiro/22/02",
          "Fevereiro/22/03",
          "Fevereiro/22/04",
          "Fevereiro/22/05",
          "Fevereiro/22/06",
          "Fevereiro/22/07",
          "Fevereiro/22/08",
          "Fevereiro/22/09",
          "Fevereiro/22/10",
          "Fevereiro/22/11",
          "Fevereiro/22/12",
          "Fevereiro/22/13",
          "Fevereiro/22/14",
          "Fevereiro/22/15",
          "Fevereiro/22/16",
          "Fevereiro/22/17",
          "Fevereiro/22/18",
          "Fevereiro/22/19",
          "Fevereiro/22/20",
          "Fevereiro/22/21",
          "Fevereiro/22/22",
          "Fevereiro/22/23",
          "Fevereiro/22/24",
          "Fevereiro/22/25",
          "Fevereiro/22/26",
          "Fevereiro/22/27",
          "Fevereiro/22/28",
          "Março/22/01",
          "Março/22/02",
          "Março/22/03",
          "Março/22/04",
          "Março/22/05",
          "Março/22/06",
          "Março/22/07",
          "Março/22/08",
          "Março/22/09",
          "Março/22/10",
          "Março/22/11",
          "Março/22/12",
          "Março/22/13",
          "Março/22/14",
          "Março/22/15",
          "Março/22/16",
          "Março/22/17",
          "Março/22/18",
          "Março/22/19",
          "Março/22/20",
          "Março/22/21",
          "Março/22/22",
          "Março/22/23",
          "Março/22/24",
          "Março/22/25",
          "Março/22/26",
          "Março/22/27",
          "Março/22/28",
          "Março/22/29",
          "Março/22/30",
          "Março/22/31",
          "Abril/22/01",
          "Abril/22/02",
          "Abril/22/03",
          "Abril/22/04",
          "Abril/22/05",
          "Abril/22/06",
          "Abril/22/07",
          "Abril/22/08",
          "Abril/22/09",
          "Abril/22/10",
          "Abril/22/11",
          "Abril/22/12",
          "Abril/22/13",
          "Abril/22/14",
          "Abril/22/15",
          "Abril/22/16",
          "Abril/22/17",
          "Abril/22/18",
          "Abril/22/19",
          "Abril/22/20",
          "Abril/22/21",
          "Abril/22/22",
          "Abril/22/23",
          "Abril/22/24",
          "Abril/22/25",
          "Abril/22/26",
          "Abril/22/27",
          "Abril/22/28",
          "Abril/22/29",
          "Abril/22/30",
          "Maio/22/01",
          "Maio/22/02",
          "Maio/22/03",
          "Maio/22/04",
          "Maio/22/05",
          "Maio/22/06",
          "Maio/22/07",
          "Maio/22/08",
          "Maio/22/09",
          "Maio/22/10",
          "Maio/22/11",
          "Maio/22/12",
          "Maio/22/13",
          "Maio/22/14"
         ],
         "y": [
          11774.34,
          6798.69,
          11798.69,
          6643.3,
          11643.3,
          5892.26,
          15892.26,
          11556.15,
          7823.84,
          12823.84,
          7286.92,
          12286.92,
          17286.92,
          11882.71,
          7491.69,
          12491.69,
          7397.38,
          12397.38,
          4727.14,
          14727.14,
          8835.71,
          5871.72,
          15871.72,
          12743.36,
          9716.21,
          14716.21,
          10647.5,
          5031.44,
          15031.44,
          20031.44,
          13935.28,
          18935.28,
          23935.28,
          19271.7,
          15894.39,
          25894.39,
          20550.13,
          15169.26,
          30169.26,
          24293.31,
          11674.91,
          6622.42,
          11622.42,
          8599.14,
          6312,
          2927.44,
          7927.44,
          4824.07,
          9824.07,
          6664.09,
          3998.67,
          8998.67,
          3607.06,
          13607.06,
          9760.83,
          6661.72,
          11661.72,
          7234.14,
          2696.22,
          7696.22,
          3243.53,
          8243.53,
          3559.67,
          8559.67,
          2557.13,
          12557.13,
          17557.13,
          13303.33,
          10271.34,
          20271.34,
          15579.18,
          11206.09,
          6447.3,
          11447.3,
          5456.67,
          10456.67,
          4901.07,
          14901.07,
          11201.38,
          7908.19,
          12908.19,
          8540.87,
          13540.87,
          8998.51,
          13998.51,
          10465.91,
          6767.59,
          11767.59,
          6971.71,
          11971.71,
          8842.74,
          5655.57,
          10655.57,
          6753.13,
          11753.13,
          8152.43,
          13152.43,
          8109.08,
          18109.08,
          10914.47,
          7051.17,
          12051.17,
          17051.17,
          14354.64,
          12823.84,
          11507.91,
          21507.91,
          17238.72,
          13684.89,
          18684.89,
          13924.64,
          9538,
          6414.17,
          3066.03,
          13066,
          "",
          "",
          "",
          "",
          "",
          "",
          "",
          "",
          "",
          "",
          "",
          "",
          "",
          " ",
          " ",
          "",
          "",
          "",
          ""
         ]
        }
       ],
       "layout": {
        "legend": {
         "title": {
          "text": "pred"
         },
         "tracegroupgap": 0
        },
        "margin": {
         "t": 60
        },
        "template": {
         "data": {
          "bar": [
           {
            "error_x": {
             "color": "#2a3f5f"
            },
            "error_y": {
             "color": "#2a3f5f"
            },
            "marker": {
             "line": {
              "color": "#E5ECF6",
              "width": 0.5
             },
             "pattern": {
              "fillmode": "overlay",
              "size": 10,
              "solidity": 0.2
             }
            },
            "type": "bar"
           }
          ],
          "barpolar": [
           {
            "marker": {
             "line": {
              "color": "#E5ECF6",
              "width": 0.5
             },
             "pattern": {
              "fillmode": "overlay",
              "size": 10,
              "solidity": 0.2
             }
            },
            "type": "barpolar"
           }
          ],
          "carpet": [
           {
            "aaxis": {
             "endlinecolor": "#2a3f5f",
             "gridcolor": "white",
             "linecolor": "white",
             "minorgridcolor": "white",
             "startlinecolor": "#2a3f5f"
            },
            "baxis": {
             "endlinecolor": "#2a3f5f",
             "gridcolor": "white",
             "linecolor": "white",
             "minorgridcolor": "white",
             "startlinecolor": "#2a3f5f"
            },
            "type": "carpet"
           }
          ],
          "choropleth": [
           {
            "colorbar": {
             "outlinewidth": 0,
             "ticks": ""
            },
            "type": "choropleth"
           }
          ],
          "contour": [
           {
            "colorbar": {
             "outlinewidth": 0,
             "ticks": ""
            },
            "colorscale": [
             [
              0,
              "#0d0887"
             ],
             [
              0.1111111111111111,
              "#46039f"
             ],
             [
              0.2222222222222222,
              "#7201a8"
             ],
             [
              0.3333333333333333,
              "#9c179e"
             ],
             [
              0.4444444444444444,
              "#bd3786"
             ],
             [
              0.5555555555555556,
              "#d8576b"
             ],
             [
              0.6666666666666666,
              "#ed7953"
             ],
             [
              0.7777777777777778,
              "#fb9f3a"
             ],
             [
              0.8888888888888888,
              "#fdca26"
             ],
             [
              1,
              "#f0f921"
             ]
            ],
            "type": "contour"
           }
          ],
          "contourcarpet": [
           {
            "colorbar": {
             "outlinewidth": 0,
             "ticks": ""
            },
            "type": "contourcarpet"
           }
          ],
          "heatmap": [
           {
            "colorbar": {
             "outlinewidth": 0,
             "ticks": ""
            },
            "colorscale": [
             [
              0,
              "#0d0887"
             ],
             [
              0.1111111111111111,
              "#46039f"
             ],
             [
              0.2222222222222222,
              "#7201a8"
             ],
             [
              0.3333333333333333,
              "#9c179e"
             ],
             [
              0.4444444444444444,
              "#bd3786"
             ],
             [
              0.5555555555555556,
              "#d8576b"
             ],
             [
              0.6666666666666666,
              "#ed7953"
             ],
             [
              0.7777777777777778,
              "#fb9f3a"
             ],
             [
              0.8888888888888888,
              "#fdca26"
             ],
             [
              1,
              "#f0f921"
             ]
            ],
            "type": "heatmap"
           }
          ],
          "heatmapgl": [
           {
            "colorbar": {
             "outlinewidth": 0,
             "ticks": ""
            },
            "colorscale": [
             [
              0,
              "#0d0887"
             ],
             [
              0.1111111111111111,
              "#46039f"
             ],
             [
              0.2222222222222222,
              "#7201a8"
             ],
             [
              0.3333333333333333,
              "#9c179e"
             ],
             [
              0.4444444444444444,
              "#bd3786"
             ],
             [
              0.5555555555555556,
              "#d8576b"
             ],
             [
              0.6666666666666666,
              "#ed7953"
             ],
             [
              0.7777777777777778,
              "#fb9f3a"
             ],
             [
              0.8888888888888888,
              "#fdca26"
             ],
             [
              1,
              "#f0f921"
             ]
            ],
            "type": "heatmapgl"
           }
          ],
          "histogram": [
           {
            "marker": {
             "pattern": {
              "fillmode": "overlay",
              "size": 10,
              "solidity": 0.2
             }
            },
            "type": "histogram"
           }
          ],
          "histogram2d": [
           {
            "colorbar": {
             "outlinewidth": 0,
             "ticks": ""
            },
            "colorscale": [
             [
              0,
              "#0d0887"
             ],
             [
              0.1111111111111111,
              "#46039f"
             ],
             [
              0.2222222222222222,
              "#7201a8"
             ],
             [
              0.3333333333333333,
              "#9c179e"
             ],
             [
              0.4444444444444444,
              "#bd3786"
             ],
             [
              0.5555555555555556,
              "#d8576b"
             ],
             [
              0.6666666666666666,
              "#ed7953"
             ],
             [
              0.7777777777777778,
              "#fb9f3a"
             ],
             [
              0.8888888888888888,
              "#fdca26"
             ],
             [
              1,
              "#f0f921"
             ]
            ],
            "type": "histogram2d"
           }
          ],
          "histogram2dcontour": [
           {
            "colorbar": {
             "outlinewidth": 0,
             "ticks": ""
            },
            "colorscale": [
             [
              0,
              "#0d0887"
             ],
             [
              0.1111111111111111,
              "#46039f"
             ],
             [
              0.2222222222222222,
              "#7201a8"
             ],
             [
              0.3333333333333333,
              "#9c179e"
             ],
             [
              0.4444444444444444,
              "#bd3786"
             ],
             [
              0.5555555555555556,
              "#d8576b"
             ],
             [
              0.6666666666666666,
              "#ed7953"
             ],
             [
              0.7777777777777778,
              "#fb9f3a"
             ],
             [
              0.8888888888888888,
              "#fdca26"
             ],
             [
              1,
              "#f0f921"
             ]
            ],
            "type": "histogram2dcontour"
           }
          ],
          "mesh3d": [
           {
            "colorbar": {
             "outlinewidth": 0,
             "ticks": ""
            },
            "type": "mesh3d"
           }
          ],
          "parcoords": [
           {
            "line": {
             "colorbar": {
              "outlinewidth": 0,
              "ticks": ""
             }
            },
            "type": "parcoords"
           }
          ],
          "pie": [
           {
            "automargin": true,
            "type": "pie"
           }
          ],
          "scatter": [
           {
            "fillpattern": {
             "fillmode": "overlay",
             "size": 10,
             "solidity": 0.2
            },
            "type": "scatter"
           }
          ],
          "scatter3d": [
           {
            "line": {
             "colorbar": {
              "outlinewidth": 0,
              "ticks": ""
             }
            },
            "marker": {
             "colorbar": {
              "outlinewidth": 0,
              "ticks": ""
             }
            },
            "type": "scatter3d"
           }
          ],
          "scattercarpet": [
           {
            "marker": {
             "colorbar": {
              "outlinewidth": 0,
              "ticks": ""
             }
            },
            "type": "scattercarpet"
           }
          ],
          "scattergeo": [
           {
            "marker": {
             "colorbar": {
              "outlinewidth": 0,
              "ticks": ""
             }
            },
            "type": "scattergeo"
           }
          ],
          "scattergl": [
           {
            "marker": {
             "colorbar": {
              "outlinewidth": 0,
              "ticks": ""
             }
            },
            "type": "scattergl"
           }
          ],
          "scattermapbox": [
           {
            "marker": {
             "colorbar": {
              "outlinewidth": 0,
              "ticks": ""
             }
            },
            "type": "scattermapbox"
           }
          ],
          "scatterpolar": [
           {
            "marker": {
             "colorbar": {
              "outlinewidth": 0,
              "ticks": ""
             }
            },
            "type": "scatterpolar"
           }
          ],
          "scatterpolargl": [
           {
            "marker": {
             "colorbar": {
              "outlinewidth": 0,
              "ticks": ""
             }
            },
            "type": "scatterpolargl"
           }
          ],
          "scatterternary": [
           {
            "marker": {
             "colorbar": {
              "outlinewidth": 0,
              "ticks": ""
             }
            },
            "type": "scatterternary"
           }
          ],
          "surface": [
           {
            "colorbar": {
             "outlinewidth": 0,
             "ticks": ""
            },
            "colorscale": [
             [
              0,
              "#0d0887"
             ],
             [
              0.1111111111111111,
              "#46039f"
             ],
             [
              0.2222222222222222,
              "#7201a8"
             ],
             [
              0.3333333333333333,
              "#9c179e"
             ],
             [
              0.4444444444444444,
              "#bd3786"
             ],
             [
              0.5555555555555556,
              "#d8576b"
             ],
             [
              0.6666666666666666,
              "#ed7953"
             ],
             [
              0.7777777777777778,
              "#fb9f3a"
             ],
             [
              0.8888888888888888,
              "#fdca26"
             ],
             [
              1,
              "#f0f921"
             ]
            ],
            "type": "surface"
           }
          ],
          "table": [
           {
            "cells": {
             "fill": {
              "color": "#EBF0F8"
             },
             "line": {
              "color": "white"
             }
            },
            "header": {
             "fill": {
              "color": "#C8D4E3"
             },
             "line": {
              "color": "white"
             }
            },
            "type": "table"
           }
          ]
         },
         "layout": {
          "annotationdefaults": {
           "arrowcolor": "#2a3f5f",
           "arrowhead": 0,
           "arrowwidth": 1
          },
          "autotypenumbers": "strict",
          "coloraxis": {
           "colorbar": {
            "outlinewidth": 0,
            "ticks": ""
           }
          },
          "colorscale": {
           "diverging": [
            [
             0,
             "#8e0152"
            ],
            [
             0.1,
             "#c51b7d"
            ],
            [
             0.2,
             "#de77ae"
            ],
            [
             0.3,
             "#f1b6da"
            ],
            [
             0.4,
             "#fde0ef"
            ],
            [
             0.5,
             "#f7f7f7"
            ],
            [
             0.6,
             "#e6f5d0"
            ],
            [
             0.7,
             "#b8e186"
            ],
            [
             0.8,
             "#7fbc41"
            ],
            [
             0.9,
             "#4d9221"
            ],
            [
             1,
             "#276419"
            ]
           ],
           "sequential": [
            [
             0,
             "#0d0887"
            ],
            [
             0.1111111111111111,
             "#46039f"
            ],
            [
             0.2222222222222222,
             "#7201a8"
            ],
            [
             0.3333333333333333,
             "#9c179e"
            ],
            [
             0.4444444444444444,
             "#bd3786"
            ],
            [
             0.5555555555555556,
             "#d8576b"
            ],
            [
             0.6666666666666666,
             "#ed7953"
            ],
            [
             0.7777777777777778,
             "#fb9f3a"
            ],
            [
             0.8888888888888888,
             "#fdca26"
            ],
            [
             1,
             "#f0f921"
            ]
           ],
           "sequentialminus": [
            [
             0,
             "#0d0887"
            ],
            [
             0.1111111111111111,
             "#46039f"
            ],
            [
             0.2222222222222222,
             "#7201a8"
            ],
            [
             0.3333333333333333,
             "#9c179e"
            ],
            [
             0.4444444444444444,
             "#bd3786"
            ],
            [
             0.5555555555555556,
             "#d8576b"
            ],
            [
             0.6666666666666666,
             "#ed7953"
            ],
            [
             0.7777777777777778,
             "#fb9f3a"
            ],
            [
             0.8888888888888888,
             "#fdca26"
            ],
            [
             1,
             "#f0f921"
            ]
           ]
          },
          "colorway": [
           "#636efa",
           "#EF553B",
           "#00cc96",
           "#ab63fa",
           "#FFA15A",
           "#19d3f3",
           "#FF6692",
           "#B6E880",
           "#FF97FF",
           "#FECB52"
          ],
          "font": {
           "color": "#2a3f5f"
          },
          "geo": {
           "bgcolor": "white",
           "lakecolor": "white",
           "landcolor": "#E5ECF6",
           "showlakes": true,
           "showland": true,
           "subunitcolor": "white"
          },
          "hoverlabel": {
           "align": "left"
          },
          "hovermode": "closest",
          "mapbox": {
           "style": "light"
          },
          "paper_bgcolor": "white",
          "plot_bgcolor": "#E5ECF6",
          "polar": {
           "angularaxis": {
            "gridcolor": "white",
            "linecolor": "white",
            "ticks": ""
           },
           "bgcolor": "#E5ECF6",
           "radialaxis": {
            "gridcolor": "white",
            "linecolor": "white",
            "ticks": ""
           }
          },
          "scene": {
           "xaxis": {
            "backgroundcolor": "#E5ECF6",
            "gridcolor": "white",
            "gridwidth": 2,
            "linecolor": "white",
            "showbackground": true,
            "ticks": "",
            "zerolinecolor": "white"
           },
           "yaxis": {
            "backgroundcolor": "#E5ECF6",
            "gridcolor": "white",
            "gridwidth": 2,
            "linecolor": "white",
            "showbackground": true,
            "ticks": "",
            "zerolinecolor": "white"
           },
           "zaxis": {
            "backgroundcolor": "#E5ECF6",
            "gridcolor": "white",
            "gridwidth": 2,
            "linecolor": "white",
            "showbackground": true,
            "ticks": "",
            "zerolinecolor": "white"
           }
          },
          "shapedefaults": {
           "line": {
            "color": "#2a3f5f"
           }
          },
          "ternary": {
           "aaxis": {
            "gridcolor": "white",
            "linecolor": "white",
            "ticks": ""
           },
           "baxis": {
            "gridcolor": "white",
            "linecolor": "white",
            "ticks": ""
           },
           "bgcolor": "#E5ECF6",
           "caxis": {
            "gridcolor": "white",
            "linecolor": "white",
            "ticks": ""
           }
          },
          "title": {
           "x": 0.05
          },
          "xaxis": {
           "automargin": true,
           "gridcolor": "white",
           "linecolor": "white",
           "ticks": "",
           "title": {
            "standoff": 15
           },
           "zerolinecolor": "white",
           "zerolinewidth": 2
          },
          "yaxis": {
           "automargin": true,
           "gridcolor": "white",
           "linecolor": "white",
           "ticks": "",
           "title": {
            "standoff": 15
           },
           "zerolinecolor": "white",
           "zerolinewidth": 2
          }
         }
        },
        "xaxis": {
         "anchor": "y",
         "domain": [
          0,
          1
         ],
         "title": {
          "text": "dtr"
         }
        },
        "yaxis": {
         "anchor": "x",
         "domain": [
          0,
          1
         ],
         "title": {
          "text": "qtd"
         }
        }
       }
      }
     },
     "metadata": {},
     "output_type": "display_data"
    },
    {
     "data": {
      "text/plain": [
       "'Abril/22/24'"
      ]
     },
     "execution_count": 23,
     "metadata": {},
     "output_type": "execute_result"
    }
   ],
   "source": [
    "import plotly.express as px \n",
    "import pandas as pd \n",
    "import numpy as np \n",
    "\n",
    "# Get some data\n",
    "df = pd.read_json(\"GC.json\")\n",
    "\n",
    "# Plot \n",
    "fig = px.line(df, x=\"dtr\", y=\"qtd\", color=\"pred\",markers=\"True\")\n",
    "\n",
    "# Only thing I figured is - I could do this \n",
    "fig.add_scatter(x=df['dtr'], y=df['eTo'] , name=\"eTo\",mode =\"lines+markers\")# Not what is desired - need a line \n",
    "\n",
    "# Show plot \n",
    "fig.show()\n",
    "\"Abril/22/24\""
   ]
  },
  {
   "cell_type": "code",
   "execution_count": 24,
   "metadata": {},
   "outputs": [
    {
     "name": "stdout",
     "output_type": "stream",
     "text": [
      "6414.17\n"
     ]
    }
   ],
   "source": [
    "\n",
    "a = 9538\n",
    "b = 3123.83\n",
    "\n",
    "result = a - b\n",
    "\n",
    "print(result)"
   ]
  },
  {
   "cell_type": "code",
   "execution_count": 25,
   "metadata": {},
   "outputs": [
    {
     "name": "stdout",
     "output_type": "stream",
     "text": [
      "3066.03\n"
     ]
    }
   ],
   "source": [
    "\n",
    "a = 6414.17\n",
    "b = 3348.14\n",
    "\n",
    "result = a - b\n",
    "\n",
    "print(result)"
   ]
  },
  {
   "cell_type": "code",
   "execution_count": 26,
   "metadata": {},
   "outputs": [
    {
     "name": "stdout",
     "output_type": "stream",
     "text": [
      "-282.1099999999997\n"
     ]
    }
   ],
   "source": [
    "\n",
    "a = 3066.03\n",
    "b = 3348.14\n",
    "\n",
    "result = a - b\n",
    "\n",
    "print(result)"
   ]
  }
 ],
 "metadata": {
  "kernelspec": {
   "display_name": "Python 3.9.7 ('tensorflow_env')",
   "language": "python",
   "name": "python3"
  },
  "language_info": {
   "codemirror_mode": {
    "name": "ipython",
    "version": 3
   },
   "file_extension": ".py",
   "mimetype": "text/x-python",
   "name": "python",
   "nbconvert_exporter": "python",
   "pygments_lexer": "ipython3",
   "version": "3.9.7"
  },
  "orig_nbformat": 4,
  "vscode": {
   "interpreter": {
    "hash": "a93e786dcde600a11c7b7ace000f4d95c3c1cfb12cea541026ad67c9b872ce41"
   }
  }
 },
 "nbformat": 4,
 "nbformat_minor": 2
}

{
 "cells": [
  {
   "cell_type": "code",
   "execution_count": 125,
   "metadata": {},
   "outputs": [
    {
     "data": {
      "application/vnd.plotly.v1+json": {
       "config": {
        "plotlyServerURL": "https://plot.ly"
       },
       "data": [
        {
         "hovertemplate": "pred=False<br>dtr=%{x}<br>qtd=%{y}<extra></extra>",
         "legendgroup": "False",
         "line": {
          "color": "#636efa",
          "dash": "solid"
         },
         "marker": {
          "symbol": "circle"
         },
         "mode": "lines+markers",
         "name": "False",
         "orientation": "v",
         "showlegend": true,
         "type": "scatter",
         "x": [
          "Janeiro/22/01",
          "Janeiro/22/02",
          "Janeiro/22/03",
          "Janeiro/22/04",
          "Janeiro/22/05",
          "Janeiro/22/06",
          "Janeiro/22/07",
          "Janeiro/22/08",
          "Janeiro/22/09",
          "Janeiro/22/10",
          "Janeiro/22/11",
          "Janeiro/22/12",
          "Janeiro/22/13",
          "Janeiro/22/14",
          "Janeiro/22/15",
          "Janeiro/22/16",
          "Janeiro/22/17",
          "Janeiro/22/18",
          "Janeiro/22/19",
          "Janeiro/22/20",
          "Janeiro/22/21",
          "Janeiro/22/22",
          "Janeiro/22/23",
          "Janeiro/22/24",
          "Janeiro/22/25",
          "Janeiro/22/26",
          "Janeiro/22/27",
          "Janeiro/22/28",
          "Janeiro/22/29",
          "Janeiro/22/30",
          "Janeiro/22/31",
          "Fevereiro/22/01",
          "Fevereiro/22/02",
          "Fevereiro/22/03",
          "Fevereiro/22/04",
          "Fevereiro/22/05",
          "Fevereiro/22/06",
          "Fevereiro/22/07",
          "Fevereiro/22/08",
          "Fevereiro/22/09",
          "Fevereiro/22/10",
          "Fevereiro/22/11",
          "Fevereiro/22/12",
          "Fevereiro/22/13",
          "Fevereiro/22/14",
          "Fevereiro/22/15",
          "Fevereiro/22/16",
          "Fevereiro/22/17",
          "Fevereiro/22/18",
          "Fevereiro/22/19",
          "Fevereiro/22/20",
          "Fevereiro/22/21",
          "Fevereiro/22/22",
          "Fevereiro/22/23",
          "Fevereiro/22/24",
          "Fevereiro/22/25",
          "Fevereiro/22/26",
          "Fevereiro/22/27",
          "Fevereiro/22/28",
          "Março/22/01",
          "Março/22/02",
          "Março/22/03",
          "Março/22/04",
          "Março/22/05",
          "Março/22/06",
          "Março/22/07",
          "Março/22/08",
          "Março/22/09",
          "Março/22/10",
          "Março/22/11",
          "Março/22/12",
          "Março/22/13",
          "Março/22/14",
          "Março/22/15",
          "Março/22/16",
          "Março/22/17",
          "Março/22/18",
          "Março/22/19",
          "Março/22/20",
          "Março/22/21",
          "Março/22/22",
          "Março/22/23",
          "Março/22/24",
          "Março/22/25",
          "Março/22/26",
          "Março/22/27",
          "Março/22/28",
          "Março/22/29",
          "Março/22/30",
          "Março/22/31",
          "Abril/22/01",
          "Abril/22/02",
          "Abril/22/03",
          "Abril/22/04",
          "Abril/22/05",
          "Abril/22/06",
          "Abril/22/07",
          "Abril/22/08",
          "Abril/22/09",
          "Abril/22/10",
          "Abril/22/11",
          "Abril/22/12",
          "Abril/22/13",
          "Abril/22/14",
          "Abril/22/15",
          "Abril/22/16",
          "Abril/22/17",
          "Abril/22/18",
          "Abril/22/19",
          "Abril/22/20",
          "Abril/22/21",
          "Abril/22/22"
         ],
         "xaxis": "x",
         "y": [
          452,
          730,
          483,
          579,
          697,
          699,
          846,
          775,
          604,
          547,
          1164,
          787,
          487,
          700,
          800,
          792,
          768,
          754,
          832,
          760,
          1034,
          587,
          754,
          638,
          486,
          497,
          684,
          1110,
          708,
          873,
          489,
          865,
          793,
          610,
          1056,
          1149,
          683,
          812,
          798,
          889,
          1029,
          904,
          746,
          955,
          739,
          740,
          718,
          779,
          535,
          919,
          703,
          417,
          656,
          535,
          960,
          876,
          1180,
          536,
          519,
          737,
          778,
          930,
          868,
          1047,
          1067,
          580,
          728,
          822,
          2142,
          796,
          704,
          544,
          576,
          641,
          588,
          538,
          685,
          866,
          640,
          880,
          503,
          706,
          574,
          1202,
          738,
          582,
          653,
          656,
          554,
          840,
          1110,
          767,
          441,
          703,
          682,
          1103,
          539,
          977,
          770,
          630,
          810,
          689,
          941,
          1189,
          887,
          702,
          667,
          950,
          968,
          1041,
          777,
          639.6
         ],
         "yaxis": "y"
        },
        {
         "hovertemplate": "pred=True<br>dtr=%{x}<br>qtd=%{y}<extra></extra>",
         "legendgroup": "True",
         "line": {
          "color": "#EF553B",
          "dash": "solid"
         },
         "marker": {
          "symbol": "circle"
         },
         "mode": "lines+markers",
         "name": "True",
         "orientation": "v",
         "showlegend": true,
         "type": "scatter",
         "x": [
          "Abril/22/23",
          "Abril/22/24",
          "Abril/22/25",
          "Abril/22/26",
          "Abril/22/27",
          "Abril/22/28",
          "Abril/22/29",
          "Abril/22/30",
          "Maio/22/01",
          "Maio/22/02",
          "Maio/22/03",
          "Maio/22/04",
          "Maio/22/05",
          "Maio/22/06",
          "Maio/22/07",
          "Maio/22/08",
          "Maio/22/09",
          "Maio/22/10",
          "Maio/22/11",
          "Maio/22/12",
          "Maio/22/13",
          "Maio/22/14"
         ],
         "xaxis": "x",
         "y": [
          1149,
          684.6,
          452,
          494,
          965,
          736.33,
          767.8,
          767.8,
          1184.5,
          865.6,
          767.83,
          919,
          494,
          919,
          919,
          704.4,
          579.6,
          494,
          767.83,
          1184.5,
          610,
          684.6
         ],
         "yaxis": "y"
        },
        {
         "mode": "lines+markers",
         "name": "eTo",
         "type": "scatter",
         "x": [
          "Janeiro/22/01",
          "Janeiro/22/02",
          "Janeiro/22/03",
          "Janeiro/22/04",
          "Janeiro/22/05",
          "Janeiro/22/06",
          "Janeiro/22/07",
          "Janeiro/22/08",
          "Janeiro/22/09",
          "Janeiro/22/10",
          "Janeiro/22/11",
          "Janeiro/22/12",
          "Janeiro/22/13",
          "Janeiro/22/14",
          "Janeiro/22/15",
          "Janeiro/22/16",
          "Janeiro/22/17",
          "Janeiro/22/18",
          "Janeiro/22/19",
          "Janeiro/22/20",
          "Janeiro/22/21",
          "Janeiro/22/22",
          "Janeiro/22/23",
          "Janeiro/22/24",
          "Janeiro/22/25",
          "Janeiro/22/26",
          "Janeiro/22/27",
          "Janeiro/22/28",
          "Janeiro/22/29",
          "Janeiro/22/30",
          "Janeiro/22/31",
          "Fevereiro/22/01",
          "Fevereiro/22/02",
          "Fevereiro/22/03",
          "Fevereiro/22/04",
          "Fevereiro/22/05",
          "Fevereiro/22/06",
          "Fevereiro/22/07",
          "Fevereiro/22/08",
          "Fevereiro/22/09",
          "Fevereiro/22/10",
          "Fevereiro/22/11",
          "Fevereiro/22/12",
          "Fevereiro/22/13",
          "Fevereiro/22/14",
          "Fevereiro/22/15",
          "Fevereiro/22/16",
          "Fevereiro/22/17",
          "Fevereiro/22/18",
          "Fevereiro/22/19",
          "Fevereiro/22/20",
          "Fevereiro/22/21",
          "Fevereiro/22/22",
          "Fevereiro/22/23",
          "Fevereiro/22/24",
          "Fevereiro/22/25",
          "Fevereiro/22/26",
          "Fevereiro/22/27",
          "Fevereiro/22/28",
          "Março/22/01",
          "Março/22/02",
          "Março/22/03",
          "Março/22/04",
          "Março/22/05",
          "Março/22/06",
          "Março/22/07",
          "Março/22/08",
          "Março/22/09",
          "Março/22/10",
          "Março/22/11",
          "Março/22/12",
          "Março/22/13",
          "Março/22/14",
          "Março/22/15",
          "Março/22/16",
          "Março/22/17",
          "Março/22/18",
          "Março/22/19",
          "Março/22/20",
          "Março/22/21",
          "Março/22/22",
          "Março/22/23",
          "Março/22/24",
          "Março/22/25",
          "Março/22/26",
          "Março/22/27",
          "Março/22/28",
          "Março/22/29",
          "Março/22/30",
          "Março/22/31",
          "Abril/22/01",
          "Abril/22/02",
          "Abril/22/03",
          "Abril/22/04",
          "Abril/22/05",
          "Abril/22/06",
          "Abril/22/07",
          "Abril/22/08",
          "Abril/22/09",
          "Abril/22/10",
          "Abril/22/11",
          "Abril/22/12",
          "Abril/22/13",
          "Abril/22/14",
          "Abril/22/15",
          "Abril/22/16",
          "Abril/22/17",
          "Abril/22/18",
          "Abril/22/19",
          "Abril/22/20",
          "Abril/22/21",
          "Abril/22/22",
          "Abril/22/23",
          "Abril/22/24",
          "Abril/22/25",
          "Abril/22/26",
          "Abril/22/27",
          "Abril/22/28",
          "Abril/22/29",
          "Abril/22/30",
          "Maio/22/01",
          "Maio/22/02",
          "Maio/22/03",
          "Maio/22/04",
          "Maio/22/05",
          "Maio/22/06",
          "Maio/22/07",
          "Maio/22/08",
          "Maio/22/09",
          "Maio/22/10",
          "Maio/22/11",
          "Maio/22/12",
          "Maio/22/13",
          "Maio/22/14"
         ],
         "y": [
          5046,
          9498,
          8768,
          8285,
          7588.32,
          7891.6,
          7192.6,
          6344.6,
          5757.85,
          5003.47,
          4365.13,
          3879.25,
          3382.53,
          2698.32,
          1968,
          1168,
          1588.71,
          880.9,
          7.96,
          5007.96,
          4519.23,
          3654.02,
          2860.9,
          2250.61,
          1194.96,
          6194.96,
          5046.13,
          4363.54,
          9363.54,
          8551.79,
          7753.99,
          6864.95,
          5835.92,
          4932.09,
          4185.69,
          3231.17,
          2492.06,
          1751.75,
          1033.45,
          6033.45,
          5254.06,
          4718.66,
          3799.81,
          3097.28,
          2680.77,
          2025.02,
          1489.77,
          6489.77,
          5530.1,
          4653.81,
          3473.65,
          2937.89,
          7937.89,
          7419.18,
          6682.3,
          5904.63,
          4974.75,
          4107.09,
          9107.09,
          14107.09,
          13060.43,
          11993.21,
          11412.89,
          10684.73,
          9862.86,
          7720.89,
          6925.14,
          6221.16,
          5677.56,
          5101.63,
          4460.49,
          3872.66,
          3335.1,
          2650.39,
          1784.88,
          1145.08,
          265.42,
          5265.42,
          4762.85,
          4057.27,
          3482.86,
          2281.05,
          1542.78,
          960.36,
          5307.59,
          4651.85,
          4097.86,
          3258.27,
          2148.73,
          1381.76,
          941.07,
          5941.07,
          5237.86,
          4555.83,
          3453.18,
          2914.6,
          1937.65,
          1167.36,
          537.28,
          5537.28,
          4726.97,
          4037.95,
          3096.99,
          1907.95,
          1021.07,
          5319.09,
          4652.56,
          3702.97,
          2735.03,
          7735.03,
          6693.97,
          5917,
          4768,
          4083.4,
          3631.4,
          3137.4,
          2172.4,
          1436,
          668.2,
          5668.2,
          "",
          "",
          "",
          "",
          "",
          "",
          "",
          "",
          "",
          "",
          "",
          "",
          "",
          ""
         ]
        }
       ],
       "layout": {
        "legend": {
         "title": {
          "text": "pred"
         },
         "tracegroupgap": 0
        },
        "margin": {
         "t": 60
        },
        "template": {
         "data": {
          "bar": [
           {
            "error_x": {
             "color": "#2a3f5f"
            },
            "error_y": {
             "color": "#2a3f5f"
            },
            "marker": {
             "line": {
              "color": "#E5ECF6",
              "width": 0.5
             },
             "pattern": {
              "fillmode": "overlay",
              "size": 10,
              "solidity": 0.2
             }
            },
            "type": "bar"
           }
          ],
          "barpolar": [
           {
            "marker": {
             "line": {
              "color": "#E5ECF6",
              "width": 0.5
             },
             "pattern": {
              "fillmode": "overlay",
              "size": 10,
              "solidity": 0.2
             }
            },
            "type": "barpolar"
           }
          ],
          "carpet": [
           {
            "aaxis": {
             "endlinecolor": "#2a3f5f",
             "gridcolor": "white",
             "linecolor": "white",
             "minorgridcolor": "white",
             "startlinecolor": "#2a3f5f"
            },
            "baxis": {
             "endlinecolor": "#2a3f5f",
             "gridcolor": "white",
             "linecolor": "white",
             "minorgridcolor": "white",
             "startlinecolor": "#2a3f5f"
            },
            "type": "carpet"
           }
          ],
          "choropleth": [
           {
            "colorbar": {
             "outlinewidth": 0,
             "ticks": ""
            },
            "type": "choropleth"
           }
          ],
          "contour": [
           {
            "colorbar": {
             "outlinewidth": 0,
             "ticks": ""
            },
            "colorscale": [
             [
              0,
              "#0d0887"
             ],
             [
              0.1111111111111111,
              "#46039f"
             ],
             [
              0.2222222222222222,
              "#7201a8"
             ],
             [
              0.3333333333333333,
              "#9c179e"
             ],
             [
              0.4444444444444444,
              "#bd3786"
             ],
             [
              0.5555555555555556,
              "#d8576b"
             ],
             [
              0.6666666666666666,
              "#ed7953"
             ],
             [
              0.7777777777777778,
              "#fb9f3a"
             ],
             [
              0.8888888888888888,
              "#fdca26"
             ],
             [
              1,
              "#f0f921"
             ]
            ],
            "type": "contour"
           }
          ],
          "contourcarpet": [
           {
            "colorbar": {
             "outlinewidth": 0,
             "ticks": ""
            },
            "type": "contourcarpet"
           }
          ],
          "heatmap": [
           {
            "colorbar": {
             "outlinewidth": 0,
             "ticks": ""
            },
            "colorscale": [
             [
              0,
              "#0d0887"
             ],
             [
              0.1111111111111111,
              "#46039f"
             ],
             [
              0.2222222222222222,
              "#7201a8"
             ],
             [
              0.3333333333333333,
              "#9c179e"
             ],
             [
              0.4444444444444444,
              "#bd3786"
             ],
             [
              0.5555555555555556,
              "#d8576b"
             ],
             [
              0.6666666666666666,
              "#ed7953"
             ],
             [
              0.7777777777777778,
              "#fb9f3a"
             ],
             [
              0.8888888888888888,
              "#fdca26"
             ],
             [
              1,
              "#f0f921"
             ]
            ],
            "type": "heatmap"
           }
          ],
          "heatmapgl": [
           {
            "colorbar": {
             "outlinewidth": 0,
             "ticks": ""
            },
            "colorscale": [
             [
              0,
              "#0d0887"
             ],
             [
              0.1111111111111111,
              "#46039f"
             ],
             [
              0.2222222222222222,
              "#7201a8"
             ],
             [
              0.3333333333333333,
              "#9c179e"
             ],
             [
              0.4444444444444444,
              "#bd3786"
             ],
             [
              0.5555555555555556,
              "#d8576b"
             ],
             [
              0.6666666666666666,
              "#ed7953"
             ],
             [
              0.7777777777777778,
              "#fb9f3a"
             ],
             [
              0.8888888888888888,
              "#fdca26"
             ],
             [
              1,
              "#f0f921"
             ]
            ],
            "type": "heatmapgl"
           }
          ],
          "histogram": [
           {
            "marker": {
             "pattern": {
              "fillmode": "overlay",
              "size": 10,
              "solidity": 0.2
             }
            },
            "type": "histogram"
           }
          ],
          "histogram2d": [
           {
            "colorbar": {
             "outlinewidth": 0,
             "ticks": ""
            },
            "colorscale": [
             [
              0,
              "#0d0887"
             ],
             [
              0.1111111111111111,
              "#46039f"
             ],
             [
              0.2222222222222222,
              "#7201a8"
             ],
             [
              0.3333333333333333,
              "#9c179e"
             ],
             [
              0.4444444444444444,
              "#bd3786"
             ],
             [
              0.5555555555555556,
              "#d8576b"
             ],
             [
              0.6666666666666666,
              "#ed7953"
             ],
             [
              0.7777777777777778,
              "#fb9f3a"
             ],
             [
              0.8888888888888888,
              "#fdca26"
             ],
             [
              1,
              "#f0f921"
             ]
            ],
            "type": "histogram2d"
           }
          ],
          "histogram2dcontour": [
           {
            "colorbar": {
             "outlinewidth": 0,
             "ticks": ""
            },
            "colorscale": [
             [
              0,
              "#0d0887"
             ],
             [
              0.1111111111111111,
              "#46039f"
             ],
             [
              0.2222222222222222,
              "#7201a8"
             ],
             [
              0.3333333333333333,
              "#9c179e"
             ],
             [
              0.4444444444444444,
              "#bd3786"
             ],
             [
              0.5555555555555556,
              "#d8576b"
             ],
             [
              0.6666666666666666,
              "#ed7953"
             ],
             [
              0.7777777777777778,
              "#fb9f3a"
             ],
             [
              0.8888888888888888,
              "#fdca26"
             ],
             [
              1,
              "#f0f921"
             ]
            ],
            "type": "histogram2dcontour"
           }
          ],
          "mesh3d": [
           {
            "colorbar": {
             "outlinewidth": 0,
             "ticks": ""
            },
            "type": "mesh3d"
           }
          ],
          "parcoords": [
           {
            "line": {
             "colorbar": {
              "outlinewidth": 0,
              "ticks": ""
             }
            },
            "type": "parcoords"
           }
          ],
          "pie": [
           {
            "automargin": true,
            "type": "pie"
           }
          ],
          "scatter": [
           {
            "fillpattern": {
             "fillmode": "overlay",
             "size": 10,
             "solidity": 0.2
            },
            "type": "scatter"
           }
          ],
          "scatter3d": [
           {
            "line": {
             "colorbar": {
              "outlinewidth": 0,
              "ticks": ""
             }
            },
            "marker": {
             "colorbar": {
              "outlinewidth": 0,
              "ticks": ""
             }
            },
            "type": "scatter3d"
           }
          ],
          "scattercarpet": [
           {
            "marker": {
             "colorbar": {
              "outlinewidth": 0,
              "ticks": ""
             }
            },
            "type": "scattercarpet"
           }
          ],
          "scattergeo": [
           {
            "marker": {
             "colorbar": {
              "outlinewidth": 0,
              "ticks": ""
             }
            },
            "type": "scattergeo"
           }
          ],
          "scattergl": [
           {
            "marker": {
             "colorbar": {
              "outlinewidth": 0,
              "ticks": ""
             }
            },
            "type": "scattergl"
           }
          ],
          "scattermapbox": [
           {
            "marker": {
             "colorbar": {
              "outlinewidth": 0,
              "ticks": ""
             }
            },
            "type": "scattermapbox"
           }
          ],
          "scatterpolar": [
           {
            "marker": {
             "colorbar": {
              "outlinewidth": 0,
              "ticks": ""
             }
            },
            "type": "scatterpolar"
           }
          ],
          "scatterpolargl": [
           {
            "marker": {
             "colorbar": {
              "outlinewidth": 0,
              "ticks": ""
             }
            },
            "type": "scatterpolargl"
           }
          ],
          "scatterternary": [
           {
            "marker": {
             "colorbar": {
              "outlinewidth": 0,
              "ticks": ""
             }
            },
            "type": "scatterternary"
           }
          ],
          "surface": [
           {
            "colorbar": {
             "outlinewidth": 0,
             "ticks": ""
            },
            "colorscale": [
             [
              0,
              "#0d0887"
             ],
             [
              0.1111111111111111,
              "#46039f"
             ],
             [
              0.2222222222222222,
              "#7201a8"
             ],
             [
              0.3333333333333333,
              "#9c179e"
             ],
             [
              0.4444444444444444,
              "#bd3786"
             ],
             [
              0.5555555555555556,
              "#d8576b"
             ],
             [
              0.6666666666666666,
              "#ed7953"
             ],
             [
              0.7777777777777778,
              "#fb9f3a"
             ],
             [
              0.8888888888888888,
              "#fdca26"
             ],
             [
              1,
              "#f0f921"
             ]
            ],
            "type": "surface"
           }
          ],
          "table": [
           {
            "cells": {
             "fill": {
              "color": "#EBF0F8"
             },
             "line": {
              "color": "white"
             }
            },
            "header": {
             "fill": {
              "color": "#C8D4E3"
             },
             "line": {
              "color": "white"
             }
            },
            "type": "table"
           }
          ]
         },
         "layout": {
          "annotationdefaults": {
           "arrowcolor": "#2a3f5f",
           "arrowhead": 0,
           "arrowwidth": 1
          },
          "autotypenumbers": "strict",
          "coloraxis": {
           "colorbar": {
            "outlinewidth": 0,
            "ticks": ""
           }
          },
          "colorscale": {
           "diverging": [
            [
             0,
             "#8e0152"
            ],
            [
             0.1,
             "#c51b7d"
            ],
            [
             0.2,
             "#de77ae"
            ],
            [
             0.3,
             "#f1b6da"
            ],
            [
             0.4,
             "#fde0ef"
            ],
            [
             0.5,
             "#f7f7f7"
            ],
            [
             0.6,
             "#e6f5d0"
            ],
            [
             0.7,
             "#b8e186"
            ],
            [
             0.8,
             "#7fbc41"
            ],
            [
             0.9,
             "#4d9221"
            ],
            [
             1,
             "#276419"
            ]
           ],
           "sequential": [
            [
             0,
             "#0d0887"
            ],
            [
             0.1111111111111111,
             "#46039f"
            ],
            [
             0.2222222222222222,
             "#7201a8"
            ],
            [
             0.3333333333333333,
             "#9c179e"
            ],
            [
             0.4444444444444444,
             "#bd3786"
            ],
            [
             0.5555555555555556,
             "#d8576b"
            ],
            [
             0.6666666666666666,
             "#ed7953"
            ],
            [
             0.7777777777777778,
             "#fb9f3a"
            ],
            [
             0.8888888888888888,
             "#fdca26"
            ],
            [
             1,
             "#f0f921"
            ]
           ],
           "sequentialminus": [
            [
             0,
             "#0d0887"
            ],
            [
             0.1111111111111111,
             "#46039f"
            ],
            [
             0.2222222222222222,
             "#7201a8"
            ],
            [
             0.3333333333333333,
             "#9c179e"
            ],
            [
             0.4444444444444444,
             "#bd3786"
            ],
            [
             0.5555555555555556,
             "#d8576b"
            ],
            [
             0.6666666666666666,
             "#ed7953"
            ],
            [
             0.7777777777777778,
             "#fb9f3a"
            ],
            [
             0.8888888888888888,
             "#fdca26"
            ],
            [
             1,
             "#f0f921"
            ]
           ]
          },
          "colorway": [
           "#636efa",
           "#EF553B",
           "#00cc96",
           "#ab63fa",
           "#FFA15A",
           "#19d3f3",
           "#FF6692",
           "#B6E880",
           "#FF97FF",
           "#FECB52"
          ],
          "font": {
           "color": "#2a3f5f"
          },
          "geo": {
           "bgcolor": "white",
           "lakecolor": "white",
           "landcolor": "#E5ECF6",
           "showlakes": true,
           "showland": true,
           "subunitcolor": "white"
          },
          "hoverlabel": {
           "align": "left"
          },
          "hovermode": "closest",
          "mapbox": {
           "style": "light"
          },
          "paper_bgcolor": "white",
          "plot_bgcolor": "#E5ECF6",
          "polar": {
           "angularaxis": {
            "gridcolor": "white",
            "linecolor": "white",
            "ticks": ""
           },
           "bgcolor": "#E5ECF6",
           "radialaxis": {
            "gridcolor": "white",
            "linecolor": "white",
            "ticks": ""
           }
          },
          "scene": {
           "xaxis": {
            "backgroundcolor": "#E5ECF6",
            "gridcolor": "white",
            "gridwidth": 2,
            "linecolor": "white",
            "showbackground": true,
            "ticks": "",
            "zerolinecolor": "white"
           },
           "yaxis": {
            "backgroundcolor": "#E5ECF6",
            "gridcolor": "white",
            "gridwidth": 2,
            "linecolor": "white",
            "showbackground": true,
            "ticks": "",
            "zerolinecolor": "white"
           },
           "zaxis": {
            "backgroundcolor": "#E5ECF6",
            "gridcolor": "white",
            "gridwidth": 2,
            "linecolor": "white",
            "showbackground": true,
            "ticks": "",
            "zerolinecolor": "white"
           }
          },
          "shapedefaults": {
           "line": {
            "color": "#2a3f5f"
           }
          },
          "ternary": {
           "aaxis": {
            "gridcolor": "white",
            "linecolor": "white",
            "ticks": ""
           },
           "baxis": {
            "gridcolor": "white",
            "linecolor": "white",
            "ticks": ""
           },
           "bgcolor": "#E5ECF6",
           "caxis": {
            "gridcolor": "white",
            "linecolor": "white",
            "ticks": ""
           }
          },
          "title": {
           "x": 0.05
          },
          "xaxis": {
           "automargin": true,
           "gridcolor": "white",
           "linecolor": "white",
           "ticks": "",
           "title": {
            "standoff": 15
           },
           "zerolinecolor": "white",
           "zerolinewidth": 2
          },
          "yaxis": {
           "automargin": true,
           "gridcolor": "white",
           "linecolor": "white",
           "ticks": "",
           "title": {
            "standoff": 15
           },
           "zerolinecolor": "white",
           "zerolinewidth": 2
          }
         }
        },
        "xaxis": {
         "anchor": "y",
         "domain": [
          0,
          1
         ],
         "title": {
          "text": "dtr"
         }
        },
        "yaxis": {
         "anchor": "x",
         "domain": [
          0,
          1
         ],
         "title": {
          "text": "qtd"
         }
        }
       }
      }
     },
     "metadata": {},
     "output_type": "display_data"
    },
    {
     "data": {
      "text/plain": [
       "'April/22/29'"
      ]
     },
     "execution_count": 125,
     "metadata": {},
     "output_type": "execute_result"
    }
   ],
   "source": [
    "\n",
    "import plotly.express as px \n",
    "import plotly.colors\n",
    "import pandas as pd \n",
    "import numpy as np \n",
    "\n",
    "# Get some data\n",
    "df = pd.read_json(\"GG.json\")\n",
    "\n",
    "# Plot \n",
    "fig = px.line(df, x=\"dtr\", y=\"qtd\", color=\"pred\",markers=\"True\")\n",
    "\n",
    "# Only thing I figured is - I could do this \n",
    "fig.add_scatter(x=df['dtr'], y=df['eTo'] , name=\"eTo\",mode =\"lines+markers\")# Not what is desired - need a line \n",
    "#fig.add_scatter(x=df['dtr'], y=df['compra'] ,mode=\"lines+markers\", name=\"fim\")# Not what is desired - need a line \n",
    "\n",
    "# Show plot \n",
    "fig.show()\n",
    "\"April/22/29\""
   ]
  },
  {
   "cell_type": "code",
   "execution_count": 126,
   "metadata": {},
   "outputs": [
    {
     "name": "stdout",
     "output_type": "stream",
     "text": [
      "4768\n"
     ]
    }
   ],
   "source": [
    "#! pip uninstall plotly\n",
    "#! conda uninstall plotly\n",
    "#!# conda install -c plotly plotly\n",
    "#\n",
    "\n",
    "#! conda create -n plotly_install -c plotly python=3.7 plotly=4.0\n",
    "#! conda activate plotly_install\n",
    "1149\n",
    "a = 5917\n",
    "b = 1149\n",
    "\n",
    "result = a - b\n",
    "\n",
    "print(result)\n"
   ]
  },
  {
   "cell_type": "code",
   "execution_count": 127,
   "metadata": {},
   "outputs": [
    {
     "name": "stdout",
     "output_type": "stream",
     "text": [
      "4083.4\n"
     ]
    }
   ],
   "source": [
    "\n",
    "684.6\n",
    "a = 4768\n",
    "b = 684.6\n",
    "\n",
    "result = a - b\n",
    "\n",
    "print(result)\n"
   ]
  },
  {
   "cell_type": "code",
   "execution_count": 128,
   "metadata": {},
   "outputs": [
    {
     "name": "stdout",
     "output_type": "stream",
     "text": [
      "3631.4\n"
     ]
    }
   ],
   "source": [
    "452\n",
    "a = 4083.4\n",
    "b = 452\n",
    "\n",
    "result = a - b\n",
    "\n",
    "print(result)\n",
    "\n",
    "\n"
   ]
  },
  {
   "cell_type": "code",
   "execution_count": 129,
   "metadata": {},
   "outputs": [
    {
     "name": "stdout",
     "output_type": "stream",
     "text": [
      "3137.4\n"
     ]
    }
   ],
   "source": [
    "494\n",
    "a = 3631.4\n",
    "b = 494\n",
    "\n",
    "result = a - b\n",
    "\n",
    "print(result)\n",
    "\n"
   ]
  },
  {
   "cell_type": "code",
   "execution_count": 130,
   "metadata": {},
   "outputs": [
    {
     "name": "stdout",
     "output_type": "stream",
     "text": [
      "2172.4\n"
     ]
    }
   ],
   "source": [
    "\n",
    "965\n",
    "a =3137.4\n",
    "b = 965\n",
    "\n",
    "result = a - b\n",
    "\n",
    "print(result)\n"
   ]
  },
  {
   "cell_type": "code",
   "execution_count": 131,
   "metadata": {},
   "outputs": [
    {
     "name": "stdout",
     "output_type": "stream",
     "text": [
      "1436.0700000000002\n"
     ]
    }
   ],
   "source": [
    "\n",
    "736.33\n",
    "a =2172.4\n",
    "b = 736.33\n",
    "\n",
    "\n",
    "result = a - b\n",
    "\n",
    "print(result)\n"
   ]
  },
  {
   "cell_type": "code",
   "execution_count": 132,
   "metadata": {},
   "outputs": [
    {
     "name": "stdout",
     "output_type": "stream",
     "text": [
      "668.2\n"
     ]
    }
   ],
   "source": [
    "767.8\n",
    "\n",
    "a =1436\n",
    "b = 767.8\n",
    "\n",
    "\n",
    "result = a - b\n",
    "\n",
    "print(result)\n",
    "\n"
   ]
  },
  {
   "cell_type": "code",
   "execution_count": 133,
   "metadata": {},
   "outputs": [
    {
     "name": "stdout",
     "output_type": "stream",
     "text": [
      "5668\n"
     ]
    }
   ],
   "source": [
    "\n",
    "a =668\n",
    "b = 5000\n",
    "\n",
    "\n",
    "result = a + b\n",
    "\n",
    "print(result)\n"
   ]
  },
  {
   "cell_type": "code",
   "execution_count": null,
   "metadata": {},
   "outputs": [],
   "source": [
    "\n"
   ]
  }
 ],
 "metadata": {
  "kernelspec": {
   "display_name": "Python 3.9.7 ('tensorflow_env')",
   "language": "python",
   "name": "python3"
  },
  "language_info": {
   "codemirror_mode": {
    "name": "ipython",
    "version": 3
   },
   "file_extension": ".py",
   "mimetype": "text/x-python",
   "name": "python",
   "nbconvert_exporter": "python",
   "pygments_lexer": "ipython3",
   "version": "3.9.7"
  },
  "orig_nbformat": 4,
  "vscode": {
   "interpreter": {
    "hash": "a93e786dcde600a11c7b7ace000f4d95c3c1cfb12cea541026ad67c9b872ce41"
   }
  }
 },
 "nbformat": 4,
 "nbformat_minor": 2
}

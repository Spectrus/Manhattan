{
 "cells": [
  {
   "cell_type": "code",
   "execution_count": 94,
   "metadata": {},
   "outputs": [
    {
     "name": "stdout",
     "output_type": "stream",
     "text": [
      "(23, 2) (23,)\n",
      "[ -639.66666667 -1149.          -684.66666667  -452.\n",
      "  -494.          -965.          -736.33333333  -767.83333333\n",
      "  -767.83333333 -1184.5         -865.66666667  -767.83333333\n",
      "  -919.          -494.          -919.          -919.\n",
      "  -704.44444444  -579.66666667  -494.          -767.83333333\n",
      " -1184.5         -610.          -684.66666667]\n"
     ]
    },
    {
     "data": {
      "application/vnd.plotly.v1+json": {
       "config": {
        "plotlyServerURL": "https://plot.ly"
       },
       "data": [
        {
         "hovertemplate": "dtr=%{x}<br>qtd=%{y}<extra></extra>",
         "legendgroup": "",
         "marker": {
          "color": "#636efa",
          "symbol": "circle"
         },
         "mode": "markers",
         "name": "",
         "orientation": "v",
         "showlegend": false,
         "type": "scatter",
         "x": [
          2022.101,
          2022.102,
          2022.103,
          2022.104,
          2022.105,
          2022.106,
          2022.107,
          2022.108,
          2022.109,
          2022.11,
          2022.111,
          2022.112,
          2022.113,
          2022.114,
          2022.115,
          2022.116,
          2022.117,
          2022.118,
          2022.119,
          2022.12,
          2022.121,
          2022.122,
          2022.123,
          2022.124,
          2022.125,
          2022.126,
          2022.127,
          2022.128,
          2022.129,
          2022.13,
          2022.131,
          2022.201,
          2022.202,
          2022.203,
          2022.204,
          2022.205,
          2022.206,
          2022.207,
          2022.208,
          2022.209,
          2022.21,
          2022.211,
          2022.212,
          2022.213,
          2022.214,
          2022.215,
          2022.216,
          2022.217,
          2022.218,
          2022.219,
          2022.22,
          2022.221,
          2022.222,
          2022.223,
          2022.224,
          2022.225,
          2022.226,
          2022.227,
          2022.228,
          2022.301,
          2022.302,
          2022.303,
          2022.304,
          2022.305,
          2022.306,
          2022.307,
          2022.308,
          2022.309,
          2022.31,
          2022.311,
          2022.312,
          2022.313,
          2022.314,
          2022.315,
          2022.316,
          2022.317,
          2022.318,
          2022.319,
          2022.32,
          2022.321,
          2022.322,
          2022.323,
          2022.324,
          2022.325,
          2022.326,
          2022.327,
          2022.328,
          2022.329,
          2022.33,
          2022.331,
          2022.401,
          2022.402,
          2022.403,
          2022.404,
          2022.405,
          2022.406,
          2022.407,
          2022.408,
          2022.409,
          2022.41,
          2022.411,
          2022.412,
          2022.413,
          2022.414,
          2022.415,
          2022.416,
          2022.417,
          2022.418,
          2022.419,
          2022.42,
          2022.421
         ],
         "xaxis": "x",
         "y": [
          -452,
          -730,
          -483,
          -579,
          -697,
          -699,
          -846,
          -775,
          -604,
          -547,
          -1164,
          -787,
          -487,
          -700,
          -800,
          -792,
          -768,
          -754,
          -832,
          -760,
          -1034,
          -587,
          -754,
          -638,
          -486,
          -497,
          -684,
          -1110,
          -708,
          -873,
          -489,
          -865,
          -793,
          -610,
          -1056,
          -1149,
          -683,
          -812,
          -798,
          -889,
          -1029,
          -904,
          -746,
          -955,
          -739,
          -740,
          -718,
          -779,
          -535,
          -919,
          -703,
          -417,
          -656,
          -535,
          -960,
          -876,
          -1180,
          -536,
          -519,
          -737,
          -778,
          -930,
          -868,
          -1047,
          -1067,
          -580,
          -728,
          -822,
          -2142,
          -796,
          -704,
          -544,
          -576,
          -641,
          -588,
          -538,
          -685,
          -866,
          -640,
          -880,
          -503,
          -706,
          -574,
          -1202,
          -738,
          -582,
          -653,
          -656,
          -554,
          -840,
          -1110,
          -767,
          -441,
          -703,
          -682,
          -1103,
          -539,
          -977,
          -770,
          -630,
          -810,
          -689,
          -941,
          -1189,
          -887,
          -702,
          -667,
          -950,
          -968,
          -1041,
          -777
         ],
         "yaxis": "y"
        },
        {
         "hovertemplate": "<b>OLS trendline</b><br>qtd = -314.322 * dtr + 634866<br>R<sup>2</sup>=0.022146<br><br>dtr=%{x}<br>qtd=%{y} <b>(trend)</b><extra></extra>",
         "legendgroup": "",
         "marker": {
          "color": "#636efa",
          "symbol": "circle"
         },
         "mode": "lines",
         "name": "",
         "showlegend": false,
         "type": "scatter",
         "x": [
          2022.101,
          2022.102,
          2022.103,
          2022.104,
          2022.105,
          2022.106,
          2022.107,
          2022.108,
          2022.109,
          2022.11,
          2022.111,
          2022.112,
          2022.113,
          2022.114,
          2022.115,
          2022.116,
          2022.117,
          2022.118,
          2022.119,
          2022.12,
          2022.121,
          2022.122,
          2022.123,
          2022.124,
          2022.125,
          2022.126,
          2022.127,
          2022.128,
          2022.129,
          2022.13,
          2022.131,
          2022.201,
          2022.202,
          2022.203,
          2022.204,
          2022.205,
          2022.206,
          2022.207,
          2022.208,
          2022.209,
          2022.21,
          2022.211,
          2022.212,
          2022.213,
          2022.214,
          2022.215,
          2022.216,
          2022.217,
          2022.218,
          2022.219,
          2022.22,
          2022.221,
          2022.222,
          2022.223,
          2022.224,
          2022.225,
          2022.226,
          2022.227,
          2022.228,
          2022.301,
          2022.302,
          2022.303,
          2022.304,
          2022.305,
          2022.306,
          2022.307,
          2022.308,
          2022.309,
          2022.31,
          2022.311,
          2022.312,
          2022.313,
          2022.314,
          2022.315,
          2022.316,
          2022.317,
          2022.318,
          2022.319,
          2022.32,
          2022.321,
          2022.322,
          2022.323,
          2022.324,
          2022.325,
          2022.326,
          2022.327,
          2022.328,
          2022.329,
          2022.33,
          2022.331,
          2022.401,
          2022.402,
          2022.403,
          2022.404,
          2022.405,
          2022.406,
          2022.407,
          2022.408,
          2022.409,
          2022.41,
          2022.411,
          2022.412,
          2022.413,
          2022.414,
          2022.415,
          2022.416,
          2022.417,
          2022.418,
          2022.419,
          2022.42,
          2022.421
         ],
         "xaxis": "x",
         "y": [
          -724.6733154489193,
          -724.9876371271675,
          -725.3019588054158,
          -725.6162804837804,
          -725.9306021620287,
          -726.2449238402769,
          -726.5592455185251,
          -726.8735671967734,
          -727.1878888750216,
          -727.5022105532698,
          -727.8165322316345,
          -728.1308539098827,
          -728.445175588131,
          -728.7594972663792,
          -729.0738189446274,
          -729.3881406228757,
          -729.7024623011239,
          -730.0167839793721,
          -730.3311056576204,
          -730.645427335985,
          -730.9597490142332,
          -731.2740706924815,
          -731.5883923707297,
          -731.9027140490944,
          -732.2170357273426,
          -732.5313574055908,
          -732.8456790838391,
          -733.1600007620873,
          -733.4743224403355,
          -733.7886441187002,
          -734.1029657969484,
          -756.105483275489,
          -756.4198049537372,
          -756.7341266319854,
          -757.0484483102337,
          -757.3627699884819,
          -757.6770916667301,
          -757.9914133450948,
          -758.305735023343,
          -758.6200567015912,
          -758.9343783798395,
          -759.2487000582041,
          -759.5630217364524,
          -759.8773434147006,
          -760.1916650929488,
          -760.5059867711971,
          -760.8203084494453,
          -761.1346301278099,
          -761.4489518060582,
          -761.7632734843064,
          -762.0775951625546,
          -762.3919168408029,
          -762.7062385190511,
          -763.0205601972993,
          -763.3348818755476,
          -763.6492035537958,
          -763.9635252321605,
          -764.2778469104087,
          -764.5921685886569,
          -787.5376511020586,
          -787.8519727803068,
          -788.1662944586715,
          -788.4806161369197,
          -788.7949378151679,
          -789.1092594934162,
          -789.4235811716644,
          -789.7379028499126,
          -790.0522245281609,
          -790.3665462064091,
          -790.6808678846573,
          -790.9951895629056,
          -791.3095112412702,
          -791.6238329195185,
          -791.9381545977667,
          -792.2524762760149,
          -792.5667979542632,
          -792.8811196326278,
          -793.195441310876,
          -793.5097629891243,
          -793.8240846673725,
          -794.1384063456208,
          -794.4527280239854,
          -794.7670497022336,
          -795.0813713804819,
          -795.3956930587301,
          -795.7100147369783,
          -796.0243364152266,
          -796.3386580934748,
          -796.652979771723,
          -796.9673014499713,
          -818.9698189286282,
          -819.2841406068765,
          -819.5984622851247,
          -819.9127839633729,
          -820.2271056417376,
          -820.5414273199858,
          -820.855748998234,
          -821.1700706764823,
          -821.4843923548469,
          -821.7987140330952,
          -822.1130357113434,
          -822.4273573895916,
          -822.7416790678399,
          -823.0560007460881,
          -823.3703224243363,
          -823.6846441025846,
          -823.9989657808328,
          -824.313287459081,
          -824.6276091374457,
          -824.9419308156939,
          -825.2562524939422
         ],
         "yaxis": "y"
        }
       ],
       "layout": {
        "legend": {
         "tracegroupgap": 0
        },
        "margin": {
         "t": 60
        },
        "template": {
         "data": {
          "bar": [
           {
            "error_x": {
             "color": "#2a3f5f"
            },
            "error_y": {
             "color": "#2a3f5f"
            },
            "marker": {
             "line": {
              "color": "#E5ECF6",
              "width": 0.5
             },
             "pattern": {
              "fillmode": "overlay",
              "size": 10,
              "solidity": 0.2
             }
            },
            "type": "bar"
           }
          ],
          "barpolar": [
           {
            "marker": {
             "line": {
              "color": "#E5ECF6",
              "width": 0.5
             },
             "pattern": {
              "fillmode": "overlay",
              "size": 10,
              "solidity": 0.2
             }
            },
            "type": "barpolar"
           }
          ],
          "carpet": [
           {
            "aaxis": {
             "endlinecolor": "#2a3f5f",
             "gridcolor": "white",
             "linecolor": "white",
             "minorgridcolor": "white",
             "startlinecolor": "#2a3f5f"
            },
            "baxis": {
             "endlinecolor": "#2a3f5f",
             "gridcolor": "white",
             "linecolor": "white",
             "minorgridcolor": "white",
             "startlinecolor": "#2a3f5f"
            },
            "type": "carpet"
           }
          ],
          "choropleth": [
           {
            "colorbar": {
             "outlinewidth": 0,
             "ticks": ""
            },
            "type": "choropleth"
           }
          ],
          "contour": [
           {
            "colorbar": {
             "outlinewidth": 0,
             "ticks": ""
            },
            "colorscale": [
             [
              0,
              "#0d0887"
             ],
             [
              0.1111111111111111,
              "#46039f"
             ],
             [
              0.2222222222222222,
              "#7201a8"
             ],
             [
              0.3333333333333333,
              "#9c179e"
             ],
             [
              0.4444444444444444,
              "#bd3786"
             ],
             [
              0.5555555555555556,
              "#d8576b"
             ],
             [
              0.6666666666666666,
              "#ed7953"
             ],
             [
              0.7777777777777778,
              "#fb9f3a"
             ],
             [
              0.8888888888888888,
              "#fdca26"
             ],
             [
              1,
              "#f0f921"
             ]
            ],
            "type": "contour"
           }
          ],
          "contourcarpet": [
           {
            "colorbar": {
             "outlinewidth": 0,
             "ticks": ""
            },
            "type": "contourcarpet"
           }
          ],
          "heatmap": [
           {
            "colorbar": {
             "outlinewidth": 0,
             "ticks": ""
            },
            "colorscale": [
             [
              0,
              "#0d0887"
             ],
             [
              0.1111111111111111,
              "#46039f"
             ],
             [
              0.2222222222222222,
              "#7201a8"
             ],
             [
              0.3333333333333333,
              "#9c179e"
             ],
             [
              0.4444444444444444,
              "#bd3786"
             ],
             [
              0.5555555555555556,
              "#d8576b"
             ],
             [
              0.6666666666666666,
              "#ed7953"
             ],
             [
              0.7777777777777778,
              "#fb9f3a"
             ],
             [
              0.8888888888888888,
              "#fdca26"
             ],
             [
              1,
              "#f0f921"
             ]
            ],
            "type": "heatmap"
           }
          ],
          "heatmapgl": [
           {
            "colorbar": {
             "outlinewidth": 0,
             "ticks": ""
            },
            "colorscale": [
             [
              0,
              "#0d0887"
             ],
             [
              0.1111111111111111,
              "#46039f"
             ],
             [
              0.2222222222222222,
              "#7201a8"
             ],
             [
              0.3333333333333333,
              "#9c179e"
             ],
             [
              0.4444444444444444,
              "#bd3786"
             ],
             [
              0.5555555555555556,
              "#d8576b"
             ],
             [
              0.6666666666666666,
              "#ed7953"
             ],
             [
              0.7777777777777778,
              "#fb9f3a"
             ],
             [
              0.8888888888888888,
              "#fdca26"
             ],
             [
              1,
              "#f0f921"
             ]
            ],
            "type": "heatmapgl"
           }
          ],
          "histogram": [
           {
            "marker": {
             "pattern": {
              "fillmode": "overlay",
              "size": 10,
              "solidity": 0.2
             }
            },
            "type": "histogram"
           }
          ],
          "histogram2d": [
           {
            "colorbar": {
             "outlinewidth": 0,
             "ticks": ""
            },
            "colorscale": [
             [
              0,
              "#0d0887"
             ],
             [
              0.1111111111111111,
              "#46039f"
             ],
             [
              0.2222222222222222,
              "#7201a8"
             ],
             [
              0.3333333333333333,
              "#9c179e"
             ],
             [
              0.4444444444444444,
              "#bd3786"
             ],
             [
              0.5555555555555556,
              "#d8576b"
             ],
             [
              0.6666666666666666,
              "#ed7953"
             ],
             [
              0.7777777777777778,
              "#fb9f3a"
             ],
             [
              0.8888888888888888,
              "#fdca26"
             ],
             [
              1,
              "#f0f921"
             ]
            ],
            "type": "histogram2d"
           }
          ],
          "histogram2dcontour": [
           {
            "colorbar": {
             "outlinewidth": 0,
             "ticks": ""
            },
            "colorscale": [
             [
              0,
              "#0d0887"
             ],
             [
              0.1111111111111111,
              "#46039f"
             ],
             [
              0.2222222222222222,
              "#7201a8"
             ],
             [
              0.3333333333333333,
              "#9c179e"
             ],
             [
              0.4444444444444444,
              "#bd3786"
             ],
             [
              0.5555555555555556,
              "#d8576b"
             ],
             [
              0.6666666666666666,
              "#ed7953"
             ],
             [
              0.7777777777777778,
              "#fb9f3a"
             ],
             [
              0.8888888888888888,
              "#fdca26"
             ],
             [
              1,
              "#f0f921"
             ]
            ],
            "type": "histogram2dcontour"
           }
          ],
          "mesh3d": [
           {
            "colorbar": {
             "outlinewidth": 0,
             "ticks": ""
            },
            "type": "mesh3d"
           }
          ],
          "parcoords": [
           {
            "line": {
             "colorbar": {
              "outlinewidth": 0,
              "ticks": ""
             }
            },
            "type": "parcoords"
           }
          ],
          "pie": [
           {
            "automargin": true,
            "type": "pie"
           }
          ],
          "scatter": [
           {
            "fillpattern": {
             "fillmode": "overlay",
             "size": 10,
             "solidity": 0.2
            },
            "type": "scatter"
           }
          ],
          "scatter3d": [
           {
            "line": {
             "colorbar": {
              "outlinewidth": 0,
              "ticks": ""
             }
            },
            "marker": {
             "colorbar": {
              "outlinewidth": 0,
              "ticks": ""
             }
            },
            "type": "scatter3d"
           }
          ],
          "scattercarpet": [
           {
            "marker": {
             "colorbar": {
              "outlinewidth": 0,
              "ticks": ""
             }
            },
            "type": "scattercarpet"
           }
          ],
          "scattergeo": [
           {
            "marker": {
             "colorbar": {
              "outlinewidth": 0,
              "ticks": ""
             }
            },
            "type": "scattergeo"
           }
          ],
          "scattergl": [
           {
            "marker": {
             "colorbar": {
              "outlinewidth": 0,
              "ticks": ""
             }
            },
            "type": "scattergl"
           }
          ],
          "scattermapbox": [
           {
            "marker": {
             "colorbar": {
              "outlinewidth": 0,
              "ticks": ""
             }
            },
            "type": "scattermapbox"
           }
          ],
          "scatterpolar": [
           {
            "marker": {
             "colorbar": {
              "outlinewidth": 0,
              "ticks": ""
             }
            },
            "type": "scatterpolar"
           }
          ],
          "scatterpolargl": [
           {
            "marker": {
             "colorbar": {
              "outlinewidth": 0,
              "ticks": ""
             }
            },
            "type": "scatterpolargl"
           }
          ],
          "scatterternary": [
           {
            "marker": {
             "colorbar": {
              "outlinewidth": 0,
              "ticks": ""
             }
            },
            "type": "scatterternary"
           }
          ],
          "surface": [
           {
            "colorbar": {
             "outlinewidth": 0,
             "ticks": ""
            },
            "colorscale": [
             [
              0,
              "#0d0887"
             ],
             [
              0.1111111111111111,
              "#46039f"
             ],
             [
              0.2222222222222222,
              "#7201a8"
             ],
             [
              0.3333333333333333,
              "#9c179e"
             ],
             [
              0.4444444444444444,
              "#bd3786"
             ],
             [
              0.5555555555555556,
              "#d8576b"
             ],
             [
              0.6666666666666666,
              "#ed7953"
             ],
             [
              0.7777777777777778,
              "#fb9f3a"
             ],
             [
              0.8888888888888888,
              "#fdca26"
             ],
             [
              1,
              "#f0f921"
             ]
            ],
            "type": "surface"
           }
          ],
          "table": [
           {
            "cells": {
             "fill": {
              "color": "#EBF0F8"
             },
             "line": {
              "color": "white"
             }
            },
            "header": {
             "fill": {
              "color": "#C8D4E3"
             },
             "line": {
              "color": "white"
             }
            },
            "type": "table"
           }
          ]
         },
         "layout": {
          "annotationdefaults": {
           "arrowcolor": "#2a3f5f",
           "arrowhead": 0,
           "arrowwidth": 1
          },
          "autotypenumbers": "strict",
          "coloraxis": {
           "colorbar": {
            "outlinewidth": 0,
            "ticks": ""
           }
          },
          "colorscale": {
           "diverging": [
            [
             0,
             "#8e0152"
            ],
            [
             0.1,
             "#c51b7d"
            ],
            [
             0.2,
             "#de77ae"
            ],
            [
             0.3,
             "#f1b6da"
            ],
            [
             0.4,
             "#fde0ef"
            ],
            [
             0.5,
             "#f7f7f7"
            ],
            [
             0.6,
             "#e6f5d0"
            ],
            [
             0.7,
             "#b8e186"
            ],
            [
             0.8,
             "#7fbc41"
            ],
            [
             0.9,
             "#4d9221"
            ],
            [
             1,
             "#276419"
            ]
           ],
           "sequential": [
            [
             0,
             "#0d0887"
            ],
            [
             0.1111111111111111,
             "#46039f"
            ],
            [
             0.2222222222222222,
             "#7201a8"
            ],
            [
             0.3333333333333333,
             "#9c179e"
            ],
            [
             0.4444444444444444,
             "#bd3786"
            ],
            [
             0.5555555555555556,
             "#d8576b"
            ],
            [
             0.6666666666666666,
             "#ed7953"
            ],
            [
             0.7777777777777778,
             "#fb9f3a"
            ],
            [
             0.8888888888888888,
             "#fdca26"
            ],
            [
             1,
             "#f0f921"
            ]
           ],
           "sequentialminus": [
            [
             0,
             "#0d0887"
            ],
            [
             0.1111111111111111,
             "#46039f"
            ],
            [
             0.2222222222222222,
             "#7201a8"
            ],
            [
             0.3333333333333333,
             "#9c179e"
            ],
            [
             0.4444444444444444,
             "#bd3786"
            ],
            [
             0.5555555555555556,
             "#d8576b"
            ],
            [
             0.6666666666666666,
             "#ed7953"
            ],
            [
             0.7777777777777778,
             "#fb9f3a"
            ],
            [
             0.8888888888888888,
             "#fdca26"
            ],
            [
             1,
             "#f0f921"
            ]
           ]
          },
          "colorway": [
           "#636efa",
           "#EF553B",
           "#00cc96",
           "#ab63fa",
           "#FFA15A",
           "#19d3f3",
           "#FF6692",
           "#B6E880",
           "#FF97FF",
           "#FECB52"
          ],
          "font": {
           "color": "#2a3f5f"
          },
          "geo": {
           "bgcolor": "white",
           "lakecolor": "white",
           "landcolor": "#E5ECF6",
           "showlakes": true,
           "showland": true,
           "subunitcolor": "white"
          },
          "hoverlabel": {
           "align": "left"
          },
          "hovermode": "closest",
          "mapbox": {
           "style": "light"
          },
          "paper_bgcolor": "white",
          "plot_bgcolor": "#E5ECF6",
          "polar": {
           "angularaxis": {
            "gridcolor": "white",
            "linecolor": "white",
            "ticks": ""
           },
           "bgcolor": "#E5ECF6",
           "radialaxis": {
            "gridcolor": "white",
            "linecolor": "white",
            "ticks": ""
           }
          },
          "scene": {
           "xaxis": {
            "backgroundcolor": "#E5ECF6",
            "gridcolor": "white",
            "gridwidth": 2,
            "linecolor": "white",
            "showbackground": true,
            "ticks": "",
            "zerolinecolor": "white"
           },
           "yaxis": {
            "backgroundcolor": "#E5ECF6",
            "gridcolor": "white",
            "gridwidth": 2,
            "linecolor": "white",
            "showbackground": true,
            "ticks": "",
            "zerolinecolor": "white"
           },
           "zaxis": {
            "backgroundcolor": "#E5ECF6",
            "gridcolor": "white",
            "gridwidth": 2,
            "linecolor": "white",
            "showbackground": true,
            "ticks": "",
            "zerolinecolor": "white"
           }
          },
          "shapedefaults": {
           "line": {
            "color": "#2a3f5f"
           }
          },
          "ternary": {
           "aaxis": {
            "gridcolor": "white",
            "linecolor": "white",
            "ticks": ""
           },
           "baxis": {
            "gridcolor": "white",
            "linecolor": "white",
            "ticks": ""
           },
           "bgcolor": "#E5ECF6",
           "caxis": {
            "gridcolor": "white",
            "linecolor": "white",
            "ticks": ""
           }
          },
          "title": {
           "x": 0.05
          },
          "xaxis": {
           "automargin": true,
           "gridcolor": "white",
           "linecolor": "white",
           "ticks": "",
           "title": {
            "standoff": 15
           },
           "zerolinecolor": "white",
           "zerolinewidth": 2
          },
          "yaxis": {
           "automargin": true,
           "gridcolor": "white",
           "linecolor": "white",
           "ticks": "",
           "title": {
            "standoff": 15
           },
           "zerolinecolor": "white",
           "zerolinewidth": 2
          }
         }
        },
        "xaxis": {
         "anchor": "y",
         "domain": [
          0,
          1
         ],
         "title": {
          "text": "dtr"
         }
        },
        "yaxis": {
         "anchor": "x",
         "domain": [
          0,
          1
         ],
         "title": {
          "text": "qtd"
         }
        }
       }
      }
     },
     "metadata": {},
     "output_type": "display_data"
    }
   ],
   "source": [
    "import plotly.express as px\n",
    "import os\n",
    "import pandas as pd\n",
    " \n",
    "#Changing the current working directory\n",
    "\n",
    "df = pd.read_json(\"VendaFINALGG.json\")\n",
    "df = df.copy()\n",
    " \n",
    "categorical_col_updated = ['qtd','dtr']\n",
    "#bike = pandas.get_dummies(bike, columns = categorical_col_updated) \n",
    " \n",
    "#Separating the dependent and independent data variables into two data frames.\n",
    "from sklearn.model_selection import train_test_split \n",
    "   \n",
    "X =df.drop(['qtd'],axis=1) \n",
    "Y = df['dtr']\n",
    "\n",
    "X =df.drop(['dtr'],axis=1) \n",
    "Y = df['qtd']\n",
    "\n",
    "#Building the Decision Tree Model on our dataset\n",
    "from sklearn.tree import DecisionTreeRegressor\n",
    "X_train, X_test, Y_train, Y_test = train_test_split(df, Y, test_size=0.2,random_state=0)\n",
    "\n",
    "print (X_test.shape, Y_test.shape)\n",
    "DT_model = DecisionTreeRegressor(max_depth=5).fit(X_train,Y_train)\n",
    "DT_predict = DT_model.predict(X_test) #Predictions on Testing data\n",
    "\n",
    "print(DT_predict)\n",
    "\n",
    "#! pip install statsmodels\n",
    "\n",
    "df =pd.read_json(\"VendaFINALGG.json\")\n",
    "fig = px.scatter(df, x=\"dtr\", y=\"qtd\", trendline=\"ols\")\n",
    "fig.show()"
   ]
  },
  {
   "cell_type": "code",
   "execution_count": null,
   "metadata": {},
   "outputs": [],
   "source": []
  }
 ],
 "metadata": {
  "kernelspec": {
   "display_name": "Python 3.9.7 ('tensorflow_env')",
   "language": "python",
   "name": "python3"
  },
  "language_info": {
   "codemirror_mode": {
    "name": "ipython",
    "version": 3
   },
   "file_extension": ".py",
   "mimetype": "text/x-python",
   "name": "python",
   "nbconvert_exporter": "python",
   "pygments_lexer": "ipython3",
   "version": "3.9.7"
  },
  "orig_nbformat": 4,
  "vscode": {
   "interpreter": {
    "hash": "a93e786dcde600a11c7b7ace000f4d95c3c1cfb12cea541026ad67c9b872ce41"
   }
  }
 },
 "nbformat": 4,
 "nbformat_minor": 2
}

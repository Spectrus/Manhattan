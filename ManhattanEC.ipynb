{
 "cells": [
  {
   "cell_type": "code",
   "execution_count": 1,
   "metadata": {},
   "outputs": [
    {
     "data": {
      "application/vnd.plotly.v1+json": {
       "config": {
        "plotlyServerURL": "https://plot.ly"
       },
       "data": [
        {
         "hovertemplate": "pred=False<br>dtr=%{x}<br>qtd=%{y}<extra></extra>",
         "legendgroup": "False",
         "line": {
          "color": "#636efa",
          "dash": "solid"
         },
         "marker": {
          "symbol": "circle"
         },
         "mode": "markers+lines",
         "name": "False",
         "orientation": "v",
         "showlegend": true,
         "type": "scatter",
         "x": [
          "Janeiro/22/01",
          "Janeiro/22/02",
          "Janeiro/22/03",
          "Janeiro/22/04",
          "Janeiro/22/05",
          "Janeiro/22/06",
          "Janeiro/22/07",
          "Janeiro/22/08",
          "Janeiro/22/09",
          "Janeiro/22/10",
          "Janeiro/22/11",
          "Janeiro/22/12",
          "Janeiro/22/13",
          "Janeiro/22/14",
          "Janeiro/22/15",
          "Janeiro/22/16",
          "Janeiro/22/17",
          "Janeiro/22/18",
          "Janeiro/22/19",
          "Janeiro/22/20",
          "Janeiro/22/21",
          "Janeiro/22/22",
          "Janeiro/22/23",
          "Janeiro/22/24",
          "Janeiro/22/25",
          "Janeiro/22/26",
          "Janeiro/22/27",
          "Janeiro/22/28",
          "Janeiro/22/29",
          "Janeiro/22/30",
          "Janeiro/22/31",
          "Fevereiro/22/01",
          "Fevereiro/22/02",
          "Fevereiro/22/03",
          "Fevereiro/22/04",
          "Fevereiro/22/05",
          "Fevereiro/22/06",
          "Fevereiro/22/07",
          "Fevereiro/22/08",
          "Fevereiro/22/09",
          "Fevereiro/22/10",
          "Fevereiro/22/11",
          "Fevereiro/22/12",
          "Fevereiro/22/13",
          "Fevereiro/22/14",
          "Fevereiro/22/15",
          "Fevereiro/22/16",
          "Fevereiro/22/17",
          "Fevereiro/22/18",
          "Fevereiro/22/19",
          "Fevereiro/22/20",
          "Fevereiro/22/21",
          "Fevereiro/22/22",
          "Fevereiro/22/23",
          "Fevereiro/22/24",
          "Fevereiro/22/25",
          "Fevereiro/22/26",
          "Fevereiro/22/27",
          "Febereiro/22/28",
          "Março/22/01",
          "Março/22/02",
          "Março/22/03",
          "Março/22/04",
          "Março/22/05",
          "Março/22/06",
          "Março/22/07",
          "Março/22/08",
          "Março/22/09",
          "Março/22/10",
          "Março/22/11",
          "Março/22/12",
          "Março/22/13",
          "Março/22/14",
          "Março/22/15",
          "Março/22/16",
          "Março/22/17",
          "Março/22/18",
          "Março/22/19",
          "Março/22/20",
          "Março/22/21",
          "Março/22/22",
          "Março/22/23",
          "Março/22/24",
          "Março/22/25",
          "Março/22/26",
          "Março/22/27",
          "Março/22/28",
          "Março/22/29",
          "Março/22/30",
          "Março/22/31",
          "Abril/22/01",
          "Abril/22/02",
          "Abril/22/03",
          "Abril/22/04",
          "Abril/22/05",
          "Abril/22/06",
          "Abril/22/07",
          "Abril/22/08",
          "Abril/22/09",
          "Abril/22/10",
          "Abril/22/11",
          "Abril/22/12",
          "Abril/22/13",
          "Abril/22/14",
          "Abril/22/15",
          "Abril/22/16",
          "Abril/22/17",
          "Abril/22/18",
          "Abril/22/19",
          "Abril/22/20",
          "Abril/22/21"
         ],
         "xaxis": "x",
         "y": [
          1110,
          884,
          1724,
          1631,
          1395,
          1368,
          1908,
          1020,
          878,
          1316,
          1197,
          1536,
          1578,
          1691,
          1037,
          822,
          1379,
          1535,
          2169,
          2170,
          2590,
          1959,
          1954,
          1982,
          2016,
          2379,
          2069,
          2488,
          1917,
          1357,
          2014,
          2153,
          1840,
          2570,
          3622,
          2972,
          1769,
          3637,
          3117,
          2709,
          2421,
          2424,
          2570,
          1475,
          2747,
          2917,
          2346,
          2780,
          4097,
          2394,
          2485,
          3800,
          2723,
          2811,
          3164,
          4276,
          3104,
          1619,
          1958,
          2260,
          2381,
          3007,
          3774,
          2460,
          2685,
          3652,
          3396,
          3211,
          5539,
          5649,
          3375,
          3163,
          4249,
          3546,
          2871,
          3881,
          5092,
          3813,
          3642,
          4318,
          3987,
          2223,
          2840,
          4506,
          4126,
          3623,
          4835,
          4948,
          4432,
          4990,
          6221,
          4479,
          3210,
          4696,
          3928,
          2663,
          3311,
          3739,
          2145,
          2271,
          3547,
          2784,
          3164,
          4017,
          1930,
          2215,
          1694,
          3327,
          2376,
          3126,
          2075
         ],
         "yaxis": "y"
        },
        {
         "hovertemplate": "pred=True<br>dtr=%{x}<br>qtd=%{y}<extra></extra>",
         "legendgroup": "True",
         "line": {
          "color": "#EF553B",
          "dash": "solid"
         },
         "marker": {
          "symbol": "circle"
         },
         "mode": "markers+lines",
         "name": "True",
         "orientation": "v",
         "showlegend": true,
         "type": "scatter",
         "x": [
          "Abril/22/22",
          "Abril/22/23",
          "Abril/22/24",
          "Abril/22/25",
          "Abril/22/26",
          "Abril/22/27",
          "Abril/22/28",
          "Abril/22/29",
          "Abril/22/30",
          "Maio/22/01",
          "Maio/22/02",
          "Maio/22/03",
          "Maio/22/04",
          "Maio/22/05",
          "Maio/22/05",
          "Maio/22/06",
          "Maio/22/07",
          "Maio/22/08",
          "Maio/22/09",
          "Maio/22/10",
          "Maio/22/11",
          "Maio/22/12",
          "Maio/22/13",
          "Maio/22/14"
         ],
         "xaxis": "x",
         "y": [
          2232.66,
          1073.5,
          4891.5,
          1731.5,
          1978.25,
          3187,
          2792.4,
          1073.5,
          1373.33,
          5649,
          4891.5,
          1978.25,
          1579.8,
          3775.33,
          3775.33,
          2792.4,
          3187,
          1731.5,
          2792.4,
          3187,
          2390,
          2705.66,
          853,
          2142.4
         ],
         "yaxis": "y"
        },
        {
         "mode": "lines+markers",
         "name": "eTo",
         "type": "scatter",
         "x": [
          "Janeiro/22/01",
          "Janeiro/22/02",
          "Janeiro/22/03",
          "Janeiro/22/04",
          "Janeiro/22/05",
          "Janeiro/22/06",
          "Janeiro/22/07",
          "Janeiro/22/08",
          "Janeiro/22/09",
          "Janeiro/22/10",
          "Janeiro/22/11",
          "Janeiro/22/12",
          "Janeiro/22/13",
          "Janeiro/22/14",
          "Janeiro/22/15",
          "Janeiro/22/16",
          "Janeiro/22/17",
          "Janeiro/22/18",
          "Janeiro/22/19",
          "Janeiro/22/20",
          "Janeiro/22/21",
          "Janeiro/22/22",
          "Janeiro/22/23",
          "Janeiro/22/24",
          "Janeiro/22/25",
          "Janeiro/22/26",
          "Janeiro/22/27",
          "Janeiro/22/28",
          "Janeiro/22/29",
          "Janeiro/22/30",
          "Janeiro/22/31",
          "Fevereiro/22/01",
          "Fevereiro/22/02",
          "Fevereiro/22/03",
          "Fevereiro/22/04",
          "Fevereiro/22/05",
          "Fevereiro/22/06",
          "Fevereiro/22/07",
          "Fevereiro/22/08",
          "Fevereiro/22/09",
          "Fevereiro/22/10",
          "Fevereiro/22/11",
          "Fevereiro/22/12",
          "Fevereiro/22/13",
          "Fevereiro/22/14",
          "Fevereiro/22/15",
          "Fevereiro/22/16",
          "Fevereiro/22/17",
          "Fevereiro/22/18",
          "Fevereiro/22/19",
          "Fevereiro/22/20",
          "Fevereiro/22/21",
          "Fevereiro/22/22",
          "Fevereiro/22/23",
          "Fevereiro/22/24",
          "Fevereiro/22/25",
          "Fevereiro/22/26",
          "Fevereiro/22/27",
          "Febereiro/22/28",
          "Março/22/01",
          "Março/22/02",
          "Março/22/03",
          "Março/22/04",
          "Março/22/05",
          "Março/22/06",
          "Março/22/07",
          "Março/22/08",
          "Março/22/09",
          "Março/22/10",
          "Março/22/11",
          "Março/22/12",
          "Março/22/13",
          "Março/22/14",
          "Março/22/15",
          "Março/22/16",
          "Março/22/17",
          "Março/22/18",
          "Março/22/19",
          "Março/22/20",
          "Março/22/21",
          "Março/22/22",
          "Março/22/23",
          "Março/22/24",
          "Março/22/25",
          "Março/22/26",
          "Março/22/27",
          "Março/22/28",
          "Março/22/29",
          "Março/22/30",
          "Março/22/31",
          "Abril/22/01",
          "Abril/22/02",
          "Abril/22/03",
          "Abril/22/04",
          "Abril/22/05",
          "Abril/22/06",
          "Abril/22/07",
          "Abril/22/08",
          "Abril/22/09",
          "Abril/22/10",
          "Abril/22/11",
          "Abril/22/12",
          "Abril/22/13",
          "Abril/22/14",
          "Abril/22/15",
          "Abril/22/16",
          "Abril/22/17",
          "Abril/22/18",
          "Abril/22/19",
          "Abril/22/20",
          "Abril/22/21",
          "Abril/22/22",
          "Abril/22/23",
          "Abril/22/24",
          "Abril/22/25",
          "Abril/22/26",
          "Abril/22/27",
          "Abril/22/28",
          "Abril/22/29",
          "Abril/22/30",
          "Maio/22/01",
          "Maio/22/02",
          "Maio/22/03",
          "Maio/22/04",
          "Maio/22/05",
          "Maio/22/05",
          "Maio/22/06",
          "Maio/22/07",
          "Maio/22/08",
          "Maio/22/09",
          "Maio/22/10",
          "Maio/22/11",
          "Maio/22/12",
          "Maio/22/13",
          "Maio/22/14"
         ],
         "y": [
          6597.723,
          4639.113,
          2685.473,
          703.113,
          5703.113,
          3686.623,
          1307.923,
          6307.923,
          4238.613,
          9238.613,
          6750.323,
          4833.123,
          3476.213,
          8476.213,
          6462.683,
          4309.333,
          2469.023,
          7469.023,
          4899.143,
          6277.283,
          3305.183,
          1535.763,
          6535.763,
          7899.263,
          4782.733,
          9782.733,
          7073.483,
          4651.993,
          9651.993,
          7228.243,
          12228.243,
          9657.773,
          8183.013,
          5436.233,
          2519.633,
          7519.633,
          5173.463,
          10173.463,
          7393.643,
          3296.443,
          13296.443,
          10901.953,
          8417.293,
          13417.293,
          9617.343,
          6893.983,
          11893.983,
          9082.763,
          5919.143,
          10919.143,
          6643.553,
          11643.553,
          8540.013,
          6921.113,
          11921.113,
          9962.683,
          9962.683,
          7703.133,
          5321.773,
          10321.773,
          7314.733,
          3540.563,
          8540.563,
          3395.403,
          8395.403,
          28395.403,
          24743.533,
          21348.023,
          26348.023,
          23137.48,
          17598.42,
          11949.76,
          16949.76,
          26949.76,
          23575.05,
          20412.1,
          16163.26,
          26163.26,
          22616.83,
          19745.88,
          15864.44,
          10772.16,
          15772.16,
          11959.5,
          8317.46,
          13317.46,
          8999.58,
          20012.16,
          17789.64,
          14949.18,
          29949.18,
          21316.74,
          17693.69,
          12858.31,
          7909.85,
          17909.85,
          13477.72,
          8488.19,
          2267.39,
          17267.39,
          12788.31,
          9578.11,
          14578.11,
          19578.11,
          24578.11,
          19882.46,
          24882.46,
          29882.46,
          25954.38,
          23291.86,
          29980.91,
          27748,
          26675,
          21784,
          20053,
          18075,
          14888,
          12096,
          11023,
          9650,
          4001,
          9001,
          "",
          "",
          "",
          "",
          "",
          "",
          "",
          "",
          "",
          "",
          "",
          "",
          ""
         ]
        }
       ],
       "layout": {
        "legend": {
         "title": {
          "text": "pred"
         },
         "tracegroupgap": 0
        },
        "margin": {
         "t": 60
        },
        "template": {
         "data": {
          "bar": [
           {
            "error_x": {
             "color": "#2a3f5f"
            },
            "error_y": {
             "color": "#2a3f5f"
            },
            "marker": {
             "line": {
              "color": "#E5ECF6",
              "width": 0.5
             },
             "pattern": {
              "fillmode": "overlay",
              "size": 10,
              "solidity": 0.2
             }
            },
            "type": "bar"
           }
          ],
          "barpolar": [
           {
            "marker": {
             "line": {
              "color": "#E5ECF6",
              "width": 0.5
             },
             "pattern": {
              "fillmode": "overlay",
              "size": 10,
              "solidity": 0.2
             }
            },
            "type": "barpolar"
           }
          ],
          "carpet": [
           {
            "aaxis": {
             "endlinecolor": "#2a3f5f",
             "gridcolor": "white",
             "linecolor": "white",
             "minorgridcolor": "white",
             "startlinecolor": "#2a3f5f"
            },
            "baxis": {
             "endlinecolor": "#2a3f5f",
             "gridcolor": "white",
             "linecolor": "white",
             "minorgridcolor": "white",
             "startlinecolor": "#2a3f5f"
            },
            "type": "carpet"
           }
          ],
          "choropleth": [
           {
            "colorbar": {
             "outlinewidth": 0,
             "ticks": ""
            },
            "type": "choropleth"
           }
          ],
          "contour": [
           {
            "colorbar": {
             "outlinewidth": 0,
             "ticks": ""
            },
            "colorscale": [
             [
              0,
              "#0d0887"
             ],
             [
              0.1111111111111111,
              "#46039f"
             ],
             [
              0.2222222222222222,
              "#7201a8"
             ],
             [
              0.3333333333333333,
              "#9c179e"
             ],
             [
              0.4444444444444444,
              "#bd3786"
             ],
             [
              0.5555555555555556,
              "#d8576b"
             ],
             [
              0.6666666666666666,
              "#ed7953"
             ],
             [
              0.7777777777777778,
              "#fb9f3a"
             ],
             [
              0.8888888888888888,
              "#fdca26"
             ],
             [
              1,
              "#f0f921"
             ]
            ],
            "type": "contour"
           }
          ],
          "contourcarpet": [
           {
            "colorbar": {
             "outlinewidth": 0,
             "ticks": ""
            },
            "type": "contourcarpet"
           }
          ],
          "heatmap": [
           {
            "colorbar": {
             "outlinewidth": 0,
             "ticks": ""
            },
            "colorscale": [
             [
              0,
              "#0d0887"
             ],
             [
              0.1111111111111111,
              "#46039f"
             ],
             [
              0.2222222222222222,
              "#7201a8"
             ],
             [
              0.3333333333333333,
              "#9c179e"
             ],
             [
              0.4444444444444444,
              "#bd3786"
             ],
             [
              0.5555555555555556,
              "#d8576b"
             ],
             [
              0.6666666666666666,
              "#ed7953"
             ],
             [
              0.7777777777777778,
              "#fb9f3a"
             ],
             [
              0.8888888888888888,
              "#fdca26"
             ],
             [
              1,
              "#f0f921"
             ]
            ],
            "type": "heatmap"
           }
          ],
          "heatmapgl": [
           {
            "colorbar": {
             "outlinewidth": 0,
             "ticks": ""
            },
            "colorscale": [
             [
              0,
              "#0d0887"
             ],
             [
              0.1111111111111111,
              "#46039f"
             ],
             [
              0.2222222222222222,
              "#7201a8"
             ],
             [
              0.3333333333333333,
              "#9c179e"
             ],
             [
              0.4444444444444444,
              "#bd3786"
             ],
             [
              0.5555555555555556,
              "#d8576b"
             ],
             [
              0.6666666666666666,
              "#ed7953"
             ],
             [
              0.7777777777777778,
              "#fb9f3a"
             ],
             [
              0.8888888888888888,
              "#fdca26"
             ],
             [
              1,
              "#f0f921"
             ]
            ],
            "type": "heatmapgl"
           }
          ],
          "histogram": [
           {
            "marker": {
             "pattern": {
              "fillmode": "overlay",
              "size": 10,
              "solidity": 0.2
             }
            },
            "type": "histogram"
           }
          ],
          "histogram2d": [
           {
            "colorbar": {
             "outlinewidth": 0,
             "ticks": ""
            },
            "colorscale": [
             [
              0,
              "#0d0887"
             ],
             [
              0.1111111111111111,
              "#46039f"
             ],
             [
              0.2222222222222222,
              "#7201a8"
             ],
             [
              0.3333333333333333,
              "#9c179e"
             ],
             [
              0.4444444444444444,
              "#bd3786"
             ],
             [
              0.5555555555555556,
              "#d8576b"
             ],
             [
              0.6666666666666666,
              "#ed7953"
             ],
             [
              0.7777777777777778,
              "#fb9f3a"
             ],
             [
              0.8888888888888888,
              "#fdca26"
             ],
             [
              1,
              "#f0f921"
             ]
            ],
            "type": "histogram2d"
           }
          ],
          "histogram2dcontour": [
           {
            "colorbar": {
             "outlinewidth": 0,
             "ticks": ""
            },
            "colorscale": [
             [
              0,
              "#0d0887"
             ],
             [
              0.1111111111111111,
              "#46039f"
             ],
             [
              0.2222222222222222,
              "#7201a8"
             ],
             [
              0.3333333333333333,
              "#9c179e"
             ],
             [
              0.4444444444444444,
              "#bd3786"
             ],
             [
              0.5555555555555556,
              "#d8576b"
             ],
             [
              0.6666666666666666,
              "#ed7953"
             ],
             [
              0.7777777777777778,
              "#fb9f3a"
             ],
             [
              0.8888888888888888,
              "#fdca26"
             ],
             [
              1,
              "#f0f921"
             ]
            ],
            "type": "histogram2dcontour"
           }
          ],
          "mesh3d": [
           {
            "colorbar": {
             "outlinewidth": 0,
             "ticks": ""
            },
            "type": "mesh3d"
           }
          ],
          "parcoords": [
           {
            "line": {
             "colorbar": {
              "outlinewidth": 0,
              "ticks": ""
             }
            },
            "type": "parcoords"
           }
          ],
          "pie": [
           {
            "automargin": true,
            "type": "pie"
           }
          ],
          "scatter": [
           {
            "fillpattern": {
             "fillmode": "overlay",
             "size": 10,
             "solidity": 0.2
            },
            "type": "scatter"
           }
          ],
          "scatter3d": [
           {
            "line": {
             "colorbar": {
              "outlinewidth": 0,
              "ticks": ""
             }
            },
            "marker": {
             "colorbar": {
              "outlinewidth": 0,
              "ticks": ""
             }
            },
            "type": "scatter3d"
           }
          ],
          "scattercarpet": [
           {
            "marker": {
             "colorbar": {
              "outlinewidth": 0,
              "ticks": ""
             }
            },
            "type": "scattercarpet"
           }
          ],
          "scattergeo": [
           {
            "marker": {
             "colorbar": {
              "outlinewidth": 0,
              "ticks": ""
             }
            },
            "type": "scattergeo"
           }
          ],
          "scattergl": [
           {
            "marker": {
             "colorbar": {
              "outlinewidth": 0,
              "ticks": ""
             }
            },
            "type": "scattergl"
           }
          ],
          "scattermapbox": [
           {
            "marker": {
             "colorbar": {
              "outlinewidth": 0,
              "ticks": ""
             }
            },
            "type": "scattermapbox"
           }
          ],
          "scatterpolar": [
           {
            "marker": {
             "colorbar": {
              "outlinewidth": 0,
              "ticks": ""
             }
            },
            "type": "scatterpolar"
           }
          ],
          "scatterpolargl": [
           {
            "marker": {
             "colorbar": {
              "outlinewidth": 0,
              "ticks": ""
             }
            },
            "type": "scatterpolargl"
           }
          ],
          "scatterternary": [
           {
            "marker": {
             "colorbar": {
              "outlinewidth": 0,
              "ticks": ""
             }
            },
            "type": "scatterternary"
           }
          ],
          "surface": [
           {
            "colorbar": {
             "outlinewidth": 0,
             "ticks": ""
            },
            "colorscale": [
             [
              0,
              "#0d0887"
             ],
             [
              0.1111111111111111,
              "#46039f"
             ],
             [
              0.2222222222222222,
              "#7201a8"
             ],
             [
              0.3333333333333333,
              "#9c179e"
             ],
             [
              0.4444444444444444,
              "#bd3786"
             ],
             [
              0.5555555555555556,
              "#d8576b"
             ],
             [
              0.6666666666666666,
              "#ed7953"
             ],
             [
              0.7777777777777778,
              "#fb9f3a"
             ],
             [
              0.8888888888888888,
              "#fdca26"
             ],
             [
              1,
              "#f0f921"
             ]
            ],
            "type": "surface"
           }
          ],
          "table": [
           {
            "cells": {
             "fill": {
              "color": "#EBF0F8"
             },
             "line": {
              "color": "white"
             }
            },
            "header": {
             "fill": {
              "color": "#C8D4E3"
             },
             "line": {
              "color": "white"
             }
            },
            "type": "table"
           }
          ]
         },
         "layout": {
          "annotationdefaults": {
           "arrowcolor": "#2a3f5f",
           "arrowhead": 0,
           "arrowwidth": 1
          },
          "autotypenumbers": "strict",
          "coloraxis": {
           "colorbar": {
            "outlinewidth": 0,
            "ticks": ""
           }
          },
          "colorscale": {
           "diverging": [
            [
             0,
             "#8e0152"
            ],
            [
             0.1,
             "#c51b7d"
            ],
            [
             0.2,
             "#de77ae"
            ],
            [
             0.3,
             "#f1b6da"
            ],
            [
             0.4,
             "#fde0ef"
            ],
            [
             0.5,
             "#f7f7f7"
            ],
            [
             0.6,
             "#e6f5d0"
            ],
            [
             0.7,
             "#b8e186"
            ],
            [
             0.8,
             "#7fbc41"
            ],
            [
             0.9,
             "#4d9221"
            ],
            [
             1,
             "#276419"
            ]
           ],
           "sequential": [
            [
             0,
             "#0d0887"
            ],
            [
             0.1111111111111111,
             "#46039f"
            ],
            [
             0.2222222222222222,
             "#7201a8"
            ],
            [
             0.3333333333333333,
             "#9c179e"
            ],
            [
             0.4444444444444444,
             "#bd3786"
            ],
            [
             0.5555555555555556,
             "#d8576b"
            ],
            [
             0.6666666666666666,
             "#ed7953"
            ],
            [
             0.7777777777777778,
             "#fb9f3a"
            ],
            [
             0.8888888888888888,
             "#fdca26"
            ],
            [
             1,
             "#f0f921"
            ]
           ],
           "sequentialminus": [
            [
             0,
             "#0d0887"
            ],
            [
             0.1111111111111111,
             "#46039f"
            ],
            [
             0.2222222222222222,
             "#7201a8"
            ],
            [
             0.3333333333333333,
             "#9c179e"
            ],
            [
             0.4444444444444444,
             "#bd3786"
            ],
            [
             0.5555555555555556,
             "#d8576b"
            ],
            [
             0.6666666666666666,
             "#ed7953"
            ],
            [
             0.7777777777777778,
             "#fb9f3a"
            ],
            [
             0.8888888888888888,
             "#fdca26"
            ],
            [
             1,
             "#f0f921"
            ]
           ]
          },
          "colorway": [
           "#636efa",
           "#EF553B",
           "#00cc96",
           "#ab63fa",
           "#FFA15A",
           "#19d3f3",
           "#FF6692",
           "#B6E880",
           "#FF97FF",
           "#FECB52"
          ],
          "font": {
           "color": "#2a3f5f"
          },
          "geo": {
           "bgcolor": "white",
           "lakecolor": "white",
           "landcolor": "#E5ECF6",
           "showlakes": true,
           "showland": true,
           "subunitcolor": "white"
          },
          "hoverlabel": {
           "align": "left"
          },
          "hovermode": "closest",
          "mapbox": {
           "style": "light"
          },
          "paper_bgcolor": "white",
          "plot_bgcolor": "#E5ECF6",
          "polar": {
           "angularaxis": {
            "gridcolor": "white",
            "linecolor": "white",
            "ticks": ""
           },
           "bgcolor": "#E5ECF6",
           "radialaxis": {
            "gridcolor": "white",
            "linecolor": "white",
            "ticks": ""
           }
          },
          "scene": {
           "xaxis": {
            "backgroundcolor": "#E5ECF6",
            "gridcolor": "white",
            "gridwidth": 2,
            "linecolor": "white",
            "showbackground": true,
            "ticks": "",
            "zerolinecolor": "white"
           },
           "yaxis": {
            "backgroundcolor": "#E5ECF6",
            "gridcolor": "white",
            "gridwidth": 2,
            "linecolor": "white",
            "showbackground": true,
            "ticks": "",
            "zerolinecolor": "white"
           },
           "zaxis": {
            "backgroundcolor": "#E5ECF6",
            "gridcolor": "white",
            "gridwidth": 2,
            "linecolor": "white",
            "showbackground": true,
            "ticks": "",
            "zerolinecolor": "white"
           }
          },
          "shapedefaults": {
           "line": {
            "color": "#2a3f5f"
           }
          },
          "ternary": {
           "aaxis": {
            "gridcolor": "white",
            "linecolor": "white",
            "ticks": ""
           },
           "baxis": {
            "gridcolor": "white",
            "linecolor": "white",
            "ticks": ""
           },
           "bgcolor": "#E5ECF6",
           "caxis": {
            "gridcolor": "white",
            "linecolor": "white",
            "ticks": ""
           }
          },
          "title": {
           "x": 0.05
          },
          "xaxis": {
           "automargin": true,
           "gridcolor": "white",
           "linecolor": "white",
           "ticks": "",
           "title": {
            "standoff": 15
           },
           "zerolinecolor": "white",
           "zerolinewidth": 2
          },
          "yaxis": {
           "automargin": true,
           "gridcolor": "white",
           "linecolor": "white",
           "ticks": "",
           "title": {
            "standoff": 15
           },
           "zerolinecolor": "white",
           "zerolinewidth": 2
          }
         }
        },
        "xaxis": {
         "anchor": "y",
         "domain": [
          0,
          1
         ],
         "title": {
          "text": "dtr"
         }
        },
        "yaxis": {
         "anchor": "x",
         "domain": [
          0,
          1
         ],
         "title": {
          "text": "qtd"
         }
        }
       }
      }
     },
     "metadata": {},
     "output_type": "display_data"
    },
    {
     "data": {
      "text/plain": [
       "'Maio/22/01'"
      ]
     },
     "execution_count": 1,
     "metadata": {},
     "output_type": "execute_result"
    }
   ],
   "source": [
    "import plotly.express as px \n",
    "import pandas as pd \n",
    "import numpy as np \n",
    "\n",
    "# Get some data\n",
    "df = pd.read_json(\"EC.json\")\n",
    "\n",
    "# Plot \n",
    "fig = px.line(df, x=\"dtr\", y=\"qtd\", color=\"pred\",markers=\"True\")\n",
    "\n",
    "# Only thing I figured is - I could do this \n",
    "fig.add_scatter(x=df['dtr'], y=df['eTo'] , name=\"eTo\",mode =\"lines+markers\")# Not what is desired - need a line \n",
    "\n",
    "# Show plot \n",
    "fig.show()\n",
    "\"Maio/22/01\""
   ]
  },
  {
   "cell_type": "code",
   "execution_count": 2,
   "metadata": {},
   "outputs": [
    {
     "name": "stdout",
     "output_type": "stream",
     "text": [
      "27748\n"
     ]
    }
   ],
   "source": [
    "\n",
    "a = 29980\n",
    "b = 2232\n",
    "\n",
    "result = a - b\n",
    "\n",
    "print(result)"
   ]
  },
  {
   "cell_type": "code",
   "execution_count": 3,
   "metadata": {},
   "outputs": [
    {
     "name": "stdout",
     "output_type": "stream",
     "text": [
      "26675\n"
     ]
    }
   ],
   "source": [
    "\n",
    "\n",
    "a = 27748\n",
    "b = 1073\n",
    "\n",
    "result = a - b\n",
    "\n",
    "print(result)"
   ]
  },
  {
   "cell_type": "code",
   "execution_count": 4,
   "metadata": {},
   "outputs": [
    {
     "name": "stdout",
     "output_type": "stream",
     "text": [
      "21784\n"
     ]
    }
   ],
   "source": [
    "\n",
    "a =26675\n",
    "b = 4891\n",
    "\n",
    "result = a - b\n",
    "\n",
    "print(result)"
   ]
  },
  {
   "cell_type": "code",
   "execution_count": 5,
   "metadata": {},
   "outputs": [
    {
     "name": "stdout",
     "output_type": "stream",
     "text": [
      "20053\n"
     ]
    }
   ],
   "source": [
    "\n",
    "\n",
    "a =21784\n",
    "b = 1731\n",
    "\n",
    "result = a - b\n",
    "\n",
    "print(result)"
   ]
  },
  {
   "cell_type": "code",
   "execution_count": 6,
   "metadata": {},
   "outputs": [
    {
     "name": "stdout",
     "output_type": "stream",
     "text": [
      "18075\n"
     ]
    }
   ],
   "source": [
    "21784\n",
    "\n",
    "a =20053\n",
    "b = 1978\n",
    "\n",
    "result = a - b\n",
    "\n",
    "print(result)"
   ]
  },
  {
   "cell_type": "code",
   "execution_count": 7,
   "metadata": {},
   "outputs": [
    {
     "name": "stdout",
     "output_type": "stream",
     "text": [
      "14888\n"
     ]
    }
   ],
   "source": [
    "21784\n",
    "\n",
    "a =18075\n",
    "b = 3187\n",
    "\n",
    "result = a - b\n",
    "print(result)"
   ]
  },
  {
   "cell_type": "code",
   "execution_count": 8,
   "metadata": {},
   "outputs": [
    {
     "name": "stdout",
     "output_type": "stream",
     "text": [
      "12096\n"
     ]
    }
   ],
   "source": [
    "\n",
    "a =14888\n",
    "b = 2792\n",
    "\n",
    "result = a - b\n",
    "print(result)"
   ]
  },
  {
   "cell_type": "code",
   "execution_count": 9,
   "metadata": {},
   "outputs": [
    {
     "name": "stdout",
     "output_type": "stream",
     "text": [
      "11023\n"
     ]
    }
   ],
   "source": [
    "\n",
    "a =12096\n",
    "b = 1073\n",
    "\n",
    "result = a - b\n",
    "print(result)"
   ]
  },
  {
   "cell_type": "code",
   "execution_count": 10,
   "metadata": {},
   "outputs": [
    {
     "name": "stdout",
     "output_type": "stream",
     "text": [
      "9650\n"
     ]
    }
   ],
   "source": [
    "\n",
    "a =11023\n",
    "b = 1373\n",
    "\n",
    "result = a - b\n",
    "print(result)"
   ]
  },
  {
   "cell_type": "code",
   "execution_count": 11,
   "metadata": {},
   "outputs": [
    {
     "name": "stdout",
     "output_type": "stream",
     "text": [
      "4001\n"
     ]
    }
   ],
   "source": [
    "\n",
    "a =9650\n",
    "b = 5649\n",
    "\n",
    "result = a - b\n",
    "print(result)"
   ]
  }
 ],
 "metadata": {
  "kernelspec": {
   "display_name": "Python 3.9.7 ('tensorflow_env')",
   "language": "python",
   "name": "python3"
  },
  "language_info": {
   "codemirror_mode": {
    "name": "ipython",
    "version": 3
   },
   "file_extension": ".py",
   "mimetype": "text/x-python",
   "name": "python",
   "nbconvert_exporter": "python",
   "pygments_lexer": "ipython3",
   "version": "3.9.7"
  },
  "orig_nbformat": 4,
  "vscode": {
   "interpreter": {
    "hash": "a93e786dcde600a11c7b7ace000f4d95c3c1cfb12cea541026ad67c9b872ce41"
   }
  }
 },
 "nbformat": 4,
 "nbformat_minor": 2
}

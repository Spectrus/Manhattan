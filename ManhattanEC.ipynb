{
 "cells": [
  {
   "cell_type": "code",
   "execution_count": 21,
   "metadata": {},
   "outputs": [
    {
     "name": "stdout",
     "output_type": "stream",
     "text": [
      "(23, 2) (23,)\n",
      "[-2232.66666667 -1073.5        -4891.5        -1731.5\n",
      " -1978.25       -3187.         -2972.         -1073.5\n",
      " -1373.33333333 -5649.         -4696.         -1978.25\n",
      " -1579.8        -3775.33333333 -2972.         -3187.\n",
      " -1731.5        -2792.4        -3187.         -2390.\n",
      " -2705.66666667  -853.         -2142.4       ]\n"
     ]
    },
    {
     "data": {
      "application/vnd.plotly.v1+json": {
       "config": {
        "plotlyServerURL": "https://plot.ly"
       },
       "data": [
        {
         "hovertemplate": "dtr=%{x}<br>qtd=%{y}<extra></extra>",
         "legendgroup": "",
         "marker": {
          "color": "#636efa",
          "symbol": "circle"
         },
         "mode": "markers",
         "name": "",
         "orientation": "v",
         "showlegend": false,
         "type": "scatter",
         "x": [
          2022.101,
          2022.102,
          2022.103,
          2022.104,
          2022.105,
          2022.106,
          2022.107,
          2022.108,
          2022.109,
          2022.11,
          2022.111,
          2022.112,
          2022.113,
          2022.114,
          2022.115,
          2022.116,
          2022.117,
          2022.118,
          2022.119,
          2022.12,
          2022.121,
          2022.122,
          2022.123,
          2022.124,
          2022.125,
          2022.126,
          2022.127,
          2022.128,
          2022.129,
          2022.13,
          2022.131,
          2022.201,
          2022.202,
          2022.203,
          2022.204,
          2022.205,
          2022.206,
          2022.207,
          2022.208,
          2022.209,
          2022.21,
          2022.211,
          2022.212,
          2022.213,
          2022.214,
          2022.215,
          2022.216,
          2022.217,
          2022.218,
          2022.219,
          2022.22,
          2022.221,
          2022.222,
          2022.223,
          2022.224,
          2022.225,
          2022.226,
          2022.227,
          2022.328,
          2022.301,
          2022.302,
          2022.303,
          2022.304,
          2022.305,
          2022.306,
          2022.307,
          2022.308,
          2022.309,
          2022.31,
          2022.311,
          2022.312,
          2022.313,
          2022.314,
          2022.315,
          2022.316,
          2022.317,
          2022.318,
          2022.319,
          2022.32,
          2022.321,
          2022.322,
          2022.323,
          2022.324,
          2022.325,
          2022.326,
          2022.327,
          2022.328,
          2022.329,
          2022.33,
          2022.431,
          2022.401,
          2022.402,
          2022.403,
          2022.404,
          2022.405,
          2022.406,
          2022.407,
          2022.408,
          2022.409,
          2022.41,
          2022.411,
          2022.412,
          2022.413,
          2022.414,
          2022.415,
          2022.416,
          2022.417,
          2022.418,
          2022.419,
          2022.42,
          2022.421
         ],
         "xaxis": "x",
         "y": [
          -1110,
          -884,
          -1724,
          -1631,
          -1395,
          -1368,
          -1908,
          -1020,
          -878,
          -1316,
          -1197,
          -1536,
          -1578,
          -1691,
          -1037,
          -822,
          -1379,
          -1535,
          -2169,
          -2170,
          -2590,
          -1959,
          -1954,
          -1982,
          -2016,
          -2379,
          -2069,
          -2488,
          -1917,
          -1357,
          -2014,
          -2153,
          -1840,
          -2570,
          -3622,
          -2972,
          -1769,
          -3637,
          -3117,
          -2709,
          -2421,
          -2424,
          -2570,
          -1475,
          -2747,
          -2917,
          -2346,
          -2780,
          -4097,
          -2394,
          -2485,
          -3800,
          -2723,
          -2811,
          -3164,
          -4276,
          -3104,
          -1619,
          -1958,
          -2260,
          -2381,
          -3007,
          -3774,
          -2460,
          -2685,
          -3652,
          -3396,
          -3211,
          -5539,
          -5649,
          -3375,
          -3163,
          -4249,
          -3546,
          -2871,
          -3881,
          -5092,
          -3813,
          -3642,
          -4318,
          -3987,
          -2223,
          -2840,
          -4506,
          -4126,
          -3623,
          -4835,
          -4948,
          -4432,
          -4990,
          -6221,
          -4479,
          -3210,
          -4696,
          -3928,
          -2663,
          -3311,
          -3739,
          -2145,
          -2271,
          -3547,
          -2784,
          -3164,
          -4017,
          -1930,
          -2215,
          -1694,
          -3327,
          -2376,
          -3126,
          -2075
         ],
         "yaxis": "y"
        },
        {
         "hovertemplate": "<b>OLS trendline</b><br>qtd = -6412.36 * dtr + 1.29646e+07<br>R<sup>2</sup>=0.372611<br><br>dtr=%{x}<br>qtd=%{y} <b>(trend)</b><extra></extra>",
         "legendgroup": "",
         "marker": {
          "color": "#636efa",
          "symbol": "circle"
         },
         "mode": "lines",
         "name": "",
         "showlegend": false,
         "type": "scatter",
         "x": [
          2022.101,
          2022.102,
          2022.103,
          2022.104,
          2022.105,
          2022.106,
          2022.107,
          2022.108,
          2022.109,
          2022.11,
          2022.111,
          2022.112,
          2022.113,
          2022.114,
          2022.115,
          2022.116,
          2022.117,
          2022.118,
          2022.119,
          2022.12,
          2022.121,
          2022.122,
          2022.123,
          2022.124,
          2022.125,
          2022.126,
          2022.127,
          2022.128,
          2022.129,
          2022.13,
          2022.131,
          2022.201,
          2022.202,
          2022.203,
          2022.204,
          2022.205,
          2022.206,
          2022.207,
          2022.208,
          2022.209,
          2022.21,
          2022.211,
          2022.212,
          2022.213,
          2022.214,
          2022.215,
          2022.216,
          2022.217,
          2022.218,
          2022.219,
          2022.22,
          2022.221,
          2022.222,
          2022.223,
          2022.224,
          2022.225,
          2022.226,
          2022.227,
          2022.301,
          2022.302,
          2022.303,
          2022.304,
          2022.305,
          2022.306,
          2022.307,
          2022.308,
          2022.309,
          2022.31,
          2022.311,
          2022.312,
          2022.313,
          2022.314,
          2022.315,
          2022.316,
          2022.317,
          2022.318,
          2022.319,
          2022.32,
          2022.321,
          2022.322,
          2022.323,
          2022.324,
          2022.325,
          2022.326,
          2022.327,
          2022.328,
          2022.328,
          2022.329,
          2022.33,
          2022.401,
          2022.402,
          2022.403,
          2022.404,
          2022.405,
          2022.406,
          2022.407,
          2022.408,
          2022.409,
          2022.41,
          2022.411,
          2022.412,
          2022.413,
          2022.414,
          2022.415,
          2022.416,
          2022.417,
          2022.418,
          2022.419,
          2022.42,
          2022.421,
          2022.431
         ],
         "xaxis": "x",
         "y": [
          -1818.373838948086,
          -1824.7861966807395,
          -1831.1985544115305,
          -1837.610912144184,
          -1844.023269874975,
          -1850.435627605766,
          -1856.8479853384197,
          -1863.2603430692106,
          -1869.6727008000016,
          -1876.0850585326552,
          -1882.4974162653089,
          -1888.9097739960998,
          -1895.3221317287534,
          -1901.7344894595444,
          -1908.1468471903354,
          -1914.559204922989,
          -1920.97156265378,
          -1927.3839203864336,
          -1933.7962781172246,
          -1940.2086358480155,
          -1946.6209935806692,
          -1953.0333513133228,
          -1959.4457090441138,
          -1965.8580667767674,
          -1972.2704245075583,
          -1978.6827822383493,
          -1985.095139971003,
          -1991.507497701794,
          -1997.9198554325849,
          -2004.3322131671011,
          -2010.7445708978921,
          -2459.609612112865,
          -2466.021969843656,
          -2472.4343275763094,
          -2478.8466853071004,
          -2485.2590430378914,
          -2491.671400770545,
          -2498.0837585031986,
          -2504.4961162339896,
          -2510.908473966643,
          -2517.320831697434,
          -2523.733189428225,
          -2530.145547160879,
          -2536.5579048916698,
          -2542.9702626224607,
          -2549.3826203551143,
          -2555.7949780859053,
          -2562.207335818559,
          -2568.6196935512125,
          -2575.0320512820035,
          -2581.4444090127945,
          -2587.856766745448,
          -2594.269124476239,
          -2600.6814822088927,
          -2607.0938399396837,
          -2613.5061976704746,
          -2619.918555404991,
          -2626.330913135782,
          -3100.845385275781,
          -3107.2577430084348,
          -3113.6701007410884,
          -3120.0824584718794,
          -3126.4948162026703,
          -3132.907173935324,
          -3139.319531666115,
          -3145.7318893987685,
          -3152.1442471295595,
          -3158.5566048603505,
          -3164.968962593004,
          -3171.381320323795,
          -3177.7936780564487,
          -3184.2060357891023,
          -3190.6183935198933,
          -3197.0307512506843,
          -3203.443108983338,
          -3209.855466714129,
          -3216.26782444492,
          -3222.6801821775734,
          -3229.0925399083644,
          -3235.504897641018,
          -3241.9172553736717,
          -3248.3296131044626,
          -3254.7419708371162,
          -3261.154328567907,
          -3267.566686298698,
          -3273.979044031352,
          -3273.979044031352,
          -3280.391401762143,
          -3286.8037594929338,
          -3742.08115844056,
          -3748.4935161732137,
          -3754.9058739040047,
          -3761.3182316347957,
          -3767.7305893674493,
          -3774.1429470982403,
          -3780.555304830894,
          -3786.967662561685,
          -3793.3800202943385,
          -3799.7923780251294,
          -3806.204735757783,
          -3812.617093488574,
          -3819.0294512212276,
          -3825.4418089520186,
          -3831.8541666828096,
          -3838.266524415463,
          -3844.678882146254,
          -3851.091239877045,
          -3857.5035976115614,
          -3863.9159553423524,
          -3870.3283130731434,
          -3934.4518903903663
         ],
         "yaxis": "y"
        }
       ],
       "layout": {
        "legend": {
         "tracegroupgap": 0
        },
        "margin": {
         "t": 60
        },
        "template": {
         "data": {
          "bar": [
           {
            "error_x": {
             "color": "#2a3f5f"
            },
            "error_y": {
             "color": "#2a3f5f"
            },
            "marker": {
             "line": {
              "color": "#E5ECF6",
              "width": 0.5
             },
             "pattern": {
              "fillmode": "overlay",
              "size": 10,
              "solidity": 0.2
             }
            },
            "type": "bar"
           }
          ],
          "barpolar": [
           {
            "marker": {
             "line": {
              "color": "#E5ECF6",
              "width": 0.5
             },
             "pattern": {
              "fillmode": "overlay",
              "size": 10,
              "solidity": 0.2
             }
            },
            "type": "barpolar"
           }
          ],
          "carpet": [
           {
            "aaxis": {
             "endlinecolor": "#2a3f5f",
             "gridcolor": "white",
             "linecolor": "white",
             "minorgridcolor": "white",
             "startlinecolor": "#2a3f5f"
            },
            "baxis": {
             "endlinecolor": "#2a3f5f",
             "gridcolor": "white",
             "linecolor": "white",
             "minorgridcolor": "white",
             "startlinecolor": "#2a3f5f"
            },
            "type": "carpet"
           }
          ],
          "choropleth": [
           {
            "colorbar": {
             "outlinewidth": 0,
             "ticks": ""
            },
            "type": "choropleth"
           }
          ],
          "contour": [
           {
            "colorbar": {
             "outlinewidth": 0,
             "ticks": ""
            },
            "colorscale": [
             [
              0,
              "#0d0887"
             ],
             [
              0.1111111111111111,
              "#46039f"
             ],
             [
              0.2222222222222222,
              "#7201a8"
             ],
             [
              0.3333333333333333,
              "#9c179e"
             ],
             [
              0.4444444444444444,
              "#bd3786"
             ],
             [
              0.5555555555555556,
              "#d8576b"
             ],
             [
              0.6666666666666666,
              "#ed7953"
             ],
             [
              0.7777777777777778,
              "#fb9f3a"
             ],
             [
              0.8888888888888888,
              "#fdca26"
             ],
             [
              1,
              "#f0f921"
             ]
            ],
            "type": "contour"
           }
          ],
          "contourcarpet": [
           {
            "colorbar": {
             "outlinewidth": 0,
             "ticks": ""
            },
            "type": "contourcarpet"
           }
          ],
          "heatmap": [
           {
            "colorbar": {
             "outlinewidth": 0,
             "ticks": ""
            },
            "colorscale": [
             [
              0,
              "#0d0887"
             ],
             [
              0.1111111111111111,
              "#46039f"
             ],
             [
              0.2222222222222222,
              "#7201a8"
             ],
             [
              0.3333333333333333,
              "#9c179e"
             ],
             [
              0.4444444444444444,
              "#bd3786"
             ],
             [
              0.5555555555555556,
              "#d8576b"
             ],
             [
              0.6666666666666666,
              "#ed7953"
             ],
             [
              0.7777777777777778,
              "#fb9f3a"
             ],
             [
              0.8888888888888888,
              "#fdca26"
             ],
             [
              1,
              "#f0f921"
             ]
            ],
            "type": "heatmap"
           }
          ],
          "heatmapgl": [
           {
            "colorbar": {
             "outlinewidth": 0,
             "ticks": ""
            },
            "colorscale": [
             [
              0,
              "#0d0887"
             ],
             [
              0.1111111111111111,
              "#46039f"
             ],
             [
              0.2222222222222222,
              "#7201a8"
             ],
             [
              0.3333333333333333,
              "#9c179e"
             ],
             [
              0.4444444444444444,
              "#bd3786"
             ],
             [
              0.5555555555555556,
              "#d8576b"
             ],
             [
              0.6666666666666666,
              "#ed7953"
             ],
             [
              0.7777777777777778,
              "#fb9f3a"
             ],
             [
              0.8888888888888888,
              "#fdca26"
             ],
             [
              1,
              "#f0f921"
             ]
            ],
            "type": "heatmapgl"
           }
          ],
          "histogram": [
           {
            "marker": {
             "pattern": {
              "fillmode": "overlay",
              "size": 10,
              "solidity": 0.2
             }
            },
            "type": "histogram"
           }
          ],
          "histogram2d": [
           {
            "colorbar": {
             "outlinewidth": 0,
             "ticks": ""
            },
            "colorscale": [
             [
              0,
              "#0d0887"
             ],
             [
              0.1111111111111111,
              "#46039f"
             ],
             [
              0.2222222222222222,
              "#7201a8"
             ],
             [
              0.3333333333333333,
              "#9c179e"
             ],
             [
              0.4444444444444444,
              "#bd3786"
             ],
             [
              0.5555555555555556,
              "#d8576b"
             ],
             [
              0.6666666666666666,
              "#ed7953"
             ],
             [
              0.7777777777777778,
              "#fb9f3a"
             ],
             [
              0.8888888888888888,
              "#fdca26"
             ],
             [
              1,
              "#f0f921"
             ]
            ],
            "type": "histogram2d"
           }
          ],
          "histogram2dcontour": [
           {
            "colorbar": {
             "outlinewidth": 0,
             "ticks": ""
            },
            "colorscale": [
             [
              0,
              "#0d0887"
             ],
             [
              0.1111111111111111,
              "#46039f"
             ],
             [
              0.2222222222222222,
              "#7201a8"
             ],
             [
              0.3333333333333333,
              "#9c179e"
             ],
             [
              0.4444444444444444,
              "#bd3786"
             ],
             [
              0.5555555555555556,
              "#d8576b"
             ],
             [
              0.6666666666666666,
              "#ed7953"
             ],
             [
              0.7777777777777778,
              "#fb9f3a"
             ],
             [
              0.8888888888888888,
              "#fdca26"
             ],
             [
              1,
              "#f0f921"
             ]
            ],
            "type": "histogram2dcontour"
           }
          ],
          "mesh3d": [
           {
            "colorbar": {
             "outlinewidth": 0,
             "ticks": ""
            },
            "type": "mesh3d"
           }
          ],
          "parcoords": [
           {
            "line": {
             "colorbar": {
              "outlinewidth": 0,
              "ticks": ""
             }
            },
            "type": "parcoords"
           }
          ],
          "pie": [
           {
            "automargin": true,
            "type": "pie"
           }
          ],
          "scatter": [
           {
            "fillpattern": {
             "fillmode": "overlay",
             "size": 10,
             "solidity": 0.2
            },
            "type": "scatter"
           }
          ],
          "scatter3d": [
           {
            "line": {
             "colorbar": {
              "outlinewidth": 0,
              "ticks": ""
             }
            },
            "marker": {
             "colorbar": {
              "outlinewidth": 0,
              "ticks": ""
             }
            },
            "type": "scatter3d"
           }
          ],
          "scattercarpet": [
           {
            "marker": {
             "colorbar": {
              "outlinewidth": 0,
              "ticks": ""
             }
            },
            "type": "scattercarpet"
           }
          ],
          "scattergeo": [
           {
            "marker": {
             "colorbar": {
              "outlinewidth": 0,
              "ticks": ""
             }
            },
            "type": "scattergeo"
           }
          ],
          "scattergl": [
           {
            "marker": {
             "colorbar": {
              "outlinewidth": 0,
              "ticks": ""
             }
            },
            "type": "scattergl"
           }
          ],
          "scattermapbox": [
           {
            "marker": {
             "colorbar": {
              "outlinewidth": 0,
              "ticks": ""
             }
            },
            "type": "scattermapbox"
           }
          ],
          "scatterpolar": [
           {
            "marker": {
             "colorbar": {
              "outlinewidth": 0,
              "ticks": ""
             }
            },
            "type": "scatterpolar"
           }
          ],
          "scatterpolargl": [
           {
            "marker": {
             "colorbar": {
              "outlinewidth": 0,
              "ticks": ""
             }
            },
            "type": "scatterpolargl"
           }
          ],
          "scatterternary": [
           {
            "marker": {
             "colorbar": {
              "outlinewidth": 0,
              "ticks": ""
             }
            },
            "type": "scatterternary"
           }
          ],
          "surface": [
           {
            "colorbar": {
             "outlinewidth": 0,
             "ticks": ""
            },
            "colorscale": [
             [
              0,
              "#0d0887"
             ],
             [
              0.1111111111111111,
              "#46039f"
             ],
             [
              0.2222222222222222,
              "#7201a8"
             ],
             [
              0.3333333333333333,
              "#9c179e"
             ],
             [
              0.4444444444444444,
              "#bd3786"
             ],
             [
              0.5555555555555556,
              "#d8576b"
             ],
             [
              0.6666666666666666,
              "#ed7953"
             ],
             [
              0.7777777777777778,
              "#fb9f3a"
             ],
             [
              0.8888888888888888,
              "#fdca26"
             ],
             [
              1,
              "#f0f921"
             ]
            ],
            "type": "surface"
           }
          ],
          "table": [
           {
            "cells": {
             "fill": {
              "color": "#EBF0F8"
             },
             "line": {
              "color": "white"
             }
            },
            "header": {
             "fill": {
              "color": "#C8D4E3"
             },
             "line": {
              "color": "white"
             }
            },
            "type": "table"
           }
          ]
         },
         "layout": {
          "annotationdefaults": {
           "arrowcolor": "#2a3f5f",
           "arrowhead": 0,
           "arrowwidth": 1
          },
          "autotypenumbers": "strict",
          "coloraxis": {
           "colorbar": {
            "outlinewidth": 0,
            "ticks": ""
           }
          },
          "colorscale": {
           "diverging": [
            [
             0,
             "#8e0152"
            ],
            [
             0.1,
             "#c51b7d"
            ],
            [
             0.2,
             "#de77ae"
            ],
            [
             0.3,
             "#f1b6da"
            ],
            [
             0.4,
             "#fde0ef"
            ],
            [
             0.5,
             "#f7f7f7"
            ],
            [
             0.6,
             "#e6f5d0"
            ],
            [
             0.7,
             "#b8e186"
            ],
            [
             0.8,
             "#7fbc41"
            ],
            [
             0.9,
             "#4d9221"
            ],
            [
             1,
             "#276419"
            ]
           ],
           "sequential": [
            [
             0,
             "#0d0887"
            ],
            [
             0.1111111111111111,
             "#46039f"
            ],
            [
             0.2222222222222222,
             "#7201a8"
            ],
            [
             0.3333333333333333,
             "#9c179e"
            ],
            [
             0.4444444444444444,
             "#bd3786"
            ],
            [
             0.5555555555555556,
             "#d8576b"
            ],
            [
             0.6666666666666666,
             "#ed7953"
            ],
            [
             0.7777777777777778,
             "#fb9f3a"
            ],
            [
             0.8888888888888888,
             "#fdca26"
            ],
            [
             1,
             "#f0f921"
            ]
           ],
           "sequentialminus": [
            [
             0,
             "#0d0887"
            ],
            [
             0.1111111111111111,
             "#46039f"
            ],
            [
             0.2222222222222222,
             "#7201a8"
            ],
            [
             0.3333333333333333,
             "#9c179e"
            ],
            [
             0.4444444444444444,
             "#bd3786"
            ],
            [
             0.5555555555555556,
             "#d8576b"
            ],
            [
             0.6666666666666666,
             "#ed7953"
            ],
            [
             0.7777777777777778,
             "#fb9f3a"
            ],
            [
             0.8888888888888888,
             "#fdca26"
            ],
            [
             1,
             "#f0f921"
            ]
           ]
          },
          "colorway": [
           "#636efa",
           "#EF553B",
           "#00cc96",
           "#ab63fa",
           "#FFA15A",
           "#19d3f3",
           "#FF6692",
           "#B6E880",
           "#FF97FF",
           "#FECB52"
          ],
          "font": {
           "color": "#2a3f5f"
          },
          "geo": {
           "bgcolor": "white",
           "lakecolor": "white",
           "landcolor": "#E5ECF6",
           "showlakes": true,
           "showland": true,
           "subunitcolor": "white"
          },
          "hoverlabel": {
           "align": "left"
          },
          "hovermode": "closest",
          "mapbox": {
           "style": "light"
          },
          "paper_bgcolor": "white",
          "plot_bgcolor": "#E5ECF6",
          "polar": {
           "angularaxis": {
            "gridcolor": "white",
            "linecolor": "white",
            "ticks": ""
           },
           "bgcolor": "#E5ECF6",
           "radialaxis": {
            "gridcolor": "white",
            "linecolor": "white",
            "ticks": ""
           }
          },
          "scene": {
           "xaxis": {
            "backgroundcolor": "#E5ECF6",
            "gridcolor": "white",
            "gridwidth": 2,
            "linecolor": "white",
            "showbackground": true,
            "ticks": "",
            "zerolinecolor": "white"
           },
           "yaxis": {
            "backgroundcolor": "#E5ECF6",
            "gridcolor": "white",
            "gridwidth": 2,
            "linecolor": "white",
            "showbackground": true,
            "ticks": "",
            "zerolinecolor": "white"
           },
           "zaxis": {
            "backgroundcolor": "#E5ECF6",
            "gridcolor": "white",
            "gridwidth": 2,
            "linecolor": "white",
            "showbackground": true,
            "ticks": "",
            "zerolinecolor": "white"
           }
          },
          "shapedefaults": {
           "line": {
            "color": "#2a3f5f"
           }
          },
          "ternary": {
           "aaxis": {
            "gridcolor": "white",
            "linecolor": "white",
            "ticks": ""
           },
           "baxis": {
            "gridcolor": "white",
            "linecolor": "white",
            "ticks": ""
           },
           "bgcolor": "#E5ECF6",
           "caxis": {
            "gridcolor": "white",
            "linecolor": "white",
            "ticks": ""
           }
          },
          "title": {
           "x": 0.05
          },
          "xaxis": {
           "automargin": true,
           "gridcolor": "white",
           "linecolor": "white",
           "ticks": "",
           "title": {
            "standoff": 15
           },
           "zerolinecolor": "white",
           "zerolinewidth": 2
          },
          "yaxis": {
           "automargin": true,
           "gridcolor": "white",
           "linecolor": "white",
           "ticks": "",
           "title": {
            "standoff": 15
           },
           "zerolinecolor": "white",
           "zerolinewidth": 2
          }
         }
        },
        "xaxis": {
         "anchor": "y",
         "domain": [
          0,
          1
         ],
         "title": {
          "text": "dtr"
         }
        },
        "yaxis": {
         "anchor": "x",
         "domain": [
          0,
          1
         ],
         "title": {
          "text": "qtd"
         }
        }
       }
      }
     },
     "metadata": {},
     "output_type": "display_data"
    }
   ],
   "source": [
    "import plotly.express as px\n",
    "import os\n",
    "import pandas  as pd\n",
    " \n",
    "#Changing the current working directory\n",
    "\n",
    "df = pd.read_json(\"VendaFINALEC.json\")\n",
    "df = df.copy()\n",
    " \n",
    "categorical_col_updated = ['qtd','dtr']\n",
    "#bike = pandas.get_dummies(bike, columns = categorical_col_updated) \n",
    " \n",
    "#Separating the dependent and independent data variables into two data frames.\n",
    "from sklearn.model_selection import train_test_split \n",
    "  \n",
    "X =df.drop(['dtr'],axis=1) \n",
    "Y = df['qtd']\n",
    " \n",
    "#Building the Decision Tree Model on our dataset\n",
    "from sklearn.tree import DecisionTreeRegressor\n",
    "X_train, X_test, Y_train, Y_test = train_test_split(df, Y, test_size=0.2,random_state=0)\n",
    "\n",
    "print (X_test.shape, Y_test.shape)\n",
    "DT_model = DecisionTreeRegressor(max_depth=5).fit(X_train,Y_train)\n",
    "DT_predict = DT_model.predict(X_test) #Predictions on Testing data\n",
    "print(DT_predict)\n",
    "\n",
    "#! pip install statsmodels\n",
    "\n",
    "df =pd.read_json(\"VendaFINALEC.json\")\n",
    "fig = px.scatter(df, x=\"dtr\", y=\"qtd\", trendline=\"ols\")\n",
    "fig.show()"
   ]
  }
 ],
 "metadata": {
  "kernelspec": {
   "display_name": "Python 3.9.7 ('tensorflow_env')",
   "language": "python",
   "name": "python3"
  },
  "language_info": {
   "codemirror_mode": {
    "name": "ipython",
    "version": 3
   },
   "file_extension": ".py",
   "mimetype": "text/x-python",
   "name": "python",
   "nbconvert_exporter": "python",
   "pygments_lexer": "ipython3",
   "version": "3.9.7"
  },
  "orig_nbformat": 4,
  "vscode": {
   "interpreter": {
    "hash": "a93e786dcde600a11c7b7ace000f4d95c3c1cfb12cea541026ad67c9b872ce41"
   }
  }
 },
 "nbformat": 4,
 "nbformat_minor": 2
}

{
 "cells": [
  {
   "cell_type": "code",
   "execution_count": 20,
   "metadata": {},
   "outputs": [
    {
     "data": {
      "application/vnd.plotly.v1+json": {
       "config": {
        "plotlyServerURL": "https://plot.ly"
       },
       "data": [
        {
         "hovertemplate": "pred=False<br>dtr=%{x}<br>qtd=%{y}<extra></extra>",
         "legendgroup": "False",
         "line": {
          "color": "#636efa",
          "dash": "solid"
         },
         "marker": {
          "symbol": "circle"
         },
         "mode": "markers+lines",
         "name": "False",
         "orientation": "v",
         "showlegend": true,
         "type": "scatter",
         "x": [
          "Janeiro/22/01",
          "Janeiro/22/02",
          "Janeiro/22/03",
          "Janeiro/22/04",
          "Janeiro/22/05",
          "Janeiro/22/06",
          "Janeiro/22/07",
          "Janeiro/22/08",
          "Janeiro/22/09",
          "Janeiro/22/10",
          "Janeiro/22/11",
          "Janeiro/22/12",
          "Janeiro/22/13",
          "Janeiro/22/14",
          "Janeiro/22/15",
          "Janeiro/22/16",
          "Janeiro/22/17",
          "Janeiro/22/18",
          "Janeiro/22/19",
          "Janeiro/22/20",
          "Janeiro/22/21",
          "Janeiro/22/22",
          "Janeiro/22/23",
          "Janeiro/22/24",
          "Janeiro/22/25",
          "Janeiro/22/26",
          "Janeiro/22/27",
          "Janeiro/22/28",
          "Janeiro/22/29",
          "Janeiro/22/30",
          "Janeiro/22/31",
          "Fevereiro/22/01",
          "Fevereiro/22/02",
          "Fevereiro/22/03",
          "Fevereiro/22/04",
          "Fevereiro/22/05",
          "Fevereiro/22/06",
          "Fevereiro/22/07",
          "Fevereiro/22/08",
          "Fevereiro/22/09",
          "Fevereiro/22/10",
          "Fevereiro/22/11",
          "Fevereiro/22/12",
          "Fevereiro/22/13",
          "Fevereiro/22/14",
          "Fevereiro/22/15",
          "Fevereiro/22/16",
          "Fevereiro/22/17",
          "Fevereiro/22/18",
          "Fevereiro/22/19",
          "Fevereiro/22/20",
          "Fevereiro/22/21",
          "Fevereiro/22/22",
          "Fevereiro/22/23",
          "Fevereiro/22/24",
          "Fevereiro/22/25",
          "Fevereiro/22/26",
          "Fevereiro/22/27",
          "Fevereiro/22/28",
          "Março/22/01",
          "Março/22/02",
          "Março/22/03",
          "Março/22/04",
          "Março/22/05",
          "Março/22/06",
          "Março/22/07",
          "Março/22/08",
          "Março/22/09",
          "Março/22/10",
          "Março/22/11",
          "Março/22/12",
          "Março/22/13",
          "Março/22/14",
          "Março/22/15",
          "Março/22/16",
          "Março/22/17",
          "Março/22/18",
          "Março/22/19",
          "Março/22/20",
          "Março/22/21",
          "Março/22/22",
          "Março/22/23",
          "Março/22/24",
          "Março/22/25",
          "Março/22/26",
          "Março/22/27",
          "Março/22/28",
          "Março/22/29",
          "Março/22/3",
          "Março/22/31",
          "Abril/22/01",
          "Abril/22/02",
          "Abril/22/03",
          "Abril/22/04",
          "Abril/22/05",
          "Abril/22/06",
          "Abril/22/07",
          "Abril/22/08",
          "Abril/22/09",
          "Abril/22/10",
          "Abril/22/11",
          "Abril/22/12",
          "Abril/22/13",
          "Abril/22/14",
          "Abril/22/15",
          "Abril/22/16",
          "Abril/22/17",
          "Abril/22/18",
          "Abril/22/19",
          "Abril/22/20",
          "Abril/22/21"
         ],
         "xaxis": "x",
         "y": [
          168,
          625,
          1259,
          1005,
          618,
          852,
          2053,
          353,
          555,
          1370,
          924,
          979,
          650,
          893,
          769,
          814,
          1137,
          996,
          1087,
          973,
          1125,
          928,
          620,
          1389,
          1131,
          735,
          1414,
          1049,
          743,
          298,
          1271,
          965,
          758,
          927,
          1045,
          931,
          516,
          917,
          371,
          1009,
          1085,
          1461,
          660,
          335,
          1189,
          785,
          905,
          1258,
          1724,
          716,
          460,
          908,
          1341,
          1080,
          1082,
          2149,
          1158,
          631,
          486,
          369,
          650,
          1454,
          1193,
          686,
          283,
          1272,
          1046,
          1211,
          1971,
          1409,
          506,
          529,
          1168,
          1089,
          1197,
          1226,
          1641,
          901,
          970,
          157,
          1699,
          1438,
          1816,
          1456,
          959,
          553,
          1434,
          1117,
          1278,
          1820,
          2035,
          591,
          430,
          1314,
          1176,
          1173,
          1638,
          1476,
          1260,
          1147,
          1857,
          1362,
          1952,
          1683,
          594,
          1036,
          649,
          1068,
          1770,
          1998,
          1021
         ],
         "yaxis": "y"
        },
        {
         "hovertemplate": "pred=True<br>dtr=%{x}<br>qtd=%{y}<extra></extra>",
         "legendgroup": "True",
         "line": {
          "color": "#EF553B",
          "dash": "solid"
         },
         "marker": {
          "symbol": "circle"
         },
         "mode": "markers+lines",
         "name": "True",
         "orientation": "v",
         "showlegend": true,
         "type": "scatter",
         "x": [
          "Abril/22/22",
          "Abril/22/23",
          "Abril/22/24",
          "Abril/22/25",
          "Abril/22/26",
          "Abril/22/27",
          "Abril/22/28",
          "Abril/22/29",
          "Abril/22/30",
          "Maio/22/01",
          "Maio/22/02",
          "Maio/22/03",
          "Maio/22/04",
          "Maio/22/05",
          "Maio/22/06",
          "Maio/22/07",
          "Maio/22/08",
          "Maio/22/09",
          "Maio/22/10",
          "Maio/22/11",
          "Maio/22/12",
          "Maio/22/13",
          "Maio/22/14",
          "Maio/22/15"
         ],
         "xaxis": "x",
         "y": [
          1176.8,
          852,
          1638,
          1267.8,
          1267.8,
          1097.16,
          1984.5,
          763.5,
          370,
          1097.16,
          1984.5,
          1836.5,
          627.25,
          370,
          918.16,
          1464.3,
          1097.16,
          918.16,
          1176.8,
          473,
          627.25,
          1176.8,
          526,
          1399
         ],
         "yaxis": "y"
        },
        {
         "name": "eTo",
         "type": "scatter",
         "x": [
          "Janeiro/22/01",
          "Janeiro/22/02",
          "Janeiro/22/03",
          "Janeiro/22/04",
          "Janeiro/22/05",
          "Janeiro/22/06",
          "Janeiro/22/07",
          "Janeiro/22/08",
          "Janeiro/22/09",
          "Janeiro/22/10",
          "Janeiro/22/11",
          "Janeiro/22/12",
          "Janeiro/22/13",
          "Janeiro/22/14",
          "Janeiro/22/15",
          "Janeiro/22/16",
          "Janeiro/22/17",
          "Janeiro/22/18",
          "Janeiro/22/19",
          "Janeiro/22/20",
          "Janeiro/22/21",
          "Janeiro/22/22",
          "Janeiro/22/23",
          "Janeiro/22/24",
          "Janeiro/22/25",
          "Janeiro/22/26",
          "Janeiro/22/27",
          "Janeiro/22/28",
          "Janeiro/22/29",
          "Janeiro/22/30",
          "Janeiro/22/31",
          "Fevereiro/22/01",
          "Fevereiro/22/02",
          "Fevereiro/22/03",
          "Fevereiro/22/04",
          "Fevereiro/22/05",
          "Fevereiro/22/06",
          "Fevereiro/22/07",
          "Fevereiro/22/08",
          "Fevereiro/22/09",
          "Fevereiro/22/10",
          "Fevereiro/22/11",
          "Fevereiro/22/12",
          "Fevereiro/22/13",
          "Fevereiro/22/14",
          "Fevereiro/22/15",
          "Fevereiro/22/16",
          "Fevereiro/22/17",
          "Fevereiro/22/18",
          "Fevereiro/22/19",
          "Fevereiro/22/20",
          "Fevereiro/22/21",
          "Fevereiro/22/22",
          "Fevereiro/22/23",
          "Fevereiro/22/24",
          "Fevereiro/22/25",
          "Fevereiro/22/26",
          "Fevereiro/22/27",
          "Fevereiro/22/28",
          "Março/22/01",
          "Março/22/02",
          "Março/22/03",
          "Março/22/04",
          "Março/22/05",
          "Março/22/06",
          "Março/22/07",
          "Março/22/08",
          "Março/22/09",
          "Março/22/10",
          "Março/22/11",
          "Março/22/12",
          "Março/22/13",
          "Março/22/14",
          "Março/22/15",
          "Março/22/16",
          "Março/22/17",
          "Março/22/18",
          "Março/22/19",
          "Março/22/20",
          "Março/22/21",
          "Março/22/22",
          "Março/22/23",
          "Março/22/24",
          "Março/22/25",
          "Março/22/26",
          "Março/22/27",
          "Março/22/28",
          "Março/22/29",
          "Março/22/3",
          "Março/22/31",
          "Abril/22/01",
          "Abril/22/02",
          "Abril/22/03",
          "Abril/22/04",
          "Abril/22/05",
          "Abril/22/06",
          "Abril/22/07",
          "Abril/22/08",
          "Abril/22/09",
          "Abril/22/10",
          "Abril/22/11",
          "Abril/22/12",
          "Abril/22/13",
          "Abril/22/14",
          "Abril/22/15",
          "Abril/22/16",
          "Abril/22/17",
          "Abril/22/18",
          "Abril/22/19",
          "Abril/22/20",
          "Abril/22/21",
          "Abril/22/22",
          "Abril/22/23",
          "Abril/22/24",
          "Abril/22/25",
          "Abril/22/26",
          "Abril/22/27",
          "Abril/22/28",
          "Abril/22/29",
          "Abril/22/30",
          "Maio/22/01",
          "Maio/22/02",
          "Maio/22/03",
          "Maio/22/04",
          "Maio/22/05",
          "Maio/22/06",
          "Maio/22/07",
          "Maio/22/08",
          "Maio/22/09",
          "Maio/22/10",
          "Maio/22/11",
          "Maio/22/12",
          "Maio/22/13",
          "Maio/22/14",
          "Maio/22/15"
         ],
         "y": [
          6403.51,
          5783.21,
          4394.58,
          9394.58,
          8264.02,
          7529.31,
          6115.65,
          5066.42,
          10066.42,
          9323.85,
          9025.97,
          7754.53,
          6789.86,
          6032.35,
          16032.35,
          15105.45,
          15919.45,
          15056,
          14060.55,
          13129.1,
          12613.19,
          11696.42,
          11325.73,
          10316.88,
          9232.09,
          7771.52,
          7111.36,
          6776.54,
          11776.54,
          10588.03,
          15588.03,
          14803.38,
          13898.61,
          12640.57,
          10917.02,
          10201.31,
          9740.87,
          8832.49,
          7491.35,
          12491.35,
          11411.6,
          16411.6,
          15330.04,
          13181,
          12022.75,
          11391.66,
          10905.97,
          10537.03,
          9887.31,
          8432.95,
          13432.95,
          12239.86,
          11553.5,
          11270.82,
          9999.01,
          8953.12,
          13953.12,
          12742.3,
          10771.07,
          9362.23,
          8855.91,
          8326.6,
          7158.42,
          6069.18,
          4872.31,
          9872.31,
          8645.87,
          7004.94,
          12004.94,
          11104.17,
          10133.86,
          10132.29,
          15132.29,
          13433.77,
          11995.6,
          16995.6,
          15180,
          13723.83,
          18723.83,
          17764.94,
          17212.28,
          15778.13,
          14661.22,
          13383.66,
          18383.66,
          16563.83,
          14529.17,
          13938.3,
          13508.75,
          12194.33,
          11018.51,
          9845.64,
          8207.83,
          6731.41,
          11731.41,
          10470.92,
          9324.1,
          7467,
          6104.68,
          11104.68,
          9152.37,
          14152.37,
          12469.14,
          17469.14,
          16875.62,
          15839.82,
          15190.71,
          14122.85,
          17352.37,
          15353.95,
          14333,
          "",
          "",
          "",
          "",
          "",
          "",
          "",
          "",
          "",
          "",
          "",
          "",
          "",
          "",
          "",
          "",
          "",
          "",
          "",
          "",
          "",
          "",
          "",
          ""
         ]
        }
       ],
       "layout": {
        "legend": {
         "title": {
          "text": "pred"
         },
         "tracegroupgap": 0
        },
        "margin": {
         "t": 60
        },
        "template": {
         "data": {
          "bar": [
           {
            "error_x": {
             "color": "#2a3f5f"
            },
            "error_y": {
             "color": "#2a3f5f"
            },
            "marker": {
             "line": {
              "color": "#E5ECF6",
              "width": 0.5
             },
             "pattern": {
              "fillmode": "overlay",
              "size": 10,
              "solidity": 0.2
             }
            },
            "type": "bar"
           }
          ],
          "barpolar": [
           {
            "marker": {
             "line": {
              "color": "#E5ECF6",
              "width": 0.5
             },
             "pattern": {
              "fillmode": "overlay",
              "size": 10,
              "solidity": 0.2
             }
            },
            "type": "barpolar"
           }
          ],
          "carpet": [
           {
            "aaxis": {
             "endlinecolor": "#2a3f5f",
             "gridcolor": "white",
             "linecolor": "white",
             "minorgridcolor": "white",
             "startlinecolor": "#2a3f5f"
            },
            "baxis": {
             "endlinecolor": "#2a3f5f",
             "gridcolor": "white",
             "linecolor": "white",
             "minorgridcolor": "white",
             "startlinecolor": "#2a3f5f"
            },
            "type": "carpet"
           }
          ],
          "choropleth": [
           {
            "colorbar": {
             "outlinewidth": 0,
             "ticks": ""
            },
            "type": "choropleth"
           }
          ],
          "contour": [
           {
            "colorbar": {
             "outlinewidth": 0,
             "ticks": ""
            },
            "colorscale": [
             [
              0,
              "#0d0887"
             ],
             [
              0.1111111111111111,
              "#46039f"
             ],
             [
              0.2222222222222222,
              "#7201a8"
             ],
             [
              0.3333333333333333,
              "#9c179e"
             ],
             [
              0.4444444444444444,
              "#bd3786"
             ],
             [
              0.5555555555555556,
              "#d8576b"
             ],
             [
              0.6666666666666666,
              "#ed7953"
             ],
             [
              0.7777777777777778,
              "#fb9f3a"
             ],
             [
              0.8888888888888888,
              "#fdca26"
             ],
             [
              1,
              "#f0f921"
             ]
            ],
            "type": "contour"
           }
          ],
          "contourcarpet": [
           {
            "colorbar": {
             "outlinewidth": 0,
             "ticks": ""
            },
            "type": "contourcarpet"
           }
          ],
          "heatmap": [
           {
            "colorbar": {
             "outlinewidth": 0,
             "ticks": ""
            },
            "colorscale": [
             [
              0,
              "#0d0887"
             ],
             [
              0.1111111111111111,
              "#46039f"
             ],
             [
              0.2222222222222222,
              "#7201a8"
             ],
             [
              0.3333333333333333,
              "#9c179e"
             ],
             [
              0.4444444444444444,
              "#bd3786"
             ],
             [
              0.5555555555555556,
              "#d8576b"
             ],
             [
              0.6666666666666666,
              "#ed7953"
             ],
             [
              0.7777777777777778,
              "#fb9f3a"
             ],
             [
              0.8888888888888888,
              "#fdca26"
             ],
             [
              1,
              "#f0f921"
             ]
            ],
            "type": "heatmap"
           }
          ],
          "heatmapgl": [
           {
            "colorbar": {
             "outlinewidth": 0,
             "ticks": ""
            },
            "colorscale": [
             [
              0,
              "#0d0887"
             ],
             [
              0.1111111111111111,
              "#46039f"
             ],
             [
              0.2222222222222222,
              "#7201a8"
             ],
             [
              0.3333333333333333,
              "#9c179e"
             ],
             [
              0.4444444444444444,
              "#bd3786"
             ],
             [
              0.5555555555555556,
              "#d8576b"
             ],
             [
              0.6666666666666666,
              "#ed7953"
             ],
             [
              0.7777777777777778,
              "#fb9f3a"
             ],
             [
              0.8888888888888888,
              "#fdca26"
             ],
             [
              1,
              "#f0f921"
             ]
            ],
            "type": "heatmapgl"
           }
          ],
          "histogram": [
           {
            "marker": {
             "pattern": {
              "fillmode": "overlay",
              "size": 10,
              "solidity": 0.2
             }
            },
            "type": "histogram"
           }
          ],
          "histogram2d": [
           {
            "colorbar": {
             "outlinewidth": 0,
             "ticks": ""
            },
            "colorscale": [
             [
              0,
              "#0d0887"
             ],
             [
              0.1111111111111111,
              "#46039f"
             ],
             [
              0.2222222222222222,
              "#7201a8"
             ],
             [
              0.3333333333333333,
              "#9c179e"
             ],
             [
              0.4444444444444444,
              "#bd3786"
             ],
             [
              0.5555555555555556,
              "#d8576b"
             ],
             [
              0.6666666666666666,
              "#ed7953"
             ],
             [
              0.7777777777777778,
              "#fb9f3a"
             ],
             [
              0.8888888888888888,
              "#fdca26"
             ],
             [
              1,
              "#f0f921"
             ]
            ],
            "type": "histogram2d"
           }
          ],
          "histogram2dcontour": [
           {
            "colorbar": {
             "outlinewidth": 0,
             "ticks": ""
            },
            "colorscale": [
             [
              0,
              "#0d0887"
             ],
             [
              0.1111111111111111,
              "#46039f"
             ],
             [
              0.2222222222222222,
              "#7201a8"
             ],
             [
              0.3333333333333333,
              "#9c179e"
             ],
             [
              0.4444444444444444,
              "#bd3786"
             ],
             [
              0.5555555555555556,
              "#d8576b"
             ],
             [
              0.6666666666666666,
              "#ed7953"
             ],
             [
              0.7777777777777778,
              "#fb9f3a"
             ],
             [
              0.8888888888888888,
              "#fdca26"
             ],
             [
              1,
              "#f0f921"
             ]
            ],
            "type": "histogram2dcontour"
           }
          ],
          "mesh3d": [
           {
            "colorbar": {
             "outlinewidth": 0,
             "ticks": ""
            },
            "type": "mesh3d"
           }
          ],
          "parcoords": [
           {
            "line": {
             "colorbar": {
              "outlinewidth": 0,
              "ticks": ""
             }
            },
            "type": "parcoords"
           }
          ],
          "pie": [
           {
            "automargin": true,
            "type": "pie"
           }
          ],
          "scatter": [
           {
            "fillpattern": {
             "fillmode": "overlay",
             "size": 10,
             "solidity": 0.2
            },
            "type": "scatter"
           }
          ],
          "scatter3d": [
           {
            "line": {
             "colorbar": {
              "outlinewidth": 0,
              "ticks": ""
             }
            },
            "marker": {
             "colorbar": {
              "outlinewidth": 0,
              "ticks": ""
             }
            },
            "type": "scatter3d"
           }
          ],
          "scattercarpet": [
           {
            "marker": {
             "colorbar": {
              "outlinewidth": 0,
              "ticks": ""
             }
            },
            "type": "scattercarpet"
           }
          ],
          "scattergeo": [
           {
            "marker": {
             "colorbar": {
              "outlinewidth": 0,
              "ticks": ""
             }
            },
            "type": "scattergeo"
           }
          ],
          "scattergl": [
           {
            "marker": {
             "colorbar": {
              "outlinewidth": 0,
              "ticks": ""
             }
            },
            "type": "scattergl"
           }
          ],
          "scattermapbox": [
           {
            "marker": {
             "colorbar": {
              "outlinewidth": 0,
              "ticks": ""
             }
            },
            "type": "scattermapbox"
           }
          ],
          "scatterpolar": [
           {
            "marker": {
             "colorbar": {
              "outlinewidth": 0,
              "ticks": ""
             }
            },
            "type": "scatterpolar"
           }
          ],
          "scatterpolargl": [
           {
            "marker": {
             "colorbar": {
              "outlinewidth": 0,
              "ticks": ""
             }
            },
            "type": "scatterpolargl"
           }
          ],
          "scatterternary": [
           {
            "marker": {
             "colorbar": {
              "outlinewidth": 0,
              "ticks": ""
             }
            },
            "type": "scatterternary"
           }
          ],
          "surface": [
           {
            "colorbar": {
             "outlinewidth": 0,
             "ticks": ""
            },
            "colorscale": [
             [
              0,
              "#0d0887"
             ],
             [
              0.1111111111111111,
              "#46039f"
             ],
             [
              0.2222222222222222,
              "#7201a8"
             ],
             [
              0.3333333333333333,
              "#9c179e"
             ],
             [
              0.4444444444444444,
              "#bd3786"
             ],
             [
              0.5555555555555556,
              "#d8576b"
             ],
             [
              0.6666666666666666,
              "#ed7953"
             ],
             [
              0.7777777777777778,
              "#fb9f3a"
             ],
             [
              0.8888888888888888,
              "#fdca26"
             ],
             [
              1,
              "#f0f921"
             ]
            ],
            "type": "surface"
           }
          ],
          "table": [
           {
            "cells": {
             "fill": {
              "color": "#EBF0F8"
             },
             "line": {
              "color": "white"
             }
            },
            "header": {
             "fill": {
              "color": "#C8D4E3"
             },
             "line": {
              "color": "white"
             }
            },
            "type": "table"
           }
          ]
         },
         "layout": {
          "annotationdefaults": {
           "arrowcolor": "#2a3f5f",
           "arrowhead": 0,
           "arrowwidth": 1
          },
          "autotypenumbers": "strict",
          "coloraxis": {
           "colorbar": {
            "outlinewidth": 0,
            "ticks": ""
           }
          },
          "colorscale": {
           "diverging": [
            [
             0,
             "#8e0152"
            ],
            [
             0.1,
             "#c51b7d"
            ],
            [
             0.2,
             "#de77ae"
            ],
            [
             0.3,
             "#f1b6da"
            ],
            [
             0.4,
             "#fde0ef"
            ],
            [
             0.5,
             "#f7f7f7"
            ],
            [
             0.6,
             "#e6f5d0"
            ],
            [
             0.7,
             "#b8e186"
            ],
            [
             0.8,
             "#7fbc41"
            ],
            [
             0.9,
             "#4d9221"
            ],
            [
             1,
             "#276419"
            ]
           ],
           "sequential": [
            [
             0,
             "#0d0887"
            ],
            [
             0.1111111111111111,
             "#46039f"
            ],
            [
             0.2222222222222222,
             "#7201a8"
            ],
            [
             0.3333333333333333,
             "#9c179e"
            ],
            [
             0.4444444444444444,
             "#bd3786"
            ],
            [
             0.5555555555555556,
             "#d8576b"
            ],
            [
             0.6666666666666666,
             "#ed7953"
            ],
            [
             0.7777777777777778,
             "#fb9f3a"
            ],
            [
             0.8888888888888888,
             "#fdca26"
            ],
            [
             1,
             "#f0f921"
            ]
           ],
           "sequentialminus": [
            [
             0,
             "#0d0887"
            ],
            [
             0.1111111111111111,
             "#46039f"
            ],
            [
             0.2222222222222222,
             "#7201a8"
            ],
            [
             0.3333333333333333,
             "#9c179e"
            ],
            [
             0.4444444444444444,
             "#bd3786"
            ],
            [
             0.5555555555555556,
             "#d8576b"
            ],
            [
             0.6666666666666666,
             "#ed7953"
            ],
            [
             0.7777777777777778,
             "#fb9f3a"
            ],
            [
             0.8888888888888888,
             "#fdca26"
            ],
            [
             1,
             "#f0f921"
            ]
           ]
          },
          "colorway": [
           "#636efa",
           "#EF553B",
           "#00cc96",
           "#ab63fa",
           "#FFA15A",
           "#19d3f3",
           "#FF6692",
           "#B6E880",
           "#FF97FF",
           "#FECB52"
          ],
          "font": {
           "color": "#2a3f5f"
          },
          "geo": {
           "bgcolor": "white",
           "lakecolor": "white",
           "landcolor": "#E5ECF6",
           "showlakes": true,
           "showland": true,
           "subunitcolor": "white"
          },
          "hoverlabel": {
           "align": "left"
          },
          "hovermode": "closest",
          "mapbox": {
           "style": "light"
          },
          "paper_bgcolor": "white",
          "plot_bgcolor": "#E5ECF6",
          "polar": {
           "angularaxis": {
            "gridcolor": "white",
            "linecolor": "white",
            "ticks": ""
           },
           "bgcolor": "#E5ECF6",
           "radialaxis": {
            "gridcolor": "white",
            "linecolor": "white",
            "ticks": ""
           }
          },
          "scene": {
           "xaxis": {
            "backgroundcolor": "#E5ECF6",
            "gridcolor": "white",
            "gridwidth": 2,
            "linecolor": "white",
            "showbackground": true,
            "ticks": "",
            "zerolinecolor": "white"
           },
           "yaxis": {
            "backgroundcolor": "#E5ECF6",
            "gridcolor": "white",
            "gridwidth": 2,
            "linecolor": "white",
            "showbackground": true,
            "ticks": "",
            "zerolinecolor": "white"
           },
           "zaxis": {
            "backgroundcolor": "#E5ECF6",
            "gridcolor": "white",
            "gridwidth": 2,
            "linecolor": "white",
            "showbackground": true,
            "ticks": "",
            "zerolinecolor": "white"
           }
          },
          "shapedefaults": {
           "line": {
            "color": "#2a3f5f"
           }
          },
          "ternary": {
           "aaxis": {
            "gridcolor": "white",
            "linecolor": "white",
            "ticks": ""
           },
           "baxis": {
            "gridcolor": "white",
            "linecolor": "white",
            "ticks": ""
           },
           "bgcolor": "#E5ECF6",
           "caxis": {
            "gridcolor": "white",
            "linecolor": "white",
            "ticks": ""
           }
          },
          "title": {
           "x": 0.05
          },
          "xaxis": {
           "automargin": true,
           "gridcolor": "white",
           "linecolor": "white",
           "ticks": "",
           "title": {
            "standoff": 15
           },
           "zerolinecolor": "white",
           "zerolinewidth": 2
          },
          "yaxis": {
           "automargin": true,
           "gridcolor": "white",
           "linecolor": "white",
           "ticks": "",
           "title": {
            "standoff": 15
           },
           "zerolinecolor": "white",
           "zerolinewidth": 2
          }
         }
        },
        "xaxis": {
         "anchor": "y",
         "domain": [
          0,
          1
         ],
         "title": {
          "text": "dtr"
         }
        },
        "yaxis": {
         "anchor": "x",
         "domain": [
          0,
          1
         ],
         "title": {
          "text": "qtd"
         }
        }
       }
      }
     },
     "metadata": {},
     "output_type": "display_data"
    }
   ],
   "source": [
    "import plotly.express as px \n",
    "import pandas as pd \n",
    "import numpy as np \n",
    "\n",
    "# Get some data\n",
    "df = pd.read_json(\"DC.json\")\n",
    "\n",
    "# Plot \n",
    "fig = px.line(df, x=\"dtr\", y=\"qtd\", color=\"pred\",markers=\"True\")\n",
    "\n",
    "# Only thing I figured is - I could do this \n",
    "fig.add_scatter(x=df['dtr'], y=df['eTo'] , name=\"eTo\")# Not what is desired - need a line \n",
    "\n",
    "# Show plot \n",
    "fig.show()"
   ]
  }
 ],
 "metadata": {
  "kernelspec": {
   "display_name": "Python 3.9.7 ('tensorflow_env')",
   "language": "python",
   "name": "python3"
  },
  "language_info": {
   "codemirror_mode": {
    "name": "ipython",
    "version": 3
   },
   "file_extension": ".py",
   "mimetype": "text/x-python",
   "name": "python",
   "nbconvert_exporter": "python",
   "pygments_lexer": "ipython3",
   "version": "3.9.7"
  },
  "orig_nbformat": 4,
  "vscode": {
   "interpreter": {
    "hash": "a93e786dcde600a11c7b7ace000f4d95c3c1cfb12cea541026ad67c9b872ce41"
   }
  }
 },
 "nbformat": 4,
 "nbformat_minor": 2
}

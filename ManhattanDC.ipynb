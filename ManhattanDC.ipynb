{
 "cells": [
  {
   "cell_type": "code",
   "execution_count": 118,
   "metadata": {},
   "outputs": [
    {
     "name": "stdout",
     "output_type": "stream",
     "text": [
      "(23, 2) (23,)\n",
      "[-1176.8         -852.         -1638.         -1267.8\n",
      " -1097.16666667 -1984.5         -763.5         -370.\n",
      " -1097.16666667 -1984.5        -1836.5         -627.25\n",
      "  -370.          -918.16666667 -1464.33333333 -1097.16666667\n",
      "  -918.16666667 -1176.8         -473.          -627.25\n",
      " -1176.8         -526.         -1399.        ]\n"
     ]
    },
    {
     "data": {
      "application/vnd.plotly.v1+json": {
       "config": {
        "plotlyServerURL": "https://plot.ly"
       },
       "data": [
        {
         "hovertemplate": "dtr=%{x}<br>qtd=%{y}<extra></extra>",
         "legendgroup": "",
         "marker": {
          "color": "#636efa",
          "symbol": "circle"
         },
         "mode": "markers",
         "name": "",
         "orientation": "v",
         "showlegend": false,
         "type": "scatter",
         "x": [
          2022.101,
          2022.102,
          2022.103,
          2022.104,
          2022.105,
          2022.106,
          2022.107,
          2022.108,
          2022.109,
          2022.11,
          2022.111,
          2022.112,
          2022.113,
          2022.114,
          2022.115,
          2022.116,
          2022.117,
          2022.118,
          2022.119,
          2022.12,
          2022.121,
          2022.122,
          2022.123,
          2022.124,
          2022.125,
          2022.126,
          2022.127,
          2022.128,
          2022.129,
          2022.13,
          2022.131,
          2022.201,
          2022.202,
          2022.203,
          2022.204,
          2022.205,
          2022.206,
          2022.207,
          2022.208,
          2022.209,
          2022.21,
          2022.211,
          2022.212,
          2022.213,
          2022.214,
          2022.215,
          2022.216,
          2022.217,
          2022.218,
          2022.219,
          2022.22,
          2022.221,
          2022.222,
          2022.223,
          2022.224,
          2022.225,
          2022.226,
          2022.227,
          2022.228,
          2022.301,
          2022.302,
          2022.303,
          2022.304,
          2022.305,
          2022.306,
          2022.307,
          2022.308,
          2022.309,
          2022.31,
          2022.311,
          2022.312,
          2022.313,
          2022.314,
          2022.315,
          2022.316,
          2022.317,
          2022.318,
          2022.319,
          2022.32,
          2022.321,
          2022.322,
          2022.323,
          2022.324,
          2022.325,
          2022.326,
          2022.327,
          2022.328,
          2022.329,
          2022.33,
          2022.331,
          2022.401,
          2022.402,
          2022.403,
          2022.404,
          2022.405,
          2022.406,
          2022.407,
          2022.408,
          2022.409,
          2022.41,
          2022.411,
          2022.412,
          2022.413,
          2022.414,
          2022.415,
          2022.416,
          2022.417,
          2022.418,
          2022.419,
          2022.42,
          2022.421
         ],
         "xaxis": "x",
         "y": [
          -168,
          -625,
          -1259,
          -1005,
          -618,
          -852,
          -2053,
          -353,
          -555,
          -1370,
          -924,
          -979,
          -650,
          -893,
          -769,
          -814,
          -1137,
          -996,
          -1087,
          -973,
          -1125,
          -928,
          -620,
          -1389,
          -1131,
          -735,
          -1414,
          -1049,
          -743,
          -298,
          -1271,
          -965,
          -758,
          -927,
          -1045,
          -931,
          -516,
          -917,
          -371,
          -1009,
          -1085,
          -1461,
          -660,
          -335,
          -1189,
          -785,
          -905,
          -1258,
          -1724,
          -716,
          -460,
          -908,
          -1341,
          -1080,
          -1082,
          -2149,
          -1158,
          -631,
          -486,
          -369,
          -650,
          -1454,
          -1193,
          -686,
          -283,
          -1272,
          -1046,
          -1211,
          -1971,
          -1409,
          -506,
          -529,
          -1168,
          -1089,
          -1197,
          -1226,
          -1641,
          -901,
          -970,
          -157,
          -1699,
          -1438,
          -1816,
          -1456,
          -959,
          -553,
          -1434,
          -1117,
          -1278,
          -1820,
          -2035,
          -591,
          -430,
          -1314,
          -1176,
          -1173,
          -1638,
          -1476,
          -1260,
          -1147,
          -1857,
          -1362,
          -1952,
          -1683,
          -594,
          -1036,
          -649,
          -1068,
          -1770,
          -1998,
          -1021
         ],
         "yaxis": "y"
        },
        {
         "hovertemplate": "<b>OLS trendline</b><br>qtd = -1277.55 * dtr + 2.58246e+06<br>R<sup>2</sup>=0.094562<br><br>dtr=%{x}<br>qtd=%{y} <b>(trend)</b><extra></extra>",
         "legendgroup": "",
         "marker": {
          "color": "#636efa",
          "symbol": "circle"
         },
         "mode": "lines",
         "name": "",
         "showlegend": false,
         "type": "scatter",
         "x": [
          2022.101,
          2022.102,
          2022.103,
          2022.104,
          2022.105,
          2022.106,
          2022.107,
          2022.108,
          2022.109,
          2022.11,
          2022.111,
          2022.112,
          2022.113,
          2022.114,
          2022.115,
          2022.116,
          2022.117,
          2022.118,
          2022.119,
          2022.12,
          2022.121,
          2022.122,
          2022.123,
          2022.124,
          2022.125,
          2022.126,
          2022.127,
          2022.128,
          2022.129,
          2022.13,
          2022.131,
          2022.201,
          2022.202,
          2022.203,
          2022.204,
          2022.205,
          2022.206,
          2022.207,
          2022.208,
          2022.209,
          2022.21,
          2022.211,
          2022.212,
          2022.213,
          2022.214,
          2022.215,
          2022.216,
          2022.217,
          2022.218,
          2022.219,
          2022.22,
          2022.221,
          2022.222,
          2022.223,
          2022.224,
          2022.225,
          2022.226,
          2022.227,
          2022.228,
          2022.301,
          2022.302,
          2022.303,
          2022.304,
          2022.305,
          2022.306,
          2022.307,
          2022.308,
          2022.309,
          2022.31,
          2022.311,
          2022.312,
          2022.313,
          2022.314,
          2022.315,
          2022.316,
          2022.317,
          2022.318,
          2022.319,
          2022.32,
          2022.321,
          2022.322,
          2022.323,
          2022.324,
          2022.325,
          2022.326,
          2022.327,
          2022.328,
          2022.329,
          2022.33,
          2022.331,
          2022.401,
          2022.402,
          2022.403,
          2022.404,
          2022.405,
          2022.406,
          2022.407,
          2022.408,
          2022.409,
          2022.41,
          2022.411,
          2022.412,
          2022.413,
          2022.414,
          2022.415,
          2022.416,
          2022.417,
          2022.418,
          2022.419,
          2022.42,
          2022.421
         ],
         "xaxis": "x",
         "y": [
          -863.7589865662158,
          -865.0365316066891,
          -866.3140766471624,
          -867.5916216876358,
          -868.8691667281091,
          -870.1467117685825,
          -871.4242568090558,
          -872.7018018495291,
          -873.9793468900025,
          -875.2568919304758,
          -876.5344369714148,
          -877.8119820118882,
          -879.0895270523615,
          -880.3670720928349,
          -881.6446171333082,
          -882.9221621737815,
          -884.1997072142549,
          -885.4772522547282,
          -886.7547972952016,
          -888.0323423356749,
          -889.3098873766139,
          -890.5874324170873,
          -891.8649774575606,
          -893.1425224980339,
          -894.4200675385073,
          -895.6976125789806,
          -896.975157619454,
          -898.2527026599273,
          -899.5302477004007,
          -900.807792740874,
          -902.0853377813473,
          -991.5134906168096,
          -992.7910356572829,
          -994.0685806977563,
          -995.3461257382296,
          -996.623670778703,
          -997.9012158191763,
          -999.1787608601153,
          -1000.4563059005886,
          -1001.733850941062,
          -1003.0113959815353,
          -1004.2889410220087,
          -1005.566486062482,
          -1006.8440311029553,
          -1008.1215761434287,
          -1009.399121183902,
          -1010.6766662243754,
          -1011.9542112653144,
          -1013.2317563057877,
          -1014.509301346261,
          -1015.7868463867344,
          -1017.0643914272077,
          -1018.3419364676811,
          -1019.6194815081544,
          -1020.8970265486278,
          -1022.1745715891011,
          -1023.4521166295744,
          -1024.7296616700478,
          -1026.0072067105211,
          -1119.2679946674034,
          -1120.5455397078767,
          -1121.8230847488157,
          -1123.100629789289,
          -1124.3781748297624,
          -1125.6557198702358,
          -1126.933264910709,
          -1128.2108099511825,
          -1129.4883549916558,
          -1130.7659000321291,
          -1132.0434450726025,
          -1133.3209901130758,
          -1134.5985351540148,
          -1135.8760801944882,
          -1137.1536252349615,
          -1138.4311702754349,
          -1139.7087153159082,
          -1140.9862603563815,
          -1142.2638053968549,
          -1143.5413504373282,
          -1144.8188954778016,
          -1146.096440518275,
          -1147.3739855587482,
          -1148.6515305992216,
          -1149.929075639695,
          -1151.2066206801683,
          -1152.4841657206416,
          -1153.761710761115,
          -1155.0392558015883,
          -1156.3168008420616,
          -1157.594345882535,
          -1247.0224987184629,
          -1248.3000437589362,
          -1249.5775887994096,
          -1250.855133839883,
          -1252.1326788803563,
          -1253.4102239208296,
          -1254.687768961303,
          -1255.9653140017763,
          -1257.2428590427153,
          -1258.5204040831886,
          -1259.797949123662,
          -1261.0754941641353,
          -1262.3530392046086,
          -1263.630584245082,
          -1264.9081292855553,
          -1266.1856743260287,
          -1267.463219366502,
          -1268.7407644069754,
          -1270.0183094474487,
          -1271.295854487922,
          -1272.5733995283954
         ],
         "yaxis": "y"
        }
       ],
       "layout": {
        "legend": {
         "tracegroupgap": 0
        },
        "margin": {
         "t": 60
        },
        "template": {
         "data": {
          "bar": [
           {
            "error_x": {
             "color": "#2a3f5f"
            },
            "error_y": {
             "color": "#2a3f5f"
            },
            "marker": {
             "line": {
              "color": "#E5ECF6",
              "width": 0.5
             },
             "pattern": {
              "fillmode": "overlay",
              "size": 10,
              "solidity": 0.2
             }
            },
            "type": "bar"
           }
          ],
          "barpolar": [
           {
            "marker": {
             "line": {
              "color": "#E5ECF6",
              "width": 0.5
             },
             "pattern": {
              "fillmode": "overlay",
              "size": 10,
              "solidity": 0.2
             }
            },
            "type": "barpolar"
           }
          ],
          "carpet": [
           {
            "aaxis": {
             "endlinecolor": "#2a3f5f",
             "gridcolor": "white",
             "linecolor": "white",
             "minorgridcolor": "white",
             "startlinecolor": "#2a3f5f"
            },
            "baxis": {
             "endlinecolor": "#2a3f5f",
             "gridcolor": "white",
             "linecolor": "white",
             "minorgridcolor": "white",
             "startlinecolor": "#2a3f5f"
            },
            "type": "carpet"
           }
          ],
          "choropleth": [
           {
            "colorbar": {
             "outlinewidth": 0,
             "ticks": ""
            },
            "type": "choropleth"
           }
          ],
          "contour": [
           {
            "colorbar": {
             "outlinewidth": 0,
             "ticks": ""
            },
            "colorscale": [
             [
              0,
              "#0d0887"
             ],
             [
              0.1111111111111111,
              "#46039f"
             ],
             [
              0.2222222222222222,
              "#7201a8"
             ],
             [
              0.3333333333333333,
              "#9c179e"
             ],
             [
              0.4444444444444444,
              "#bd3786"
             ],
             [
              0.5555555555555556,
              "#d8576b"
             ],
             [
              0.6666666666666666,
              "#ed7953"
             ],
             [
              0.7777777777777778,
              "#fb9f3a"
             ],
             [
              0.8888888888888888,
              "#fdca26"
             ],
             [
              1,
              "#f0f921"
             ]
            ],
            "type": "contour"
           }
          ],
          "contourcarpet": [
           {
            "colorbar": {
             "outlinewidth": 0,
             "ticks": ""
            },
            "type": "contourcarpet"
           }
          ],
          "heatmap": [
           {
            "colorbar": {
             "outlinewidth": 0,
             "ticks": ""
            },
            "colorscale": [
             [
              0,
              "#0d0887"
             ],
             [
              0.1111111111111111,
              "#46039f"
             ],
             [
              0.2222222222222222,
              "#7201a8"
             ],
             [
              0.3333333333333333,
              "#9c179e"
             ],
             [
              0.4444444444444444,
              "#bd3786"
             ],
             [
              0.5555555555555556,
              "#d8576b"
             ],
             [
              0.6666666666666666,
              "#ed7953"
             ],
             [
              0.7777777777777778,
              "#fb9f3a"
             ],
             [
              0.8888888888888888,
              "#fdca26"
             ],
             [
              1,
              "#f0f921"
             ]
            ],
            "type": "heatmap"
           }
          ],
          "heatmapgl": [
           {
            "colorbar": {
             "outlinewidth": 0,
             "ticks": ""
            },
            "colorscale": [
             [
              0,
              "#0d0887"
             ],
             [
              0.1111111111111111,
              "#46039f"
             ],
             [
              0.2222222222222222,
              "#7201a8"
             ],
             [
              0.3333333333333333,
              "#9c179e"
             ],
             [
              0.4444444444444444,
              "#bd3786"
             ],
             [
              0.5555555555555556,
              "#d8576b"
             ],
             [
              0.6666666666666666,
              "#ed7953"
             ],
             [
              0.7777777777777778,
              "#fb9f3a"
             ],
             [
              0.8888888888888888,
              "#fdca26"
             ],
             [
              1,
              "#f0f921"
             ]
            ],
            "type": "heatmapgl"
           }
          ],
          "histogram": [
           {
            "marker": {
             "pattern": {
              "fillmode": "overlay",
              "size": 10,
              "solidity": 0.2
             }
            },
            "type": "histogram"
           }
          ],
          "histogram2d": [
           {
            "colorbar": {
             "outlinewidth": 0,
             "ticks": ""
            },
            "colorscale": [
             [
              0,
              "#0d0887"
             ],
             [
              0.1111111111111111,
              "#46039f"
             ],
             [
              0.2222222222222222,
              "#7201a8"
             ],
             [
              0.3333333333333333,
              "#9c179e"
             ],
             [
              0.4444444444444444,
              "#bd3786"
             ],
             [
              0.5555555555555556,
              "#d8576b"
             ],
             [
              0.6666666666666666,
              "#ed7953"
             ],
             [
              0.7777777777777778,
              "#fb9f3a"
             ],
             [
              0.8888888888888888,
              "#fdca26"
             ],
             [
              1,
              "#f0f921"
             ]
            ],
            "type": "histogram2d"
           }
          ],
          "histogram2dcontour": [
           {
            "colorbar": {
             "outlinewidth": 0,
             "ticks": ""
            },
            "colorscale": [
             [
              0,
              "#0d0887"
             ],
             [
              0.1111111111111111,
              "#46039f"
             ],
             [
              0.2222222222222222,
              "#7201a8"
             ],
             [
              0.3333333333333333,
              "#9c179e"
             ],
             [
              0.4444444444444444,
              "#bd3786"
             ],
             [
              0.5555555555555556,
              "#d8576b"
             ],
             [
              0.6666666666666666,
              "#ed7953"
             ],
             [
              0.7777777777777778,
              "#fb9f3a"
             ],
             [
              0.8888888888888888,
              "#fdca26"
             ],
             [
              1,
              "#f0f921"
             ]
            ],
            "type": "histogram2dcontour"
           }
          ],
          "mesh3d": [
           {
            "colorbar": {
             "outlinewidth": 0,
             "ticks": ""
            },
            "type": "mesh3d"
           }
          ],
          "parcoords": [
           {
            "line": {
             "colorbar": {
              "outlinewidth": 0,
              "ticks": ""
             }
            },
            "type": "parcoords"
           }
          ],
          "pie": [
           {
            "automargin": true,
            "type": "pie"
           }
          ],
          "scatter": [
           {
            "fillpattern": {
             "fillmode": "overlay",
             "size": 10,
             "solidity": 0.2
            },
            "type": "scatter"
           }
          ],
          "scatter3d": [
           {
            "line": {
             "colorbar": {
              "outlinewidth": 0,
              "ticks": ""
             }
            },
            "marker": {
             "colorbar": {
              "outlinewidth": 0,
              "ticks": ""
             }
            },
            "type": "scatter3d"
           }
          ],
          "scattercarpet": [
           {
            "marker": {
             "colorbar": {
              "outlinewidth": 0,
              "ticks": ""
             }
            },
            "type": "scattercarpet"
           }
          ],
          "scattergeo": [
           {
            "marker": {
             "colorbar": {
              "outlinewidth": 0,
              "ticks": ""
             }
            },
            "type": "scattergeo"
           }
          ],
          "scattergl": [
           {
            "marker": {
             "colorbar": {
              "outlinewidth": 0,
              "ticks": ""
             }
            },
            "type": "scattergl"
           }
          ],
          "scattermapbox": [
           {
            "marker": {
             "colorbar": {
              "outlinewidth": 0,
              "ticks": ""
             }
            },
            "type": "scattermapbox"
           }
          ],
          "scatterpolar": [
           {
            "marker": {
             "colorbar": {
              "outlinewidth": 0,
              "ticks": ""
             }
            },
            "type": "scatterpolar"
           }
          ],
          "scatterpolargl": [
           {
            "marker": {
             "colorbar": {
              "outlinewidth": 0,
              "ticks": ""
             }
            },
            "type": "scatterpolargl"
           }
          ],
          "scatterternary": [
           {
            "marker": {
             "colorbar": {
              "outlinewidth": 0,
              "ticks": ""
             }
            },
            "type": "scatterternary"
           }
          ],
          "surface": [
           {
            "colorbar": {
             "outlinewidth": 0,
             "ticks": ""
            },
            "colorscale": [
             [
              0,
              "#0d0887"
             ],
             [
              0.1111111111111111,
              "#46039f"
             ],
             [
              0.2222222222222222,
              "#7201a8"
             ],
             [
              0.3333333333333333,
              "#9c179e"
             ],
             [
              0.4444444444444444,
              "#bd3786"
             ],
             [
              0.5555555555555556,
              "#d8576b"
             ],
             [
              0.6666666666666666,
              "#ed7953"
             ],
             [
              0.7777777777777778,
              "#fb9f3a"
             ],
             [
              0.8888888888888888,
              "#fdca26"
             ],
             [
              1,
              "#f0f921"
             ]
            ],
            "type": "surface"
           }
          ],
          "table": [
           {
            "cells": {
             "fill": {
              "color": "#EBF0F8"
             },
             "line": {
              "color": "white"
             }
            },
            "header": {
             "fill": {
              "color": "#C8D4E3"
             },
             "line": {
              "color": "white"
             }
            },
            "type": "table"
           }
          ]
         },
         "layout": {
          "annotationdefaults": {
           "arrowcolor": "#2a3f5f",
           "arrowhead": 0,
           "arrowwidth": 1
          },
          "autotypenumbers": "strict",
          "coloraxis": {
           "colorbar": {
            "outlinewidth": 0,
            "ticks": ""
           }
          },
          "colorscale": {
           "diverging": [
            [
             0,
             "#8e0152"
            ],
            [
             0.1,
             "#c51b7d"
            ],
            [
             0.2,
             "#de77ae"
            ],
            [
             0.3,
             "#f1b6da"
            ],
            [
             0.4,
             "#fde0ef"
            ],
            [
             0.5,
             "#f7f7f7"
            ],
            [
             0.6,
             "#e6f5d0"
            ],
            [
             0.7,
             "#b8e186"
            ],
            [
             0.8,
             "#7fbc41"
            ],
            [
             0.9,
             "#4d9221"
            ],
            [
             1,
             "#276419"
            ]
           ],
           "sequential": [
            [
             0,
             "#0d0887"
            ],
            [
             0.1111111111111111,
             "#46039f"
            ],
            [
             0.2222222222222222,
             "#7201a8"
            ],
            [
             0.3333333333333333,
             "#9c179e"
            ],
            [
             0.4444444444444444,
             "#bd3786"
            ],
            [
             0.5555555555555556,
             "#d8576b"
            ],
            [
             0.6666666666666666,
             "#ed7953"
            ],
            [
             0.7777777777777778,
             "#fb9f3a"
            ],
            [
             0.8888888888888888,
             "#fdca26"
            ],
            [
             1,
             "#f0f921"
            ]
           ],
           "sequentialminus": [
            [
             0,
             "#0d0887"
            ],
            [
             0.1111111111111111,
             "#46039f"
            ],
            [
             0.2222222222222222,
             "#7201a8"
            ],
            [
             0.3333333333333333,
             "#9c179e"
            ],
            [
             0.4444444444444444,
             "#bd3786"
            ],
            [
             0.5555555555555556,
             "#d8576b"
            ],
            [
             0.6666666666666666,
             "#ed7953"
            ],
            [
             0.7777777777777778,
             "#fb9f3a"
            ],
            [
             0.8888888888888888,
             "#fdca26"
            ],
            [
             1,
             "#f0f921"
            ]
           ]
          },
          "colorway": [
           "#636efa",
           "#EF553B",
           "#00cc96",
           "#ab63fa",
           "#FFA15A",
           "#19d3f3",
           "#FF6692",
           "#B6E880",
           "#FF97FF",
           "#FECB52"
          ],
          "font": {
           "color": "#2a3f5f"
          },
          "geo": {
           "bgcolor": "white",
           "lakecolor": "white",
           "landcolor": "#E5ECF6",
           "showlakes": true,
           "showland": true,
           "subunitcolor": "white"
          },
          "hoverlabel": {
           "align": "left"
          },
          "hovermode": "closest",
          "mapbox": {
           "style": "light"
          },
          "paper_bgcolor": "white",
          "plot_bgcolor": "#E5ECF6",
          "polar": {
           "angularaxis": {
            "gridcolor": "white",
            "linecolor": "white",
            "ticks": ""
           },
           "bgcolor": "#E5ECF6",
           "radialaxis": {
            "gridcolor": "white",
            "linecolor": "white",
            "ticks": ""
           }
          },
          "scene": {
           "xaxis": {
            "backgroundcolor": "#E5ECF6",
            "gridcolor": "white",
            "gridwidth": 2,
            "linecolor": "white",
            "showbackground": true,
            "ticks": "",
            "zerolinecolor": "white"
           },
           "yaxis": {
            "backgroundcolor": "#E5ECF6",
            "gridcolor": "white",
            "gridwidth": 2,
            "linecolor": "white",
            "showbackground": true,
            "ticks": "",
            "zerolinecolor": "white"
           },
           "zaxis": {
            "backgroundcolor": "#E5ECF6",
            "gridcolor": "white",
            "gridwidth": 2,
            "linecolor": "white",
            "showbackground": true,
            "ticks": "",
            "zerolinecolor": "white"
           }
          },
          "shapedefaults": {
           "line": {
            "color": "#2a3f5f"
           }
          },
          "ternary": {
           "aaxis": {
            "gridcolor": "white",
            "linecolor": "white",
            "ticks": ""
           },
           "baxis": {
            "gridcolor": "white",
            "linecolor": "white",
            "ticks": ""
           },
           "bgcolor": "#E5ECF6",
           "caxis": {
            "gridcolor": "white",
            "linecolor": "white",
            "ticks": ""
           }
          },
          "title": {
           "x": 0.05
          },
          "xaxis": {
           "automargin": true,
           "gridcolor": "white",
           "linecolor": "white",
           "ticks": "",
           "title": {
            "standoff": 15
           },
           "zerolinecolor": "white",
           "zerolinewidth": 2
          },
          "yaxis": {
           "automargin": true,
           "gridcolor": "white",
           "linecolor": "white",
           "ticks": "",
           "title": {
            "standoff": 15
           },
           "zerolinecolor": "white",
           "zerolinewidth": 2
          }
         }
        },
        "xaxis": {
         "anchor": "y",
         "domain": [
          0,
          1
         ],
         "title": {
          "text": "dtr"
         }
        },
        "yaxis": {
         "anchor": "x",
         "domain": [
          0,
          1
         ],
         "title": {
          "text": "qtd"
         }
        }
       }
      }
     },
     "metadata": {},
     "output_type": "display_data"
    }
   ],
   "source": [
    "import plotly.express as px\n",
    "import os\n",
    "import pandas  as pd\n",
    " \n",
    "#Changing the current working directory\n",
    "\n",
    "df = pd.read_json(\"VendaFINALDC.json\")\n",
    "df = df.copy()\n",
    " \n",
    "categorical_col_updated = ['qtd','dtr']\n",
    "#bike = pandas.get_dummies(bike, columns = categorical_col_updated) \n",
    " \n",
    "#Separating the dependent and independent data variables into two data frames.\n",
    "from sklearn.model_selection import train_test_split \n",
    "  \n",
    "X =df.drop(['dtr'],axis=1) \n",
    "Y = df['qtd']\n",
    " \n",
    "#Building the Decision Tree Model on our dataset\n",
    "from sklearn.tree import DecisionTreeRegressor\n",
    "X_train, X_test, Y_train, Y_test = train_test_split(df, Y, test_size=0.2, random_state=0)\n",
    "\n",
    "print (X_test.shape, Y_test.shape)\n",
    "DT_model = DecisionTreeRegressor(max_depth=5).fit(X_train,Y_train)\n",
    "DT_predict = DT_model.predict(X_test) #Predictions on Testing data\n",
    "print(DT_predict)\n",
    "\n",
    "#! pip install statsmodels\n",
    "\n",
    "df =pd.read_json(\"VendaFINALDC.json\")\n",
    "fig = px.scatter(df, x=\"dtr\", y=\"qtd\", trendline=\"ols\")\n",
    "fig.show()"
   ]
  }
 ],
 "metadata": {
  "kernelspec": {
   "display_name": "Python 3.9.7 ('tensorflow_env')",
   "language": "python",
   "name": "python3"
  },
  "language_info": {
   "codemirror_mode": {
    "name": "ipython",
    "version": 3
   },
   "file_extension": ".py",
   "mimetype": "text/x-python",
   "name": "python",
   "nbconvert_exporter": "python",
   "pygments_lexer": "ipython3",
   "version": "3.9.7"
  },
  "orig_nbformat": 4,
  "vscode": {
   "interpreter": {
    "hash": "a93e786dcde600a11c7b7ace000f4d95c3c1cfb12cea541026ad67c9b872ce41"
   }
  }
 },
 "nbformat": 4,
 "nbformat_minor": 2
}
